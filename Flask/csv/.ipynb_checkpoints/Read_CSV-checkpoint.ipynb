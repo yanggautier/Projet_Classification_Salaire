{
 "cells": [
  {
   "cell_type": "code",
   "execution_count": 2,
   "metadata": {
    "ExecuteTime": {
     "end_time": "2020-06-08T09:29:18.262241Z",
     "start_time": "2020-06-08T09:29:14.517608Z"
    }
   },
   "outputs": [],
   "source": [
    "\n",
    "import pandas as pd"
   ]
  },
  {
   "cell_type": "code",
   "execution_count": 66,
   "metadata": {
    "ExecuteTime": {
     "end_time": "2020-06-08T11:04:39.838384Z",
     "start_time": "2020-06-08T11:04:39.372501Z"
    }
   },
   "outputs": [],
   "source": [
    "jobs = ['Data scientist', 'Python', 'Javascript', 'Java',\n",
    "        'Data scientist', 'Python', 'Javascript', 'Java']\n",
    "countrys = ['France', 'France', 'France', 'France', 'USA', 'USA', 'USA', 'USA']\n",
    "\n",
    "\n",
    "filenames = [str.lower(job).replace(' ', '') + str.lower(country) + '.csv' for job, country in zip(jobs, countrys)]\n",
    "dfs = [pd.read_csv(filename, sep=';', encoding=\"utf-8-sig\") for filename in filenames]"
   ]
  },
  {
   "cell_type": "code",
   "execution_count": 59,
   "metadata": {
    "ExecuteTime": {
     "end_time": "2020-06-08T09:54:51.958267Z",
     "start_time": "2020-06-08T09:54:51.938338Z"
    }
   },
   "outputs": [],
   "source": [
    "# # Ajouter une colonne indique le métier\n",
    "# dfs[0]['Métier'] = 'Data Scientist'\n",
    "# dfs[1]['Métier'] = 'Développeur Python'\n",
    "# dfs[2]['Métier'] = 'Développeur JavaScript'\n",
    "# dfs[3]['Métier'] = 'Développeur Java'\n",
    "# dfs[4]['Métier'] = 'Data Scientist'\n",
    "# dfs[5]['Métier'] = 'Développeur Python'\n",
    "# dfs[6]['Métier'] = 'Développeur JavaScript'\n",
    "# dfs[7]['Métier'] = 'Développeur Java'\n",
    "\n",
    "# Créer le dataframe à partir de la concaténations de ces fichiers\n",
    "df = pd.concat(dfs)\n",
    "df = df[df.Description.isna() == False]"
   ]
  },
  {
   "cell_type": "code",
   "execution_count": 40,
   "metadata": {
    "ExecuteTime": {
     "end_time": "2020-06-08T09:44:39.265626Z",
     "start_time": "2020-06-08T09:44:39.250671Z"
    }
   },
   "outputs": [
    {
     "data": {
      "text/html": [
       "<div>\n",
       "<style scoped>\n",
       "    .dataframe tbody tr th:only-of-type {\n",
       "        vertical-align: middle;\n",
       "    }\n",
       "\n",
       "    .dataframe tbody tr th {\n",
       "        vertical-align: top;\n",
       "    }\n",
       "\n",
       "    .dataframe thead th {\n",
       "        text-align: right;\n",
       "    }\n",
       "</style>\n",
       "<table border=\"1\" class=\"dataframe\">\n",
       "  <thead>\n",
       "    <tr style=\"text-align: right;\">\n",
       "      <th></th>\n",
       "      <th>Poste</th>\n",
       "      <th>Métier</th>\n",
       "      <th>Pays</th>\n",
       "      <th>Ville</th>\n",
       "      <th>Entreprise</th>\n",
       "      <th>Contrat</th>\n",
       "      <th>Salaire</th>\n",
       "      <th>Description</th>\n",
       "    </tr>\n",
       "  </thead>\n",
       "  <tbody>\n",
       "    <tr>\n",
       "      <th>0</th>\n",
       "      <td>Alternance - Data Scientist H/F</td>\n",
       "      <td>Data scientist</td>\n",
       "      <td>France</td>\n",
       "      <td>Paris 9e (75)</td>\n",
       "      <td>Malakoff Humanis</td>\n",
       "      <td>Apprentissage, Contrat pro</td>\n",
       "      <td>NaN</td>\n",
       "      <td>Paris 9e (75) Apprentissage, Contrat pro Contr...</td>\n",
       "    </tr>\n",
       "    <tr>\n",
       "      <th>1</th>\n",
       "      <td>Senior Data Scientist H/F (75)</td>\n",
       "      <td>Data scientist</td>\n",
       "      <td>France</td>\n",
       "      <td>Paris (75)</td>\n",
       "      <td>Rexel</td>\n",
       "      <td>NaN</td>\n",
       "      <td>NaN</td>\n",
       "      <td>Paris (75) Senior Data Scientist H/F (75) Expe...</td>\n",
       "    </tr>\n",
       "    <tr>\n",
       "      <th>2</th>\n",
       "      <td>Alternant(e) Data Scientist H/F</td>\n",
       "      <td>Data scientist</td>\n",
       "      <td>France</td>\n",
       "      <td>Boulogne-Billancourt (92)</td>\n",
       "      <td>TF1</td>\n",
       "      <td>NaN</td>\n",
       "      <td>NaN</td>\n",
       "      <td>Boulogne-Billancourt (92) Apprentissage, Contr...</td>\n",
       "    </tr>\n",
       "    <tr>\n",
       "      <th>3</th>\n",
       "      <td>ALTERNANT DATA SCIENTIST H/F</td>\n",
       "      <td>Data scientist</td>\n",
       "      <td>France</td>\n",
       "      <td>Issy-les-Moulineaux (92)</td>\n",
       "      <td>BNP Paribas</td>\n",
       "      <td>Apprentissage, Contrat pro</td>\n",
       "      <td>NaN</td>\n",
       "      <td>Issy-les-Moulineaux (92) Apprentissage, Contra...</td>\n",
       "    </tr>\n",
       "    <tr>\n",
       "      <th>4</th>\n",
       "      <td>Data Scientist H/F</td>\n",
       "      <td>Data scientist</td>\n",
       "      <td>France</td>\n",
       "      <td>La Défense (92)</td>\n",
       "      <td>AGYLIS</td>\n",
       "      <td>Temps plein, CDI</td>\n",
       "      <td>40 000 € - 50 000 € par an</td>\n",
       "      <td>La Défense (92) Temps plein, CDI 40 000 € - 50...</td>\n",
       "    </tr>\n",
       "  </tbody>\n",
       "</table>\n",
       "</div>"
      ],
      "text/plain": [
       "                             Poste          Métier    Pays  \\\n",
       "0  Alternance - Data Scientist H/F  Data scientist  France   \n",
       "1   Senior Data Scientist H/F (75)  Data scientist  France   \n",
       "2  Alternant(e) Data Scientist H/F  Data scientist  France   \n",
       "3     ALTERNANT DATA SCIENTIST H/F  Data scientist  France   \n",
       "4               Data Scientist H/F  Data scientist  France   \n",
       "\n",
       "                       Ville        Entreprise                     Contrat  \\\n",
       "0              Paris 9e (75)  Malakoff Humanis  Apprentissage, Contrat pro   \n",
       "1                 Paris (75)             Rexel                         NaN   \n",
       "2  Boulogne-Billancourt (92)               TF1                         NaN   \n",
       "3   Issy-les-Moulineaux (92)       BNP Paribas  Apprentissage, Contrat pro   \n",
       "4            La Défense (92)            AGYLIS            Temps plein, CDI   \n",
       "\n",
       "                      Salaire  \\\n",
       "0                         NaN   \n",
       "1                         NaN   \n",
       "2                         NaN   \n",
       "3                         NaN   \n",
       "4  40 000 € - 50 000 € par an   \n",
       "\n",
       "                                         Description  \n",
       "0  Paris 9e (75) Apprentissage, Contrat pro Contr...  \n",
       "1  Paris (75) Senior Data Scientist H/F (75) Expe...  \n",
       "2  Boulogne-Billancourt (92) Apprentissage, Contr...  \n",
       "3  Issy-les-Moulineaux (92) Apprentissage, Contra...  \n",
       "4  La Défense (92) Temps plein, CDI 40 000 € - 50...  "
      ]
     },
     "execution_count": 40,
     "metadata": {},
     "output_type": "execute_result"
    }
   ],
   "source": [
    "df.head()"
   ]
  },
  {
   "cell_type": "code",
   "execution_count": 13,
   "metadata": {
    "ExecuteTime": {
     "end_time": "2020-06-08T09:35:50.784605Z",
     "start_time": "2020-06-08T09:35:50.778621Z"
    }
   },
   "outputs": [
    {
     "data": {
      "text/plain": [
       "(7334, 8)"
      ]
     },
     "execution_count": 13,
     "metadata": {},
     "output_type": "execute_result"
    }
   ],
   "source": [
    "df.shape"
   ]
  },
  {
   "cell_type": "code",
   "execution_count": 15,
   "metadata": {
    "ExecuteTime": {
     "end_time": "2020-06-08T09:36:40.678675Z",
     "start_time": "2020-06-08T09:36:40.671648Z"
    }
   },
   "outputs": [
    {
     "data": {
      "text/plain": [
       "6230"
      ]
     },
     "execution_count": 15,
     "metadata": {},
     "output_type": "execute_result"
    }
   ],
   "source": [
    "df['Salaire'].isna().sum()"
   ]
  },
  {
   "cell_type": "code",
   "execution_count": 17,
   "metadata": {
    "ExecuteTime": {
     "end_time": "2020-06-08T09:37:45.443364Z",
     "start_time": "2020-06-08T09:37:45.431399Z"
    }
   },
   "outputs": [
    {
     "name": "stdout",
     "output_type": "stream",
     "text": [
      "<class 'pandas.core.frame.DataFrame'>\n",
      "Int64Index: 7334 entries, 0 to 783\n",
      "Data columns (total 8 columns):\n",
      " #   Column       Non-Null Count  Dtype \n",
      "---  ------       --------------  ----- \n",
      " 0   Poste        7333 non-null   object\n",
      " 1   Métier       7334 non-null   object\n",
      " 2   Pays         7334 non-null   object\n",
      " 3   Ville        7334 non-null   object\n",
      " 4   Entreprise   7332 non-null   object\n",
      " 5   Contrat      1018 non-null   object\n",
      " 6   Salaire      1104 non-null   object\n",
      " 7   Description  7334 non-null   object\n",
      "dtypes: object(8)\n",
      "memory usage: 515.7+ KB\n"
     ]
    }
   ],
   "source": [
    "df.info()"
   ]
  },
  {
   "cell_type": "code",
   "execution_count": 31,
   "metadata": {
    "ExecuteTime": {
     "end_time": "2020-06-08T09:41:13.939493Z",
     "start_time": "2020-06-08T09:41:13.870644Z"
    }
   },
   "outputs": [],
   "source": [
    "df = df.drop_duplicates()"
   ]
  },
  {
   "cell_type": "code",
   "execution_count": 32,
   "metadata": {
    "ExecuteTime": {
     "end_time": "2020-06-08T09:41:16.572806Z",
     "start_time": "2020-06-08T09:41:16.562834Z"
    }
   },
   "outputs": [
    {
     "name": "stdout",
     "output_type": "stream",
     "text": [
      "<class 'pandas.core.frame.DataFrame'>\n",
      "Int64Index: 6376 entries, 0 to 783\n",
      "Data columns (total 8 columns):\n",
      " #   Column       Non-Null Count  Dtype \n",
      "---  ------       --------------  ----- \n",
      " 0   Poste        6375 non-null   object\n",
      " 1   Métier       6376 non-null   object\n",
      " 2   Pays         6376 non-null   object\n",
      " 3   Ville        6376 non-null   object\n",
      " 4   Entreprise   6374 non-null   object\n",
      " 5   Contrat      957 non-null    object\n",
      " 6   Salaire      1008 non-null   object\n",
      " 7   Description  6376 non-null   object\n",
      "dtypes: object(8)\n",
      "memory usage: 448.3+ KB\n"
     ]
    }
   ],
   "source": [
    "df.info()"
   ]
  },
  {
   "cell_type": "code",
   "execution_count": 41,
   "metadata": {
    "ExecuteTime": {
     "end_time": "2020-06-08T09:44:46.120634Z",
     "start_time": "2020-06-08T09:44:46.111658Z"
    }
   },
   "outputs": [
    {
     "data": {
      "text/plain": [
       "CDI                                                    436\n",
       "Temps plein, CDI                                       228\n",
       "Stage                                                   89\n",
       "Apprentissage, Contrat pro                              60\n",
       "Temps plein, Stage                                      46\n",
       "Temps plein, Freelance / Indépendant                    38\n",
       "Temps plein, CDD                                        22\n",
       "Temps plein, Apprentissage                              13\n",
       "Temps plein, Apprentissage, Contrat pro                 13\n",
       "CDD                                                     10\n",
       "Stage, Apprentissage, Contrat pro                        7\n",
       "CDD, CDI                                                 7\n",
       "Apprentissage                                            6\n",
       "Intérim, Stage                                           5\n",
       "Temps plein, Temps partiel, Stage                        4\n",
       "Temps partiel                                            4\n",
       "Freelance / Indépendant                                  3\n",
       "Temps partiel, Stage                                     3\n",
       "Intérim                                                  3\n",
       "Temps plein, Contrat pro                                 3\n",
       "Temps plein, Temps partiel, Freelance / Indépendant      2\n",
       "Temps partiel, Apprentissage, Contrat pro                2\n",
       "Temps plein, CDD, CDI                                    2\n",
       "Temps plein, Temps partiel, CDD                          2\n",
       "Stage, CDI                                               1\n",
       "Freelance / Indépendant, CDI                             1\n",
       "Temps plein, Freelance / Indépendant, CDI                1\n",
       "Temps plein, CDI, Apprentissage, Contrat pro             1\n",
       "Stage, Freelance / Indépendant                           1\n",
       "Temps plein, Intérim                                     1\n",
       "Temps plein, Stage, Apprentissage, Contrat pro           1\n",
       "Temps plein, Stage, Apprentissage                        1\n",
       "Temps plein, Temps partiel, Apprentissage                1\n",
       "Stage, CDI, Apprentissage, Contrat pro                   1\n",
       "Name: Contrat, dtype: int64"
      ]
     },
     "execution_count": 41,
     "metadata": {},
     "output_type": "execute_result"
    }
   ],
   "source": [
    "df['Contrat'].value_counts()"
   ]
  },
  {
   "cell_type": "code",
   "execution_count": 37,
   "metadata": {
    "ExecuteTime": {
     "end_time": "2020-06-08T09:44:02.780423Z",
     "start_time": "2020-06-08T09:44:02.771476Z"
    }
   },
   "outputs": [
    {
     "data": {
      "text/plain": [
       "array([nan, '40 000 € - 50 000 € par an', '55 000 € - 65 000 € par an',\n",
       "       '35 000 € - 50 000 € par an', '40 000 € - 55 000 € par an',\n",
       "       '44 000 € - 51 000 € par an', '41 800 € - 65 000 € par an',\n",
       "       '30 000 € - 60 000 € par an', '43 038 € - 52 602 € par an',\n",
       "       '50 000 € - 55 000 € par an', '50 000 € par an',\n",
       "       '40 000 € - 70 000 € par an', '3 029 € - 3 703 € par mois',\n",
       "       '40 000 € - 45 000 € par an', '60 000 € - 70 000 € par an',\n",
       "       '550 € par jour', '2 076 € - 2 184 € par mois', '490 € par jour',\n",
       "       '35 000 € - 45 000 € par an', '32 000 € - 45 000 € par an',\n",
       "       '45 000 € - 65 000 € par an', '45 000 € par an',\n",
       "       '650 € - 700 € par jour', '600 € par mois', '70 000 € par an',\n",
       "       '55 000 € par an', '60 000 € par an', '40 000 € - 60 000 € par an',\n",
       "       '42 000 € - 45 000 € par an', '50 000 € - 70 000 € par an',\n",
       "       '42 000 € par an', '45 000 € - 55 000 € par an',\n",
       "       '2 000 € - 4 500 € par mois', '2 436 € - 2 821 € par mois',\n",
       "       '70 000 € - 80 000 € par an', '42 000 € - 48 000 € par an',\n",
       "       '40 000 € - 65 000 € par an', '48 000 € - 60 000 € par an',\n",
       "       '900 € par mois', '38 € - 45 € par heure',\n",
       "       '1 500 € - 1 700 € par mois', '50 000 € - 60 000 € par an',\n",
       "       '2 202 € - 2 691 € par mois', '806 € par semaine',\n",
       "       '45 000 € - 60 000 € par an', '60 000 € - 100 000 € par an',\n",
       "       '65 000 € - 75 000 € par an', '55 000 € - 60 000 € par an',\n",
       "       '120 000 € - 140 000 € par an', '58 000 € - 66 000 € par an',\n",
       "       '36 000 € - 50 000 € par an', '40 000 € - 48 000 € par an',\n",
       "       '60 000 € - 80 000 € par an', '45 000 € - 70 000 € par an',\n",
       "       '58 000 € - 70 000 € par an', '75 000 € - 100 000 € par an',\n",
       "       '65 000 € - 85 000 € par an', '55 000 € - 80 000 € par an',\n",
       "       '70 000 € - 90 000 € par an', '50 000 € - 65 000 € par an',\n",
       "       '40 000 € - 53 000 € par an', '42 000 € - 78 000 € par an',\n",
       "       '36 000 € - 45 000 € par an', '60 000 € - 88 000 € par an',\n",
       "       '70 000 € - 110 000 € par an', '45 000 € - 63 000 € par an',\n",
       "       '65 000 € par an', '44 000 € - 57 000 € par an',\n",
       "       '55 000 € - 70 000 € par an', '44 000 € - 70 000 € par an',\n",
       "       '1 120 € par semaine', '2 500 € par mois', '450 € par jour',\n",
       "       '1 500 € par mois', '1 000 € par mois', '350 € - 400 € par jour',\n",
       "       '35 000 € - 55 000 € par an', '430 € par jour', '28 000 € par an',\n",
       "       '36 000 € - 46 000 € par an', '1 500 € - 2 250 € par mois',\n",
       "       '28 000 € - 40 000 € par an', '2 461 € - 2 835 € par mois',\n",
       "       '33 000 € par an', '48 000 € - 52 000 € par an',\n",
       "       '3 132 € - 3 828 € par mois', '37 000 € - 42 000 € par an',\n",
       "       '38 000 € - 43 000 € par an', '4 000 € par mois',\n",
       "       '3 000 € - 3 400 € par mois', '30 000 € - 34 000 € par an',\n",
       "       '23 000 € - 25 000 € par an', '32 000 € - 40 000 € par an',\n",
       "       '2 472 € - 2 847 € par mois', '2 300 € - 2 800 € par mois',\n",
       "       '48 000 € par an', '1 850 € - 2 500 € par mois', '43 000 € par an',\n",
       "       '35 000 € par an', '42 000 € - 46 000 € par an',\n",
       "       '45 000 € - 75 000 € par an', '{0} €{2} par mois',\n",
       "       '33 000 € - 34 000 € par an', '40 000 € par an',\n",
       "       '100 000 € par an', '35 000 € - 42 000 € par an',\n",
       "       '1 300 € par mois', '60 € par heure', '47 000 € par an',\n",
       "       '45 000 € - 50 000 € par an', '33 000 € - 48 000 € par an',\n",
       "       '30 000 € - 40 000 € par an', '2 000 € - 4 000 € par mois',\n",
       "       '25 000 € - 40 000 € par an', '50 € par jour',\n",
       "       '50 € - 70 € par heure', '2 400 € - 2 600 € par mois',\n",
       "       '43 € par heure', '35 000 € - 40 000 € par an',\n",
       "       '1 500 € par semaine', '47 000 € - 52 000 € par an',\n",
       "       '2 100 € - 2 400 € par mois', '75 000 € par an',\n",
       "       '42 000 € - 50 000 € par an', '30 000 € - 31 000 € par an',\n",
       "       '38 000 € - 45 000 € par an', '38 000 € - 40 000 € par an',\n",
       "       '340 € par jour', '38 000 € - 50 000 € par an',\n",
       "       '500 € par semaine', '2 088 € - 2 206 € par mois',\n",
       "       '28 000 € - 38 000 € par an', '52 000 € par an',\n",
       "       '20 000 € - 30 000 € par an', '2 500 € - 2 900 € par mois',\n",
       "       '2 088 € - 2 350 € par mois', '30 000 € - 45 000 € par an',\n",
       "       '43 000 € - 48 000 € par an', '37 000 € - 39 000 € par an',\n",
       "       '34 000 € - 38 000 € par an', '400 € par jour',\n",
       "       '800 € - 1 200 € par mois', '600 € - 1 000 € par mois',\n",
       "       '390 € par jour', '500 € - 600 € par jour',\n",
       "       '700 € - 950 € par mois', '3 200 € par mois',\n",
       "       '500 € - 1 200 € par mois', '2 500 € - 3 000 € par mois',\n",
       "       '2 470 € - 3 100 € par mois', '2 300 € - 3 400 € par mois',\n",
       "       '40 000 € - 42 000 € par an', '900 € - 1 100 € par mois',\n",
       "       '1 321 € par mois', '42 000 € - 49 000 € par an',\n",
       "       '800 € - 1 000 € par mois', '2 300 € par mois', '800 € par mois',\n",
       "       '2 200 € - 2 400 € par mois', '25 000 € - 35 000 € par an',\n",
       "       '32 000 € - 34 000 € par an', '2 565 € - 3 135 € par mois',\n",
       "       '1 939 € - 3 041 € par mois', '610 € par mois', '37 000 € par an',\n",
       "       '25 000 € - 30 000 € par an', '662 € - 1 539 € par mois',\n",
       "       '350 € par jour', '2 500 € - 3 500 € par mois',\n",
       "       '40 € - 60 € par heure', '2 599 € - 3 176 € par mois',\n",
       "       '700 € - 900 € par mois', '22 000 € - 28 000 € par an',\n",
       "       '23 000 € - 35 000 € par an', '1 900 € par mois',\n",
       "       '2 800 € - 4 000 € par mois', '46 000 € par an', '420 € par jour',\n",
       "       '575 € - 1 500 € par mois', '150 € par an',\n",
       "       '28 000 € - 32 000 € par an', '36 000 € - 42 000 € par an',\n",
       "       '165 € par jour', '28 000 € - 34 000 € par an',\n",
       "       '40 000 € - 44 000 € par an', '31 000 € - 40 000 € par an',\n",
       "       '1 800 € - 2 500 € par mois', '3 500 € - 3 750 € par mois',\n",
       "       '41 000 € par an', '18 473 € par an', '38 000 € par an',\n",
       "       '700 € par mois', '44 000 € - 48 000 € par an',\n",
       "       '30 000 € - 33 000 € par an', '400 € par semaine',\n",
       "       '600 € - 1 500 € par mois', '400 € - 500 € par jour',\n",
       "       '30 000 € - 35 000 € par an', '33 000 € - 35 000 € par an',\n",
       "       '60 000 € - 75 000 € par an', '35 000 € - 65 000 € par an',\n",
       "       '2 139 € par mois', '2 700 € - 3 500 € par mois',\n",
       "       '30 000 € par an', '38 000 € - 55 000 € par an', '45 € par heure',\n",
       "       '55 € par heure', '39 176 € - 56 339 € par an',\n",
       "       '58 000 € - 68 000 € par an', '1 000 € - 1 600 € par mois',\n",
       "       '48 000 € - 58 000 € par an', '45 000 € - 80 000 € par an',\n",
       "       '555 € - 1 200 € par mois', '2 273 € - 2 779 € par mois',\n",
       "       '350 € - 450 € par jour', '32 000 € par an',\n",
       "       '52 000 € - 58 000 € par an', '2 570 € par mois',\n",
       "       '40 000 € - 47 000 € par an', '42 000 € - 52 000 € par an',\n",
       "       '1 800 € par mois', '40 529 € - 49 536 € par an',\n",
       "       '27 000 € - 35 000 € par an', '29 000 € - 35 000 € par an',\n",
       "       '450 € - 550 € par jour', '1 700 € - 1 900 € par mois',\n",
       "       '30 000 € - 55 000 € par an', '500 € par jour',\n",
       "       '34 000 € - 40 000 € par an', '2 595 € - 3 171 € par mois',\n",
       "       '24 000 € - 28 000 € par an', '36 000 € - 48 000 € par an',\n",
       "       '19 000 € - 35 000 € par an', '400 € - 450 € par jour',\n",
       "       '39 000 € par an', '43 200 € par an', '1 500 € - 1 650 € par mois',\n",
       "       '35 000 € - 43 000 € par an', '33 000 € - 55 000 € par an',\n",
       "       '4 000 € - 6 000 € par mois', '44 000 € par an',\n",
       "       '38 000 € - 42 000 € par an', '33 000 € - 38 000 € par an',\n",
       "       '32 € - 45 € par heure', '440 € par jour',\n",
       "       '37 000 € - 50 000 € par an', '600 € par jour',\n",
       "       '500 € - 540 € par jour', '3 736 € par mois', '450 € par semaine',\n",
       "       '500 € - 550 € par jour', '29 002 € par an',\n",
       "       '39 000 € - 48 000 € par an', '480 € - 500 € par jour',\n",
       "       '68 000 € par an', '35 € - 42 € par heure', '36 000 € par an',\n",
       "       '2 641 € - 3 228 € par mois', '48 000 € - 65 000 € par an',\n",
       "       '39 000 € - 47 000 € par an', '14 769 € par an',\n",
       "       '380 € par semaine', '30 000 € - 36 000 € par an',\n",
       "       '2 206 € - 2 281 € par mois', '2 000 € par mois',\n",
       "       '90 000 € par an', '21 000 € - 35 000 € par an',\n",
       "       '45 € - 50 € par heure', '38 000 € - 64 000 € par an',\n",
       "       '35 000 € - 39 000 € par an', '40 € - 45 € par heure',\n",
       "       '26 000 € - 35 000 € par an', '33 000 € - 44 000 € par an',\n",
       "       '2 500 € - 3 200 € par mois', '520 € par jour',\n",
       "       '38 000 € - 62 000 € par an', '42 € - 50 € par heure',\n",
       "       '32 065 € - 49 091 € par an', '2 000 € - 2 500 € par mois',\n",
       "       '320 € par jour', '450 € - 500 € par jour', '380 € par jour',\n",
       "       '26 000 € - 34 000 € par an', '19 077 € - 49 543 € par an',\n",
       "       '$20.98 an hour', '$85,000 a year', '$95,400 - $121,800 a year',\n",
       "       '$75,900 - $130,049 a year', '$120,000 - $150,000 a year',\n",
       "       '$200,000 - $350,000 a year', '$68,450 - $138,150 a year',\n",
       "       '$75,200 a year', '$1,000 a month', '$29.57 an hour',\n",
       "       '$18 an hour', '$60,000 - $80,000 a year',\n",
       "       '$60,000 - $62,500 a year', '$26.00 - $35.10 an hour',\n",
       "       '$38,000 - $46,000 a year', '$101,000 a year', 'From $30 an hour',\n",
       "       '$67,968 - $126,062 a year', '$75,000 - $135,000 a year',\n",
       "       '$50,000 a year', '$65,000 - $85,000 a year',\n",
       "       '$70,181 - $109,358 a year', '$65,000 - $80,000 a year',\n",
       "       '$47,986 - $61,194 a year', '$4,000 a week', '$70 an hour',\n",
       "       '$65,000 - $100,000 a year', '$16 - $18 an hour',\n",
       "       '$45,000 - $50,000 a year', '$52,216 - $55,407 a year',\n",
       "       '$60,782 - $82,051 a year', '$75,000 a year',\n",
       "       '$105,421 - $121,234 a year', '$125,000 - $240,000 a year',\n",
       "       '$89,700 - $148,800 a year', '$80,000 - $100,000 a year',\n",
       "       '$20 an hour', '$56,000 a year', '$20 - $24 an hour',\n",
       "       '$100,000 a year', '$12 - $15 an hour', 'Up to $12 an hour',\n",
       "       '$47,600 - $79,699 a year', '$31,600 - $58,400 a year',\n",
       "       '$56,250 - $93,750 a year', '$59,280 - $81,435 a year',\n",
       "       '$107,518 a year', '$83,692 - $111,469 a year', '$75,278 a year',\n",
       "       '$65 an hour', '$85,000 - $120,000 a year',\n",
       "       '$75,000 - $150,000 a year', '$84,219 a year',\n",
       "       '$170,000 - $190,000 a year', '$150,000 - $180,000 a year',\n",
       "       '$65,000 a year', '$50,000 - $80,000 a year',\n",
       "       '$115,000 - $140,000 a year', '$100,000 - $150,000 a year',\n",
       "       '$85 an hour', '$54,612 a year', '$70,000 - $100,000 a year',\n",
       "       '$16.00 - $19.91 an hour', '$81,536 a year', '$60 an hour',\n",
       "       '$52,272 - $85,848 a year', '$95,000 - $115,000 a year',\n",
       "       '$8,000 - $12,000 a month', '$95,000 a year',\n",
       "       '$110,000 - $145,000 a year', '$121,658 a year',\n",
       "       '$45.14 - $73.42 an hour', '$130,000 a year',\n",
       "       '$6,000 - $9,500 a month', '$4,000 - $5,100 a month',\n",
       "       '$110,000 - $160,000 a year', '$30 - $45 an hour',\n",
       "       '$50,000 - $90,000 a year', '$65,000 - $110,000 a year',\n",
       "       '$12 an hour', '$25 an hour', '$21.24 - $33.24 an hour',\n",
       "       '$150,000 - $200,000 a year', '$109,508 - $144,303 a year',\n",
       "       '$46.04 - $74.89 an hour', '$81,000 - $114,000 a year',\n",
       "       '$110,000 a year', '$2,500 - $3,250 a month',\n",
       "       'Up to $165,000 a year', 'Up to $60 an hour', '$115,000 a year',\n",
       "       'From $50,000 a year', '$41,000 - $75,000 a year',\n",
       "       '$10 - $12 an hour', '$65,000 - $90,000 a year', '$11.50 an hour',\n",
       "       '$46,845 - $153,653 a year', '$40 - $60 an hour', '$88 an hour',\n",
       "       '$90,000 - $120,000 a year', '$22 an hour', '$38 an hour',\n",
       "       '$54.75 an hour', '$15 an hour', '$70,000 a year', '$54 an hour',\n",
       "       '$50 an hour', '$70,000 - $120,000 a year',\n",
       "       '$133,141 - $156,500 a year', '$4,599 - $6,834 a month',\n",
       "       '$90,000 - $150,000 a year', '$95,000 - $170,000 a year',\n",
       "       '$97,700 - $125,400 a year', '$162,000 a year',\n",
       "       '$60,000 - $110,000 a year', '$28 - $34 an hour',\n",
       "       '$80 - $90 an hour', '$110,000 - $130,000 a year',\n",
       "       '$57,000 a year', '$6,150 a month'], dtype=object)"
      ]
     },
     "execution_count": 37,
     "metadata": {},
     "output_type": "execute_result"
    }
   ],
   "source": [
    "df['Salaire'].unique()"
   ]
  },
  {
   "cell_type": "code",
   "execution_count": 63,
   "metadata": {
    "ExecuteTime": {
     "end_time": "2020-06-08T09:55:14.255582Z",
     "start_time": "2020-06-08T09:55:12.619759Z"
    }
   },
   "outputs": [],
   "source": [
    "import re\n",
    "def searchBy(x, pattern):\n",
    "    match = re.search(pattern, str.lower(x))\n",
    "    if match:\n",
    "        return match.group(0)\n",
    "salaryMatch = re.compile(r'((([\\$€]\\s?\\d+([\\.,\\s]?\\d{3})*[\\s]?k?([\\.,\\s]\\d{2})?([\\s]?((à)|(au)|(et)|(\\/)|(->?)|(to)|(and))?[\\s]?[\\$€]?[\\s]?\\d{1,3}([\\.,\\s]?\\d{3})*\\s?k?([\\.,\\s]?\\d{2})?)?)|((\\d+([\\.,\\s]?\\d{3})*\\s?k?([\\.,\\s]\\d{2})?\\s?[\\$€]?([\\s]?((à)|(au)|(et)|(and)|(\\/)|(->?)|(to))?[\\s]?\\d{1,3}([\\.,\\s]?\\d{3})*\\s?k?([\\.,\\s]\\d{2})?)?)[€\\$])[\\s]?)(\\s*(brut)?\\s*((par)|(a)|(an)|(per)|(by)|(\\/)|(every)|(un)|(une))[\\s]*((annually)|(heure)|(jour)|(hebdomadaire)|(mois)|(mensuel)|(hour)|(day)|(month)|(year)|(an))))')\n",
    "\n",
    "df['SalaryExtract'] = df['Description'].apply(\n",
    "    lambda x: searchBy(x, salaryMatch))\n"
   ]
  },
  {
   "cell_type": "code",
   "execution_count": 64,
   "metadata": {
    "ExecuteTime": {
     "end_time": "2020-06-08T09:55:16.496651Z",
     "start_time": "2020-06-08T09:55:16.490666Z"
    }
   },
   "outputs": [],
   "source": [
    "df['Salaire'].update(df['SalaryExtract'])"
   ]
  },
  {
   "cell_type": "code",
   "execution_count": 50,
   "metadata": {
    "ExecuteTime": {
     "end_time": "2020-06-08T09:53:18.574973Z",
     "start_time": "2020-06-08T09:53:18.567994Z"
    }
   },
   "outputs": [
    {
     "data": {
      "text/plain": [
       "6155"
      ]
     },
     "execution_count": 50,
     "metadata": {},
     "output_type": "execute_result"
    }
   ],
   "source": [
    "df['Salaire'].isna().sum()"
   ]
  },
  {
   "cell_type": "code",
   "execution_count": 65,
   "metadata": {
    "ExecuteTime": {
     "end_time": "2020-06-08T09:55:20.838448Z",
     "start_time": "2020-06-08T09:55:20.822450Z"
    }
   },
   "outputs": [
    {
     "name": "stdout",
     "output_type": "stream",
     "text": [
      "<class 'pandas.core.frame.DataFrame'>\n",
      "Int64Index: 6376 entries, 0 to 783\n",
      "Data columns (total 9 columns):\n",
      " #   Column         Non-Null Count  Dtype \n",
      "---  ------         --------------  ----- \n",
      " 0   Poste          6375 non-null   object\n",
      " 1   Métier         6376 non-null   object\n",
      " 2   Pays           6376 non-null   object\n",
      " 3   Ville          6376 non-null   object\n",
      " 4   Entreprise     6374 non-null   object\n",
      " 5   Contrat        957 non-null    object\n",
      " 6   Salaire        1068 non-null   object\n",
      " 7   Description    6376 non-null   object\n",
      " 8   SalaryExtract  632 non-null    object\n",
      "dtypes: object(9)\n",
      "memory usage: 498.1+ KB\n"
     ]
    }
   ],
   "source": [
    "df.info()"
   ]
  },
  {
   "cell_type": "code",
   "execution_count": 61,
   "metadata": {
    "ExecuteTime": {
     "end_time": "2020-06-08T09:55:05.330794Z",
     "start_time": "2020-06-08T09:55:05.215052Z"
    }
   },
   "outputs": [
    {
     "data": {
      "text/plain": [
       "(6376, 8)"
      ]
     },
     "execution_count": 61,
     "metadata": {},
     "output_type": "execute_result"
    }
   ],
   "source": [
    "df = df.drop_duplicates()\n",
    "df.shape"
   ]
  },
  {
   "cell_type": "code",
   "execution_count": 62,
   "metadata": {
    "ExecuteTime": {
     "end_time": "2020-06-08T09:55:07.247739Z",
     "start_time": "2020-06-08T09:55:07.234774Z"
    }
   },
   "outputs": [
    {
     "name": "stdout",
     "output_type": "stream",
     "text": [
      "<class 'pandas.core.frame.DataFrame'>\n",
      "Int64Index: 6376 entries, 0 to 783\n",
      "Data columns (total 8 columns):\n",
      " #   Column       Non-Null Count  Dtype \n",
      "---  ------       --------------  ----- \n",
      " 0   Poste        6375 non-null   object\n",
      " 1   Métier       6376 non-null   object\n",
      " 2   Pays         6376 non-null   object\n",
      " 3   Ville        6376 non-null   object\n",
      " 4   Entreprise   6374 non-null   object\n",
      " 5   Contrat      957 non-null    object\n",
      " 6   Salaire      1008 non-null   object\n",
      " 7   Description  6376 non-null   object\n",
      "dtypes: object(8)\n",
      "memory usage: 448.3+ KB\n"
     ]
    }
   ],
   "source": [
    "df.info()"
   ]
  },
  {
   "cell_type": "code",
   "execution_count": 8,
   "metadata": {
    "ExecuteTime": {
     "end_time": "2020-06-06T22:41:26.681449Z",
     "start_time": "2020-06-06T22:41:26.675466Z"
    }
   },
   "outputs": [],
   "source": [
    "test = pd.DataFrame({'Métier':'Développeur Python', 'Pays': 'France', 'Study required': 'Guaduate', 'Experience required': 'Confirmed'}, index=[0])"
   ]
  },
  {
   "cell_type": "code",
   "execution_count": 24,
   "metadata": {
    "ExecuteTime": {
     "end_time": "2020-06-06T22:55:48.301960Z",
     "start_time": "2020-06-06T22:55:48.287003Z"
    }
   },
   "outputs": [],
   "source": [
    "test = {'Confirmed':0, 'Data Scientist':0, 'Doctor':0, 'Développeur Java':0,\n",
    "                                 'Développeur JavaScript':0, 'Développeur Python':0, 'Entry':0, 'Expert':0,\n",
    "                                 'France':0, 'Guaduate':0, 'High School':0, 'Intermediate':0, 'Master':0,\n",
    "                                 'Senior':0, 'USA':0, 'Unnamed: 15':0, 'Python':0, 'R':0, 'Matlab':0,\n",
    "                                 'Kubernetes':0, 'Bash':0, 'Fortran':0, 'Ruby':0, 'Golang':0, 'C':0, 'Java':0,\n",
    "                                 'JEE':0, 'JSP':0, 'J2ME':0, 'BREW':0, 'MVC':0, 'SASS':0, 'XML':0, 'Eclipse':0,\n",
    "                                 'Spring':0, 'Atlassian':0, 'Jenkin':0, 'FIX':0, 'Nexus':0, 'Maven':0,\n",
    "                                 'Flutter':0, 'Bootstrap':0, 'Kafka':0, 'Data software':0, 'Data analysis':0,\n",
    "                                 'Data preprocessing':0, 'Report':0, 'Math':0, 'Development':0,\n",
    "                                 'Integration':0, 'ReactNative':0, 'Dataiku':0, 'Data viz':0, 'Data skills':0,\n",
    "                                 'Data pipeline':0, 'Git':0, 'SQL':0, 'Djanbo':0, 'Database':0, 'Javascrpit':0,\n",
    "                                 'POO':0, 'Regex':0, 'Mobile Programming':0, 'Team Work':0,\n",
    "                                 'Machine Learning':0, 'Web langage':0, 'System unix':0, 'Scratch':0,\n",
    "                                 'Scala':0, 'API':0, 'RestAPI':0, '.Net':0, 'Visual Studio':0, 'Responsive':0,\n",
    "                                 'Javascript Skills':0, 'Outil bureautique':0, 'Deep Learning':0,\n",
    "                                 'Text analytics':0, 'Marketing':0, 'Finance':0, 'Communication':0,\n",
    "                                 'Statistics':0, 'Cloud':0, 'Big data':0, 'Computer science':0, 'Flask':0,\n",
    "                                 'Streamlit':0, 'Docker':0, 'Saas':0, 'Back-end':0, 'Front-end':0, 'Design':0,\n",
    "                                 'SAS':0, 'Business intelligence':0, 'Statistic':0, 'Redis':0,\n",
    "                                 'Web Scrapping':0, 'Server':0, 'Blockchain':0, 'English':0, 'French':0,\n",
    "                                 'Postman':0, 'Websphere':0, 'Conception':0, 'Documentation':0, 'Teach':0,\n",
    "                                 'Debug':0, 'Test':0, 'Redux':0, 'JQuery':0, 'Maintenance':0, 'Microservices':0}"
   ]
  },
  {
   "cell_type": "code",
   "execution_count": 13,
   "metadata": {
    "ExecuteTime": {
     "end_time": "2020-06-06T22:41:52.711894Z",
     "start_time": "2020-06-06T22:41:52.707877Z"
    }
   },
   "outputs": [
    {
     "data": {
      "text/plain": [
       "1"
      ]
     },
     "execution_count": 13,
     "metadata": {},
     "output_type": "execute_result"
    }
   ],
   "source": [
    "mm ='Python'\n",
    "test[mm] = 1\n",
    "test['Python']"
   ]
  },
  {
   "cell_type": "code",
   "execution_count": 28,
   "metadata": {
    "ExecuteTime": {
     "end_time": "2020-06-06T22:56:29.422599Z",
     "start_time": "2020-06-06T22:56:29.413624Z"
    }
   },
   "outputs": [
    {
     "name": "stdout",
     "output_type": "stream",
     "text": [
      "[array([0, 0, 0, 0, 0, 0, 0, 0, 0, 0, 0, 0, 0, 0, 0, 0, 0, 0, 0, 0, 0, 0,\n",
      "       0, 0, 0, 0, 0, 0, 0, 0, 0, 0, 0, 0, 0, 0, 0, 0, 0, 0, 0, 0, 0, 0,\n",
      "       0, 0, 0, 0, 0, 0, 0, 0, 0, 0, 0, 0, 0, 0, 0, 0, 0, 0, 0, 0, 0, 0,\n",
      "       0, 0, 0, 0, 0, 0, 0, 0, 0, 0, 0, 0, 0, 0, 0, 0, 0, 0, 0, 0, 0, 0,\n",
      "       0, 0, 0, 0, 0, 0, 0, 0, 0, 0, 0, 0, 0, 0, 0, 0, 0, 0, 0, 0, 0, 0,\n",
      "       0, 0])]\n",
      "112\n"
     ]
    }
   ],
   "source": [
    "int_features = [int(x) for x in list(test.values())]\n",
    "final_features = [np.array(int_features)]\n",
    "print(final_features)\n",
    "print(len(int_features))"
   ]
  }
 ],
 "metadata": {
  "kernelspec": {
   "display_name": "Python 3",
   "language": "python",
   "name": "python3"
  },
  "language_info": {
   "codemirror_mode": {
    "name": "ipython",
    "version": 3
   },
   "file_extension": ".py",
   "mimetype": "text/x-python",
   "name": "python",
   "nbconvert_exporter": "python",
   "pygments_lexer": "ipython3",
   "version": "3.7.6"
  },
  "latex_envs": {
   "LaTeX_envs_menu_present": true,
   "autoclose": false,
   "autocomplete": true,
   "bibliofile": "biblio.bib",
   "cite_by": "apalike",
   "current_citInitial": 1,
   "eqLabelWithNumbers": true,
   "eqNumInitial": 1,
   "hotkeys": {
    "equation": "Ctrl-E",
    "itemize": "Ctrl-I"
   },
   "labels_anchors": false,
   "latex_user_defs": false,
   "report_style_numbering": false,
   "user_envs_cfg": false
  },
  "toc": {
   "base_numbering": 1,
   "nav_menu": {},
   "number_sections": true,
   "sideBar": true,
   "skip_h1_title": false,
   "title_cell": "Table of Contents",
   "title_sidebar": "Contents",
   "toc_cell": false,
   "toc_position": {},
   "toc_section_display": true,
   "toc_window_display": false
  },
  "varInspector": {
   "cols": {
    "lenName": 16,
    "lenType": 16,
    "lenVar": 40
   },
   "kernels_config": {
    "python": {
     "delete_cmd_postfix": "",
     "delete_cmd_prefix": "del ",
     "library": "var_list.py",
     "varRefreshCmd": "print(var_dic_list())"
    },
    "r": {
     "delete_cmd_postfix": ") ",
     "delete_cmd_prefix": "rm(",
     "library": "var_list.r",
     "varRefreshCmd": "cat(var_dic_list()) "
    }
   },
   "types_to_exclude": [
    "module",
    "function",
    "builtin_function_or_method",
    "instance",
    "_Feature"
   ],
   "window_display": false
  }
 },
 "nbformat": 4,
 "nbformat_minor": 4
}
