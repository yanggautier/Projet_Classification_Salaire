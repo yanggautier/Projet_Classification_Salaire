{
 "cells": [
  {
   "cell_type": "code",
   "execution_count": 3,
   "metadata": {
    "ExecuteTime": {
     "end_time": "2020-06-06T22:41:10.854706Z",
     "start_time": "2020-06-06T22:41:10.624036Z"
    }
   },
   "outputs": [],
   "source": [
    "import pandas as pd"
   ]
  },
  {
   "cell_type": "code",
   "execution_count": 4,
   "metadata": {
    "ExecuteTime": {
     "end_time": "2020-06-06T22:41:11.502713Z",
     "start_time": "2020-06-06T22:41:11.369272Z"
    }
   },
   "outputs": [
    {
     "data": {
      "text/plain": [
       "array(['Confirmed', 'Data Scientist', 'Doctor', 'Développeur Java',\n",
       "       'Développeur JavaScript', 'Développeur Python', 'Entry', 'Expert',\n",
       "       'France', 'Guaduate', 'High School', 'Intermediate', 'Master',\n",
       "       'Senior', 'USA', 'Unnamed: 15', 'Python', 'R', 'Matlab',\n",
       "       'Kubernetes', 'Bash', 'Fortran', 'Ruby', 'Golang', 'C', 'Java',\n",
       "       'JEE', 'JSP', 'J2ME', 'BREW', 'MVC', 'SASS', 'XML', 'Eclipse',\n",
       "       'Spring', 'Atlassian', 'Jenkin', 'FIX', 'Nexus', 'Maven',\n",
       "       'Flutter', 'Bootstrap', 'Kafka', 'Data software', 'Data analysis',\n",
       "       'Data preprocessing', 'Report', 'Math', 'Development',\n",
       "       'Integration', 'ReactNative', 'Dataiku', 'Data viz', 'Data skills',\n",
       "       'Data pipeline', 'Git', 'SQL', 'Djanbo', 'Database', 'Javascrpit',\n",
       "       'POO', 'Regex', 'Mobile Programming', 'Team Work',\n",
       "       'Machine Learning', 'Web langage', 'System unix', 'Scratch',\n",
       "       'Scala', 'API', 'RestAPI', '.Net', 'Visual Studio', 'Responsive',\n",
       "       'Javascript Skills', 'Outil bureautique', 'Deep Learning',\n",
       "       'Text analytics', 'Marketing', 'Finance', 'Communication',\n",
       "       'Statistics', 'Cloud', 'Big data', 'Computer science', 'Flask',\n",
       "       'Streamlit', 'Docker', 'Saas', 'Back-end', 'Front-end', 'Design',\n",
       "       'SAS', 'Business intelligence', 'Statistic', 'Redis',\n",
       "       'Web Scrapping', 'Server', 'Blockchain', 'English', 'French',\n",
       "       'Postman', 'Websphere', 'Conception', 'Documentation', 'Teach',\n",
       "       'Debug', 'Test', 'Redux', 'JQuery', 'Maintenance', 'Microservices',\n",
       "       'Classe de salaire par an'], dtype=object)"
      ]
     },
     "execution_count": 4,
     "metadata": {},
     "output_type": "execute_result"
    }
   ],
   "source": [
    "data = pd.read_csv('Prepo.csv',sep=\";\")\n",
    "data.columns.values"
   ]
  },
  {
   "cell_type": "code",
   "execution_count": 5,
   "metadata": {
    "ExecuteTime": {
     "end_time": "2020-06-06T22:41:13.784350Z",
     "start_time": "2020-06-06T22:41:13.708517Z"
    }
   },
   "outputs": [
    {
     "data": {
      "text/html": [
       "<div>\n",
       "<style scoped>\n",
       "    .dataframe tbody tr th:only-of-type {\n",
       "        vertical-align: middle;\n",
       "    }\n",
       "\n",
       "    .dataframe tbody tr th {\n",
       "        vertical-align: top;\n",
       "    }\n",
       "\n",
       "    .dataframe thead th {\n",
       "        text-align: right;\n",
       "    }\n",
       "</style>\n",
       "<table border=\"1\" class=\"dataframe\">\n",
       "  <thead>\n",
       "    <tr style=\"text-align: right;\">\n",
       "      <th></th>\n",
       "      <th>Confirmed</th>\n",
       "      <th>Data Scientist</th>\n",
       "      <th>Doctor</th>\n",
       "      <th>Développeur Java</th>\n",
       "      <th>Développeur JavaScript</th>\n",
       "      <th>Développeur Python</th>\n",
       "      <th>Entry</th>\n",
       "      <th>Expert</th>\n",
       "      <th>France</th>\n",
       "      <th>Guaduate</th>\n",
       "      <th>...</th>\n",
       "      <th>Conception</th>\n",
       "      <th>Documentation</th>\n",
       "      <th>Teach</th>\n",
       "      <th>Debug</th>\n",
       "      <th>Test</th>\n",
       "      <th>Redux</th>\n",
       "      <th>JQuery</th>\n",
       "      <th>Maintenance</th>\n",
       "      <th>Microservices</th>\n",
       "      <th>Classe de salaire par an</th>\n",
       "    </tr>\n",
       "  </thead>\n",
       "  <tbody>\n",
       "    <tr>\n",
       "      <th>0</th>\n",
       "      <td>0.0</td>\n",
       "      <td>0.0</td>\n",
       "      <td>0.0</td>\n",
       "      <td>0.0</td>\n",
       "      <td>0.0</td>\n",
       "      <td>1.0</td>\n",
       "      <td>0.0</td>\n",
       "      <td>0.0</td>\n",
       "      <td>1.0</td>\n",
       "      <td>1.0</td>\n",
       "      <td>...</td>\n",
       "      <td>0.0</td>\n",
       "      <td>0.0</td>\n",
       "      <td>0.0</td>\n",
       "      <td>1.0</td>\n",
       "      <td>0.0</td>\n",
       "      <td>0.0</td>\n",
       "      <td>0.0</td>\n",
       "      <td>1.0</td>\n",
       "      <td>0.0</td>\n",
       "      <td>0 - 40000</td>\n",
       "    </tr>\n",
       "    <tr>\n",
       "      <th>1</th>\n",
       "      <td>1.0</td>\n",
       "      <td>0.0</td>\n",
       "      <td>0.0</td>\n",
       "      <td>0.0</td>\n",
       "      <td>0.0</td>\n",
       "      <td>1.0</td>\n",
       "      <td>0.0</td>\n",
       "      <td>0.0</td>\n",
       "      <td>1.0</td>\n",
       "      <td>1.0</td>\n",
       "      <td>...</td>\n",
       "      <td>1.0</td>\n",
       "      <td>1.0</td>\n",
       "      <td>0.0</td>\n",
       "      <td>0.0</td>\n",
       "      <td>1.0</td>\n",
       "      <td>0.0</td>\n",
       "      <td>0.0</td>\n",
       "      <td>0.0</td>\n",
       "      <td>0.0</td>\n",
       "      <td>52500 - 1320000</td>\n",
       "    </tr>\n",
       "    <tr>\n",
       "      <th>2</th>\n",
       "      <td>0.0</td>\n",
       "      <td>0.0</td>\n",
       "      <td>0.0</td>\n",
       "      <td>0.0</td>\n",
       "      <td>0.0</td>\n",
       "      <td>1.0</td>\n",
       "      <td>0.0</td>\n",
       "      <td>1.0</td>\n",
       "      <td>1.0</td>\n",
       "      <td>0.0</td>\n",
       "      <td>...</td>\n",
       "      <td>0.0</td>\n",
       "      <td>0.0</td>\n",
       "      <td>0.0</td>\n",
       "      <td>0.0</td>\n",
       "      <td>0.0</td>\n",
       "      <td>0.0</td>\n",
       "      <td>0.0</td>\n",
       "      <td>0.0</td>\n",
       "      <td>0.0</td>\n",
       "      <td>0 - 40000</td>\n",
       "    </tr>\n",
       "    <tr>\n",
       "      <th>3</th>\n",
       "      <td>0.0</td>\n",
       "      <td>0.0</td>\n",
       "      <td>0.0</td>\n",
       "      <td>0.0</td>\n",
       "      <td>0.0</td>\n",
       "      <td>1.0</td>\n",
       "      <td>0.0</td>\n",
       "      <td>0.0</td>\n",
       "      <td>1.0</td>\n",
       "      <td>0.0</td>\n",
       "      <td>...</td>\n",
       "      <td>0.0</td>\n",
       "      <td>0.0</td>\n",
       "      <td>0.0</td>\n",
       "      <td>0.0</td>\n",
       "      <td>0.0</td>\n",
       "      <td>0.0</td>\n",
       "      <td>0.0</td>\n",
       "      <td>0.0</td>\n",
       "      <td>0.0</td>\n",
       "      <td>52500 - 1320000</td>\n",
       "    </tr>\n",
       "    <tr>\n",
       "      <th>4</th>\n",
       "      <td>0.0</td>\n",
       "      <td>0.0</td>\n",
       "      <td>0.0</td>\n",
       "      <td>0.0</td>\n",
       "      <td>0.0</td>\n",
       "      <td>1.0</td>\n",
       "      <td>1.0</td>\n",
       "      <td>0.0</td>\n",
       "      <td>1.0</td>\n",
       "      <td>1.0</td>\n",
       "      <td>...</td>\n",
       "      <td>0.0</td>\n",
       "      <td>0.0</td>\n",
       "      <td>0.0</td>\n",
       "      <td>0.0</td>\n",
       "      <td>0.0</td>\n",
       "      <td>0.0</td>\n",
       "      <td>0.0</td>\n",
       "      <td>0.0</td>\n",
       "      <td>0.0</td>\n",
       "      <td>0 - 40000</td>\n",
       "    </tr>\n",
       "    <tr>\n",
       "      <th>...</th>\n",
       "      <td>...</td>\n",
       "      <td>...</td>\n",
       "      <td>...</td>\n",
       "      <td>...</td>\n",
       "      <td>...</td>\n",
       "      <td>...</td>\n",
       "      <td>...</td>\n",
       "      <td>...</td>\n",
       "      <td>...</td>\n",
       "      <td>...</td>\n",
       "      <td>...</td>\n",
       "      <td>...</td>\n",
       "      <td>...</td>\n",
       "      <td>...</td>\n",
       "      <td>...</td>\n",
       "      <td>...</td>\n",
       "      <td>...</td>\n",
       "      <td>...</td>\n",
       "      <td>...</td>\n",
       "      <td>...</td>\n",
       "      <td>...</td>\n",
       "    </tr>\n",
       "    <tr>\n",
       "      <th>909</th>\n",
       "      <td>1.0</td>\n",
       "      <td>0.0</td>\n",
       "      <td>0.0</td>\n",
       "      <td>1.0</td>\n",
       "      <td>0.0</td>\n",
       "      <td>0.0</td>\n",
       "      <td>0.0</td>\n",
       "      <td>0.0</td>\n",
       "      <td>0.0</td>\n",
       "      <td>1.0</td>\n",
       "      <td>...</td>\n",
       "      <td>0.0</td>\n",
       "      <td>0.0</td>\n",
       "      <td>0.0</td>\n",
       "      <td>1.0</td>\n",
       "      <td>1.0</td>\n",
       "      <td>0.0</td>\n",
       "      <td>0.0</td>\n",
       "      <td>0.0</td>\n",
       "      <td>0.0</td>\n",
       "      <td>52500 - 1320000</td>\n",
       "    </tr>\n",
       "    <tr>\n",
       "      <th>910</th>\n",
       "      <td>0.0</td>\n",
       "      <td>0.0</td>\n",
       "      <td>0.0</td>\n",
       "      <td>1.0</td>\n",
       "      <td>0.0</td>\n",
       "      <td>0.0</td>\n",
       "      <td>0.0</td>\n",
       "      <td>0.0</td>\n",
       "      <td>0.0</td>\n",
       "      <td>1.0</td>\n",
       "      <td>...</td>\n",
       "      <td>0.0</td>\n",
       "      <td>0.0</td>\n",
       "      <td>0.0</td>\n",
       "      <td>0.0</td>\n",
       "      <td>0.0</td>\n",
       "      <td>0.0</td>\n",
       "      <td>0.0</td>\n",
       "      <td>0.0</td>\n",
       "      <td>1.0</td>\n",
       "      <td>52500 - 1320000</td>\n",
       "    </tr>\n",
       "    <tr>\n",
       "      <th>911</th>\n",
       "      <td>0.0</td>\n",
       "      <td>0.0</td>\n",
       "      <td>0.0</td>\n",
       "      <td>1.0</td>\n",
       "      <td>0.0</td>\n",
       "      <td>0.0</td>\n",
       "      <td>0.0</td>\n",
       "      <td>0.0</td>\n",
       "      <td>0.0</td>\n",
       "      <td>0.0</td>\n",
       "      <td>...</td>\n",
       "      <td>0.0</td>\n",
       "      <td>1.0</td>\n",
       "      <td>1.0</td>\n",
       "      <td>1.0</td>\n",
       "      <td>1.0</td>\n",
       "      <td>0.0</td>\n",
       "      <td>0.0</td>\n",
       "      <td>1.0</td>\n",
       "      <td>0.0</td>\n",
       "      <td>52500 - 1320000</td>\n",
       "    </tr>\n",
       "    <tr>\n",
       "      <th>912</th>\n",
       "      <td>1.0</td>\n",
       "      <td>0.0</td>\n",
       "      <td>0.0</td>\n",
       "      <td>1.0</td>\n",
       "      <td>0.0</td>\n",
       "      <td>0.0</td>\n",
       "      <td>0.0</td>\n",
       "      <td>0.0</td>\n",
       "      <td>0.0</td>\n",
       "      <td>1.0</td>\n",
       "      <td>...</td>\n",
       "      <td>0.0</td>\n",
       "      <td>0.0</td>\n",
       "      <td>1.0</td>\n",
       "      <td>0.0</td>\n",
       "      <td>1.0</td>\n",
       "      <td>0.0</td>\n",
       "      <td>0.0</td>\n",
       "      <td>0.0</td>\n",
       "      <td>0.0</td>\n",
       "      <td>52500 - 1320000</td>\n",
       "    </tr>\n",
       "    <tr>\n",
       "      <th>913</th>\n",
       "      <td>1.0</td>\n",
       "      <td>0.0</td>\n",
       "      <td>0.0</td>\n",
       "      <td>1.0</td>\n",
       "      <td>0.0</td>\n",
       "      <td>0.0</td>\n",
       "      <td>0.0</td>\n",
       "      <td>0.0</td>\n",
       "      <td>0.0</td>\n",
       "      <td>1.0</td>\n",
       "      <td>...</td>\n",
       "      <td>0.0</td>\n",
       "      <td>0.0</td>\n",
       "      <td>1.0</td>\n",
       "      <td>0.0</td>\n",
       "      <td>0.0</td>\n",
       "      <td>0.0</td>\n",
       "      <td>0.0</td>\n",
       "      <td>0.0</td>\n",
       "      <td>0.0</td>\n",
       "      <td>52500 - 1320000</td>\n",
       "    </tr>\n",
       "  </tbody>\n",
       "</table>\n",
       "<p>914 rows × 113 columns</p>\n",
       "</div>"
      ],
      "text/plain": [
       "     Confirmed  Data Scientist  Doctor  Développeur Java  \\\n",
       "0          0.0             0.0     0.0               0.0   \n",
       "1          1.0             0.0     0.0               0.0   \n",
       "2          0.0             0.0     0.0               0.0   \n",
       "3          0.0             0.0     0.0               0.0   \n",
       "4          0.0             0.0     0.0               0.0   \n",
       "..         ...             ...     ...               ...   \n",
       "909        1.0             0.0     0.0               1.0   \n",
       "910        0.0             0.0     0.0               1.0   \n",
       "911        0.0             0.0     0.0               1.0   \n",
       "912        1.0             0.0     0.0               1.0   \n",
       "913        1.0             0.0     0.0               1.0   \n",
       "\n",
       "     Développeur JavaScript  Développeur Python  Entry  Expert  France  \\\n",
       "0                       0.0                 1.0    0.0     0.0     1.0   \n",
       "1                       0.0                 1.0    0.0     0.0     1.0   \n",
       "2                       0.0                 1.0    0.0     1.0     1.0   \n",
       "3                       0.0                 1.0    0.0     0.0     1.0   \n",
       "4                       0.0                 1.0    1.0     0.0     1.0   \n",
       "..                      ...                 ...    ...     ...     ...   \n",
       "909                     0.0                 0.0    0.0     0.0     0.0   \n",
       "910                     0.0                 0.0    0.0     0.0     0.0   \n",
       "911                     0.0                 0.0    0.0     0.0     0.0   \n",
       "912                     0.0                 0.0    0.0     0.0     0.0   \n",
       "913                     0.0                 0.0    0.0     0.0     0.0   \n",
       "\n",
       "     Guaduate  ...  Conception  Documentation  Teach  Debug  Test  Redux  \\\n",
       "0         1.0  ...         0.0            0.0    0.0    1.0   0.0    0.0   \n",
       "1         1.0  ...         1.0            1.0    0.0    0.0   1.0    0.0   \n",
       "2         0.0  ...         0.0            0.0    0.0    0.0   0.0    0.0   \n",
       "3         0.0  ...         0.0            0.0    0.0    0.0   0.0    0.0   \n",
       "4         1.0  ...         0.0            0.0    0.0    0.0   0.0    0.0   \n",
       "..        ...  ...         ...            ...    ...    ...   ...    ...   \n",
       "909       1.0  ...         0.0            0.0    0.0    1.0   1.0    0.0   \n",
       "910       1.0  ...         0.0            0.0    0.0    0.0   0.0    0.0   \n",
       "911       0.0  ...         0.0            1.0    1.0    1.0   1.0    0.0   \n",
       "912       1.0  ...         0.0            0.0    1.0    0.0   1.0    0.0   \n",
       "913       1.0  ...         0.0            0.0    1.0    0.0   0.0    0.0   \n",
       "\n",
       "     JQuery  Maintenance  Microservices  Classe de salaire par an  \n",
       "0       0.0          1.0            0.0                 0 - 40000  \n",
       "1       0.0          0.0            0.0           52500 - 1320000  \n",
       "2       0.0          0.0            0.0                 0 - 40000  \n",
       "3       0.0          0.0            0.0           52500 - 1320000  \n",
       "4       0.0          0.0            0.0                 0 - 40000  \n",
       "..      ...          ...            ...                       ...  \n",
       "909     0.0          0.0            0.0           52500 - 1320000  \n",
       "910     0.0          0.0            1.0           52500 - 1320000  \n",
       "911     0.0          1.0            0.0           52500 - 1320000  \n",
       "912     0.0          0.0            0.0           52500 - 1320000  \n",
       "913     0.0          0.0            0.0           52500 - 1320000  \n",
       "\n",
       "[914 rows x 113 columns]"
      ]
     },
     "execution_count": 5,
     "metadata": {},
     "output_type": "execute_result"
    }
   ],
   "source": [
    "data"
   ]
  },
  {
   "cell_type": "code",
   "execution_count": 7,
   "metadata": {
    "ExecuteTime": {
     "end_time": "2020-06-06T22:41:21.000085Z",
     "start_time": "2020-06-06T22:41:20.992107Z"
    }
   },
   "outputs": [
    {
     "data": {
      "text/plain": [
       "Confirmed                           0\n",
       "Data Scientist                      0\n",
       "Doctor                              0\n",
       "Développeur Java                    0\n",
       "Développeur JavaScript              0\n",
       "                              ...    \n",
       "Redux                               0\n",
       "JQuery                              0\n",
       "Maintenance                         1\n",
       "Microservices                       0\n",
       "Classe de salaire par an    0 - 40000\n",
       "Name: 0, Length: 113, dtype: object"
      ]
     },
     "execution_count": 7,
     "metadata": {},
     "output_type": "execute_result"
    }
   ],
   "source": [
    "data.iloc[0]"
   ]
  },
  {
   "cell_type": "code",
   "execution_count": 8,
   "metadata": {
    "ExecuteTime": {
     "end_time": "2020-06-06T22:41:26.681449Z",
     "start_time": "2020-06-06T22:41:26.675466Z"
    }
   },
   "outputs": [],
   "source": [
    "test = pd.DataFrame({'Métier':'Développeur Python', 'Pays': 'France', 'Study required': 'Guaduate', 'Experience required': 'Confirmed'}, index=[0])"
   ]
  },
  {
   "cell_type": "code",
   "execution_count": 24,
   "metadata": {
    "ExecuteTime": {
     "end_time": "2020-06-06T22:55:48.301960Z",
     "start_time": "2020-06-06T22:55:48.287003Z"
    }
   },
   "outputs": [],
   "source": [
    "test = {'Confirmed':0, 'Data Scientist':0, 'Doctor':0, 'Développeur Java':0,\n",
    "                                 'Développeur JavaScript':0, 'Développeur Python':0, 'Entry':0, 'Expert':0,\n",
    "                                 'France':0, 'Guaduate':0, 'High School':0, 'Intermediate':0, 'Master':0,\n",
    "                                 'Senior':0, 'USA':0, 'Unnamed: 15':0, 'Python':0, 'R':0, 'Matlab':0,\n",
    "                                 'Kubernetes':0, 'Bash':0, 'Fortran':0, 'Ruby':0, 'Golang':0, 'C':0, 'Java':0,\n",
    "                                 'JEE':0, 'JSP':0, 'J2ME':0, 'BREW':0, 'MVC':0, 'SASS':0, 'XML':0, 'Eclipse':0,\n",
    "                                 'Spring':0, 'Atlassian':0, 'Jenkin':0, 'FIX':0, 'Nexus':0, 'Maven':0,\n",
    "                                 'Flutter':0, 'Bootstrap':0, 'Kafka':0, 'Data software':0, 'Data analysis':0,\n",
    "                                 'Data preprocessing':0, 'Report':0, 'Math':0, 'Development':0,\n",
    "                                 'Integration':0, 'ReactNative':0, 'Dataiku':0, 'Data viz':0, 'Data skills':0,\n",
    "                                 'Data pipeline':0, 'Git':0, 'SQL':0, 'Djanbo':0, 'Database':0, 'Javascrpit':0,\n",
    "                                 'POO':0, 'Regex':0, 'Mobile Programming':0, 'Team Work':0,\n",
    "                                 'Machine Learning':0, 'Web langage':0, 'System unix':0, 'Scratch':0,\n",
    "                                 'Scala':0, 'API':0, 'RestAPI':0, '.Net':0, 'Visual Studio':0, 'Responsive':0,\n",
    "                                 'Javascript Skills':0, 'Outil bureautique':0, 'Deep Learning':0,\n",
    "                                 'Text analytics':0, 'Marketing':0, 'Finance':0, 'Communication':0,\n",
    "                                 'Statistics':0, 'Cloud':0, 'Big data':0, 'Computer science':0, 'Flask':0,\n",
    "                                 'Streamlit':0, 'Docker':0, 'Saas':0, 'Back-end':0, 'Front-end':0, 'Design':0,\n",
    "                                 'SAS':0, 'Business intelligence':0, 'Statistic':0, 'Redis':0,\n",
    "                                 'Web Scrapping':0, 'Server':0, 'Blockchain':0, 'English':0, 'French':0,\n",
    "                                 'Postman':0, 'Websphere':0, 'Conception':0, 'Documentation':0, 'Teach':0,\n",
    "                                 'Debug':0, 'Test':0, 'Redux':0, 'JQuery':0, 'Maintenance':0, 'Microservices':0}"
   ]
  },
  {
   "cell_type": "code",
   "execution_count": 13,
   "metadata": {
    "ExecuteTime": {
     "end_time": "2020-06-06T22:41:52.711894Z",
     "start_time": "2020-06-06T22:41:52.707877Z"
    }
   },
   "outputs": [
    {
     "data": {
      "text/plain": [
       "1"
      ]
     },
     "execution_count": 13,
     "metadata": {},
     "output_type": "execute_result"
    }
   ],
   "source": [
    "mm ='Python'\n",
    "test[mm] = 1\n",
    "test['Python']"
   ]
  },
  {
   "cell_type": "code",
   "execution_count": 28,
   "metadata": {
    "ExecuteTime": {
     "end_time": "2020-06-06T22:56:29.422599Z",
     "start_time": "2020-06-06T22:56:29.413624Z"
    }
   },
   "outputs": [
    {
     "name": "stdout",
     "output_type": "stream",
     "text": [
      "[array([0, 0, 0, 0, 0, 0, 0, 0, 0, 0, 0, 0, 0, 0, 0, 0, 0, 0, 0, 0, 0, 0,\n",
      "       0, 0, 0, 0, 0, 0, 0, 0, 0, 0, 0, 0, 0, 0, 0, 0, 0, 0, 0, 0, 0, 0,\n",
      "       0, 0, 0, 0, 0, 0, 0, 0, 0, 0, 0, 0, 0, 0, 0, 0, 0, 0, 0, 0, 0, 0,\n",
      "       0, 0, 0, 0, 0, 0, 0, 0, 0, 0, 0, 0, 0, 0, 0, 0, 0, 0, 0, 0, 0, 0,\n",
      "       0, 0, 0, 0, 0, 0, 0, 0, 0, 0, 0, 0, 0, 0, 0, 0, 0, 0, 0, 0, 0, 0,\n",
      "       0, 0])]\n",
      "112\n"
     ]
    }
   ],
   "source": [
    "int_features = [int(x) for x in list(test.values())]\n",
    "final_features = [np.array(int_features)]\n",
    "print(final_features)\n",
    "print(len(int_features))"
   ]
  }
 ],
 "metadata": {
  "kernelspec": {
   "display_name": "Python 3",
   "language": "python",
   "name": "python3"
  },
  "language_info": {
   "codemirror_mode": {
    "name": "ipython",
    "version": 3
   },
   "file_extension": ".py",
   "mimetype": "text/x-python",
   "name": "python",
   "nbconvert_exporter": "python",
   "pygments_lexer": "ipython3",
   "version": "3.7.6"
  },
  "latex_envs": {
   "LaTeX_envs_menu_present": true,
   "autoclose": false,
   "autocomplete": true,
   "bibliofile": "biblio.bib",
   "cite_by": "apalike",
   "current_citInitial": 1,
   "eqLabelWithNumbers": true,
   "eqNumInitial": 1,
   "hotkeys": {
    "equation": "Ctrl-E",
    "itemize": "Ctrl-I"
   },
   "labels_anchors": false,
   "latex_user_defs": false,
   "report_style_numbering": false,
   "user_envs_cfg": false
  },
  "toc": {
   "base_numbering": 1,
   "nav_menu": {},
   "number_sections": true,
   "sideBar": true,
   "skip_h1_title": false,
   "title_cell": "Table of Contents",
   "title_sidebar": "Contents",
   "toc_cell": false,
   "toc_position": {},
   "toc_section_display": true,
   "toc_window_display": false
  },
  "varInspector": {
   "cols": {
    "lenName": 16,
    "lenType": 16,
    "lenVar": 40
   },
   "kernels_config": {
    "python": {
     "delete_cmd_postfix": "",
     "delete_cmd_prefix": "del ",
     "library": "var_list.py",
     "varRefreshCmd": "print(var_dic_list())"
    },
    "r": {
     "delete_cmd_postfix": ") ",
     "delete_cmd_prefix": "rm(",
     "library": "var_list.r",
     "varRefreshCmd": "cat(var_dic_list()) "
    }
   },
   "types_to_exclude": [
    "module",
    "function",
    "builtin_function_or_method",
    "instance",
    "_Feature"
   ],
   "window_display": false
  }
 },
 "nbformat": 4,
 "nbformat_minor": 4
}
