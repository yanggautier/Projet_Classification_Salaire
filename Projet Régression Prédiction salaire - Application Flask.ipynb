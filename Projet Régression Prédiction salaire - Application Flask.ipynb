{
 "cells": [
  {
   "cell_type": "code",
   "execution_count": 1,
   "metadata": {},
   "outputs": [
    {
     "name": "stdout",
     "output_type": "stream",
     "text": [
      " * Serving Flask app \"__main__\" (lazy loading)\n",
      " * Environment: production\n",
      "   WARNING: This is a development server. Do not use it in a production deployment.\n",
      "   Use a production WSGI server instead.\n",
      " * Debug mode: on\n"
     ]
    },
    {
     "name": "stderr",
     "output_type": "stream",
     "text": [
      "C:\\Users\\utilisateur\\anaconda3\\lib\\site-packages\\sklearn\\base.py:318: UserWarning: Trying to unpickle estimator DecisionTreeClassifier from version 0.23.1 when using version 0.22.1. This might lead to breaking code or invalid results. Use at your own risk.\n",
      "  UserWarning)\n",
      "C:\\Users\\utilisateur\\anaconda3\\lib\\site-packages\\sklearn\\base.py:318: UserWarning: Trying to unpickle estimator RandomForestClassifier from version 0.23.1 when using version 0.22.1. This might lead to breaking code or invalid results. Use at your own risk.\n",
      "  UserWarning)\n",
      "C:\\Users\\utilisateur\\anaconda3\\lib\\site-packages\\sklearn\\base.py:318: UserWarning: Trying to unpickle estimator GridSearchCV from version 0.23.1 when using version 0.22.1. This might lead to breaking code or invalid results. Use at your own risk.\n",
      "  UserWarning)\n",
      " * Restarting with windowsapi reloader\n"
     ]
    },
    {
     "ename": "SystemExit",
     "evalue": "1",
     "output_type": "error",
     "traceback": [
      "An exception has occurred, use %tb to see the full traceback.\n",
      "\u001b[1;31mSystemExit\u001b[0m\u001b[1;31m:\u001b[0m 1\n"
     ]
    },
    {
     "name": "stderr",
     "output_type": "stream",
     "text": [
      "C:\\Users\\utilisateur\\anaconda3\\lib\\site-packages\\IPython\\core\\interactiveshell.py:3339: UserWarning: To exit: use 'exit', 'quit', or Ctrl-D.\n",
      "  warn(\"To exit: use 'exit', 'quit', or Ctrl-D.\", stacklevel=1)\n"
     ]
    }
   ],
   "source": [
    "import oyaml as yaml\n",
    "from flask import Flask, render_template, request, jsonify\n",
    "import numpy as np\n",
    "import pickle\n",
    "\n",
    "app = Flask(__name__)\n",
    "app.config['JSON_SORT_KEYS'] = False\n",
    "model = pickle.load(open('model.pkl', 'rb'))\n",
    "\n",
    "\n",
    "@app.route('/')\n",
    "@app.route('/index')\n",
    "def index():\n",
    "    websitedata = yaml.load(open('_config.yaml', encoding='utf-8'))\n",
    "    return render_template('index.html', data=websitedata)\n",
    "\n",
    "@app.route('/predict', methods=['GET', 'POST'])\n",
    "def predict():\n",
    "    '''\n",
    "    For rendering results on HTML GUI\n",
    "    '''\n",
    "\n",
    "    job = request.form.getlist('gridRadioJob')\n",
    "\n",
    "    if job[0] == \"dscientist\":\n",
    "        metier = \"Data Scientist\"\n",
    "    elif job[0] == \"python\":\n",
    "        metier = \"Développeur Python\"\n",
    "    elif job[0] == \"js\":\n",
    "        metier = \"Développeur JavaScript\"\n",
    "    elif job[0] == \"java\":\n",
    "        metier = \"Développeur Java\"\n",
    "    else:\n",
    "        metier = None\n",
    "\n",
    "    test = {'Confirmed': 0, 'Data Scientist': 0, 'Doctor': 0, 'Développeur Java': 0,\n",
    "            'Développeur JavaScript': 0, 'Développeur Python': 0, 'Entry': 0, 'Expert': 0,\n",
    "            'France': 0, 'Guaduate': 0, 'High School': 0, 'Intermediate': 0, 'Master': 0,\n",
    "            'Senior': 0, 'USA': 0, 'Unnamed: 15': 0, 'Python': 0, 'R': 0, 'Matlab': 0,\n",
    "            'Kubernetes': 0, 'Bash': 0, 'Fortran': 0, 'Ruby': 0, 'Golang': 0, 'C': 0, 'Java': 0,\n",
    "            'JEE': 0, 'JSP': 0, 'J2ME': 0, 'BREW': 0, 'MVC': 0, 'SASS': 0, 'XML': 0, 'Eclipse': 0,\n",
    "            'Spring': 0, 'Atlassian': 0, 'Jenkin': 0, 'FIX': 0, 'Nexus': 0, 'Maven': 0,\n",
    "            'Flutter': 0, 'Bootstrap': 0, 'Kafka': 0, 'Data software': 0, 'Data analysis': 0,\n",
    "            'Data preprocessing': 0, 'Report': 0, 'Math': 0, 'Development': 0,\n",
    "            'Integration': 0, 'ReactNative': 0, 'Dataiku': 0, 'Data viz': 0, 'Data skills': 0,\n",
    "            'Data pipeline': 0, 'Git': 0, 'SQL': 0, 'Djanbo': 0, 'Database': 0, 'Javascrpit': 0,\n",
    "            'POO': 0, 'Regex': 0, 'Mobile Programming': 0, 'Team Work': 0,\n",
    "            'Machine Learning': 0, 'Web langage': 0, 'System unix': 0, 'Scratch': 0,\n",
    "            'Scala': 0, 'API': 0, 'RestAPI': 0, '.Net': 0, 'Visual Studio': 0, 'Responsive': 0,\n",
    "            'Javascript Skills': 0, 'Outil bureautique': 0, 'Deep Learning': 0,\n",
    "            'Text analytics': 0, 'Marketing': 0, 'Finance': 0, 'Communication': 0,\n",
    "            'Statistics': 0, 'Cloud': 0, 'Big data': 0, 'Computer science': 0, 'Flask': 0,\n",
    "            'Streamlit': 0, 'Docker': 0, 'Saas': 0, 'Back-end': 0, 'Front-end': 0, 'Design': 0,\n",
    "            'SAS': 0, 'Business intelligence': 0, 'Statistic': 0, 'Redis': 0,\n",
    "            'Web Scrapping': 0, 'Server': 0, 'Blockchain': 0, 'English': 0, 'French': 0,\n",
    "            'Postman': 0, 'Websphere': 0, 'Conception': 0, 'Documentation': 0, 'Teach': 0,\n",
    "            'Debug': 0, 'Test': 0, 'Redux': 0, 'JQuery': 0, 'Maintenance': 0, 'Microservices': 0}\n",
    "\n",
    "    studylevel = request.form.getlist('gridRadioEtude')[0]\n",
    "    explevel = request.form.getlist('gridRadioExp')[0]\n",
    "    pays = request.form.getlist('gridRadiosPays')[0]\n",
    "    skills = request.form.getlist('skills')\n",
    "\n",
    "    for skill in skills:\n",
    "        test[skill] = 1\n",
    "\n",
    "    test[metier] = 1\n",
    "    test[studylevel] = 1\n",
    "    test[explevel] = 1\n",
    "    test[pays] = 1\n",
    "\n",
    "    int_features = [int(x) for x in list(test.values())]\n",
    "    final_features = [np.array(int_features)]\n",
    "\n",
    "\n",
    "    prediction = model.predict(final_features)[0]\n",
    "\n",
    "    if pays == \"France\":\n",
    "        devise = '€'\n",
    "    else:\n",
    "        devise = '$'\n",
    "\n",
    "    return render_template('predict.html', prediction_text = \"Votre salaire est entre \" + prediction + ' ' + devise + \" par an en \"+pays)\n",
    "\n",
    "\n",
    "if __name__ == '__main__':\n",
    "    app.run(debug=True, port=5000)"
   ]
  },
  {
   "cell_type": "code",
   "execution_count": null,
   "metadata": {},
   "outputs": [],
   "source": []
  }
 ],
 "metadata": {
  "kernelspec": {
   "display_name": "Python 3",
   "language": "python",
   "name": "python3"
  },
  "language_info": {
   "codemirror_mode": {
    "name": "ipython",
    "version": 3
   },
   "file_extension": ".py",
   "mimetype": "text/x-python",
   "name": "python",
   "nbconvert_exporter": "python",
   "pygments_lexer": "ipython3",
   "version": "3.7.6"
  }
 },
 "nbformat": 4,
 "nbformat_minor": 4
}
