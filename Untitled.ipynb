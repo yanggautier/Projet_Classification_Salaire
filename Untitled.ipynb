{
 "cells": [
  {
   "cell_type": "code",
   "execution_count": 1,
   "metadata": {
    "ExecuteTime": {
     "end_time": "2020-06-03T09:32:00.440226Z",
     "start_time": "2020-06-03T09:31:56.157125Z"
    }
   },
   "outputs": [],
   "source": [
    "\n",
    "from selenium import webdriver\n",
    "from webdriver_manager.chrome import ChromeDriverManager\n",
    "\n",
    "from selenium.webdriver.common.by import By\n",
    "from selenium.webdriver.support.ui import WebDriverWait\n",
    "from selenium.webdriver.support import expected_conditions as EC\n",
    "import time\n",
    "from selenium.common.exceptions import NoSuchElementException\n",
    "from selenium.common.exceptions import TimeoutException\n",
    "from selenium.webdriver.common.keys import Keys\n",
    "import concurrent.futures\n",
    "import pandas as pd\n",
    "#import re\n"
   ]
  },
  {
   "cell_type": "code",
   "execution_count": 11,
   "metadata": {
    "ExecuteTime": {
     "end_time": "2020-06-03T09:45:14.620097Z",
     "start_time": "2020-06-03T09:45:14.601130Z"
    }
   },
   "outputs": [],
   "source": [
    "def searchJob(jobName, country):\n",
    "\n",
    "    # option = webdriver.ChromeOptions()\n",
    "    # option.add_argument(\"--incognito\")\n",
    "\n",
    "    from webdriver_manager.chrome import ChromeDriverManager\n",
    "\n",
    "    driver = webdriver.Chrome(ChromeDriverManager().install())\n",
    "    #driver = webdriver.Chrome()\n",
    "    driver.get('https://www.indeed.fr')\n",
    "    driver.maximize_window()\n",
    "\n",
    "    searchInputwhat = driver.find_element_by_id('text-input-what')\n",
    "    searchInputwhat.send_keys(jobName)\n",
    "    # jobsearch-SerpJobCard\n",
    "    time.sleep(0.2)\n",
    "    searchInputwhere = driver.find_element_by_id('text-input-where')\n",
    "    time.sleep(0.2)\n",
    "    # driver.find_element_by_id('text-input-where').click()\n",
    "\n",
    "    while len(searchInputwhere.get_attribute('value')) != 0:\n",
    "        searchInputwhere.send_keys(Keys.BACKSPACE)\n",
    "\n",
    "    driver.find_element_by_id('text-input-where').send_keys(country)\n",
    "    # searchInputwhere.send_keys('France')\n",
    "\n",
    "    bouton_search = driver.find_element_by_class_name('icl-Button')\n",
    "    bouton_search.click()\n",
    "\n",
    "    try:\n",
    "        time.sleep(0.3)\n",
    "        driver.find_element_by_class_name('popover-x-button-close').click()\n",
    "    except:\n",
    "        pass\n",
    "\n",
    "    try:\n",
    "        change_country = driver.find_element_by_xpath(\n",
    "            \"//div[@class='invalid_location']/p/a\")\n",
    "        change_country.click()\n",
    "    except:\n",
    "        pass\n",
    "\n",
    "    # Les listes vides pour chaque feature\n",
    "    data = pd.DataFrame({'Poste': [], 'Métier':[],'Pays': [], 'Ville': [], 'Entreprise': [], 'Contrat':[], 'Salaire': [], 'Description': []})\n",
    "\n",
    "    page = True\n",
    "\n",
    "    while page:\n",
    "\n",
    "        # Au cas où y a un pop up\n",
    "        try:\n",
    "            time.sleep(0.5)\n",
    "            driver.find_element_by_class_name('popover-x-button-close').click()\n",
    "        except:\n",
    "            pass\n",
    "\n",
    "        # Trouver la carte de chaque job\n",
    "        jobcards = driver.find_elements_by_class_name('jobsearch-SerpJobCard')\n",
    "\n",
    "        # Function récurrente pour scrapping les données\n",
    "        for job in jobcards:\n",
    "            job.click()\n",
    "            time.sleep(0.2)\n",
    "\n",
    "            job_name = jobName.replace('\"','')\n",
    "\n",
    "            # Les noms des posts proposés\n",
    "            try:\n",
    "                title = job.find_element_by_class_name('title').text.replace('\\n', '')\n",
    "            except NoSuchElementException:\n",
    "                title = None\n",
    "\n",
    "                # Les nom d'entreprise\n",
    "            try:\n",
    "                entreprise = job.find_element_by_class_name('company').text\n",
    "            except NoSuchElementException:\n",
    "                entreprise = None\n",
    "\n",
    "                # Les localisations des entreprises\n",
    "            try:\n",
    "                ville = job.find_element_by_class_name('location').text\n",
    "            except NoSuchElementException:\n",
    "                ville = None\n",
    "\n",
    "                # Les types de contrat des postes\n",
    "            try:\n",
    "                contrat = driver.find_element_by_css_selector(\n",
    "                    \".jobMetadataHeader-itemWithIcon-icon-jobs + span\").text\n",
    "            except:\n",
    "                contrat = None\n",
    "\n",
    "                # Les salaires des postes recrutées\n",
    "            try:\n",
    "                salaire = job.find_element_by_class_name(\"salaryText\").text\n",
    "            except NoSuchElementException:\n",
    "                salaire = None\n",
    "\n",
    "                # Les descriptions des postes\n",
    "            try:\n",
    "                element = WebDriverWait(driver, 10).until(\n",
    "                    EC.presence_of_element_located((By.ID, \"vjs-container\")))\n",
    "                description = element.text.replace('\\n', ' ')\n",
    "            except TimeoutException:\n",
    "                description = None\n",
    "\n",
    "            data = pd.concat([data, pd.DataFrame({'Poste': title, 'Métier':job_name,'Pays': country, 'Ville': ville, 'Entreprise': entreprise,'Contrat': contrat,  'Salaire': salaire, 'Description': description}, index=[0])], ignore_index=True)\n",
    "\n",
    "        try:\n",
    "            element = WebDriverWait(driver, 60).until(\n",
    "                EC.presence_of_element_located((By.XPATH, \"//a[@aria-label='Suivant'] | //a[@aria-label='Next'] | span[contains(text(),'Suivant')] | span[contains(text(),'Next')]\")))\n",
    "            element.click()\n",
    "        except TimeoutException:\n",
    "            page = False\n",
    "\n",
    "    filename = str.lower(jobName.replace(' ', '').replace(\n",
    "        '\"', '') + country) + \".csv\".replace(' ', '')\n",
    "\n",
    "    data.to_csv(filename, index=False, sep=';', encoding=\"utf-8-sig\")\n",
    "\n",
    "    print(filename + \"complete\")\n",
    "    driver.quit()\n",
    "\n",
    "\n"
   ]
  },
  {
   "cell_type": "code",
   "execution_count": 15,
   "metadata": {
    "ExecuteTime": {
     "end_time": "2020-06-03T09:59:07.295034Z",
     "start_time": "2020-06-03T09:59:06.801670Z"
    }
   },
   "outputs": [],
   "source": [
    "# def main():\n",
    "jobs = ['\"Data scientist\"', '\"Python\"', '\"Javascript\"', '\"Java\"', '\"Data scientist\"', '\"Python\"', '\"Javascript\"', '\"Java\"']\n",
    "countrys = ['France', 'France', 'France','France', 'USA', 'USA', 'USA', 'USA']\n",
    "\n",
    "with concurrent.futures.ProcessPoolExecutor() as executor:\n",
    "     executor.map(searchJob, jobs, countrys)\n",
    "\n",
    "#searchJob('\"Data scientist\"',  'France')\n",
    "\n"
   ]
  },
  {
   "cell_type": "code",
   "execution_count": null,
   "metadata": {},
   "outputs": [],
   "source": [
    "\n",
    "if __name__ == '__main__':\n",
    "    main()\n"
   ]
  }
 ],
 "metadata": {
  "kernelspec": {
   "display_name": "Python 3",
   "language": "python",
   "name": "python3"
  },
  "language_info": {
   "codemirror_mode": {
    "name": "ipython",
    "version": 3
   },
   "file_extension": ".py",
   "mimetype": "text/x-python",
   "name": "python",
   "nbconvert_exporter": "python",
   "pygments_lexer": "ipython3",
   "version": "3.7.6"
  },
  "latex_envs": {
   "LaTeX_envs_menu_present": true,
   "autoclose": false,
   "autocomplete": true,
   "bibliofile": "biblio.bib",
   "cite_by": "apalike",
   "current_citInitial": 1,
   "eqLabelWithNumbers": true,
   "eqNumInitial": 1,
   "hotkeys": {
    "equation": "Ctrl-E",
    "itemize": "Ctrl-I"
   },
   "labels_anchors": false,
   "latex_user_defs": false,
   "report_style_numbering": false,
   "user_envs_cfg": false
  },
  "toc": {
   "base_numbering": 1,
   "nav_menu": {},
   "number_sections": true,
   "sideBar": true,
   "skip_h1_title": false,
   "title_cell": "Table of Contents",
   "title_sidebar": "Contents",
   "toc_cell": false,
   "toc_position": {},
   "toc_section_display": true,
   "toc_window_display": false
  },
  "varInspector": {
   "cols": {
    "lenName": 16,
    "lenType": 16,
    "lenVar": 40
   },
   "kernels_config": {
    "python": {
     "delete_cmd_postfix": "",
     "delete_cmd_prefix": "del ",
     "library": "var_list.py",
     "varRefreshCmd": "print(var_dic_list())"
    },
    "r": {
     "delete_cmd_postfix": ") ",
     "delete_cmd_prefix": "rm(",
     "library": "var_list.r",
     "varRefreshCmd": "cat(var_dic_list()) "
    }
   },
   "types_to_exclude": [
    "module",
    "function",
    "builtin_function_or_method",
    "instance",
    "_Feature"
   ],
   "window_display": false
  }
 },
 "nbformat": 4,
 "nbformat_minor": 4
}
