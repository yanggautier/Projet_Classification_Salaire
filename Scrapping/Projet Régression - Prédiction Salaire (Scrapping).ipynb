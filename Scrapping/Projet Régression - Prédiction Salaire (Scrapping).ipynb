{
 "cells": [
  {
   "cell_type": "markdown",
   "metadata": {},
   "source": [
    "# Scrapping\n",
    "\n",
    "On doit scrappé : \n",
    "- Titre d'emploi, \n",
    "- Le nom de la société, \n",
    "- La localisation, \n",
    "- Type de contrat, \n",
    "- Salaire,\n",
    "- Détail du job,\n",
    "- Temps de travail, \n",
    "- Les critères du candidat: niveau d'études minimum requis, la formation, niveau d'expérience minimum, les langues"
   ]
  },
  {
   "cell_type": "code",
   "execution_count": 2,
   "metadata": {
    "ExecuteTime": {
     "end_time": "2020-05-28T09:34:07.019593Z",
     "start_time": "2020-05-28T09:34:03.996582Z"
    }
   },
   "outputs": [],
   "source": [
    "import selenium\n",
    "from selenium import webdriver\n",
    "from selenium.webdriver import ActionChains\n",
    "from selenium.webdriver.common.by import By\n",
    "from selenium.webdriver.support.ui import WebDriverWait\n",
    "from selenium.webdriver.support import expected_conditions as EC\n",
    "import time\n",
    "from selenium.common.exceptions import NoSuchElementException\n",
    "from selenium.common.exceptions import ElementClickInterceptedException\n",
    "import pandas as pd\n",
    "from selenium.webdriver.support.ui import WebDriverWait\n",
    "\n",
    "from bs4 import BeautifulSoup"
   ]
  },
  {
   "cell_type": "code",
   "execution_count": 132,
   "metadata": {
    "ExecuteTime": {
     "end_time": "2020-05-26T14:09:09.859945Z",
     "start_time": "2020-05-26T14:08:56.869518Z"
    }
   },
   "outputs": [],
   "source": [
    "driver = webdriver.Chrome()\n",
    "driver.get('https://www.indeed.fr/')\n",
    "\n",
    "driver.maximize_window()\n",
    "\n",
    "searchInputwhat = driver.find_element_by_id('text-input-what')\n",
    "searchInputwhat.send_keys('Data Scientist')\n",
    "# jobsearch-SerpJobCard \n",
    "\n",
    "\n",
    "searchInputwhere = driver.find_element_by_id('text-input-where')\n",
    "time.sleep(0.2)\n",
    "# driver.find_element_by_id('text-input-where').click()\n",
    "\n",
    "while len(searchInputwhere.get_attribute('value')) != 0:\n",
    "    searchInputwhere.send_keys(Keys.BACKSPACE)\n",
    "\n",
    "driver.find_element_by_id('text-input-where').send_keys('France')\n",
    "# searchInputwhere.send_keys('France')\n",
    "\n",
    "bouton_search = driver.find_element_by_class_name('icl-Button')\n",
    "bouton_search.click()"
   ]
  },
  {
   "cell_type": "code",
   "execution_count": 1,
   "metadata": {
    "ExecuteTime": {
     "end_time": "2020-05-28T09:33:59.991056Z",
     "start_time": "2020-05-28T09:33:59.925205Z"
    },
    "hide_input": false
   },
   "outputs": [
    {
     "ename": "NameError",
     "evalue": "name 'driver' is not defined",
     "output_type": "error",
     "traceback": [
      "\u001b[1;31m---------------------------------------------------------------------------\u001b[0m",
      "\u001b[1;31mNameError\u001b[0m                                 Traceback (most recent call last)",
      "\u001b[1;32m<ipython-input-1-6ae71125e259>\u001b[0m in \u001b[0;36m<module>\u001b[1;34m\u001b[0m\n\u001b[0;32m     27\u001b[0m \u001b[1;33m\u001b[0m\u001b[0m\n\u001b[0;32m     28\u001b[0m     \u001b[1;31m# Trouver la carte de chaque job\u001b[0m\u001b[1;33m\u001b[0m\u001b[1;33m\u001b[0m\u001b[1;33m\u001b[0m\u001b[0m\n\u001b[1;32m---> 29\u001b[1;33m     \u001b[0mjobcards\u001b[0m \u001b[1;33m=\u001b[0m \u001b[0mdriver\u001b[0m\u001b[1;33m.\u001b[0m\u001b[0mfind_elements_by_class_name\u001b[0m\u001b[1;33m(\u001b[0m\u001b[1;34m'jobsearch-SerpJobCard'\u001b[0m\u001b[1;33m)\u001b[0m\u001b[1;33m\u001b[0m\u001b[1;33m\u001b[0m\u001b[0m\n\u001b[0m\u001b[0;32m     30\u001b[0m \u001b[1;33m\u001b[0m\u001b[0m\n\u001b[0;32m     31\u001b[0m \u001b[1;33m\u001b[0m\u001b[0m\n",
      "\u001b[1;31mNameError\u001b[0m: name 'driver' is not defined"
     ]
    }
   ],
   "source": [
    "# Les listes vides pour chaque feature\n",
    "getInfo = { \n",
    "    'titles' : [],\n",
    "    'companies' : [],\n",
    "    'localisations' : [],\n",
    "    'contrats' : [],\n",
    "    'salaries' : [],\n",
    "    'details' : [],\n",
    "    'durations' : [],\n",
    "    'study_levels' : [],\n",
    "    'experiences' : [],\n",
    "    'formations' : [],\n",
    "    'other_features' : []\n",
    "    }\n",
    "\n",
    "page = True\n",
    "\n",
    "while page: \n",
    "    \n",
    "       # Au cas où y a un pop up\n",
    "    try:\n",
    "        time.sleep(0.5)\n",
    "        driver.find_element_by_class_name('popover-x-button-close').click()    \n",
    "    except:\n",
    "        pass\n",
    "    \n",
    "    \n",
    "    # Trouver la carte de chaque job\n",
    "    jobcards = driver.find_elements_by_class_name('jobsearch-SerpJobCard')\n",
    "    \n",
    "    \n",
    "    # Function récurrente pour scrapping les données\n",
    "    for job in jobcards:\n",
    "        job.click()\n",
    "        time.sleep(0.2)\n",
    "        \n",
    " \n",
    "      \n",
    "        # Les noms des posts proposés\n",
    "        try:\n",
    "            getInfo['titles'].append(job.find_element_by_class_name('title').text)\n",
    "        except NoSuchElementException:\n",
    "            getInfo['titles'].append(\"None\")\n",
    "\n",
    "        # Les nom d'entreprise\n",
    "        try:\n",
    "            getInfo['companies'].append(job.find_element_by_class_name('company').text)\n",
    "        except NoSuchElementException:\n",
    "            getInfo['companies'].append(\"None\")\n",
    "\n",
    "        # Les localisations des entreprises\n",
    "        try:\n",
    "            getInfo['localisations'].append(job.find_element_by_class_name('local').text)\n",
    "        except NoSuchElementException:\n",
    "            getInfo['localisations'].append(\"None\")\n",
    "\n",
    "        try:\n",
    "            complementaire = driver.find_element_by_id('vjs-contenaire')\n",
    "    #         descrpiton = driver.find_element_by_id('vjs-desc')\n",
    "        except NoSuchElementException:\n",
    "            pass\n",
    "\n",
    "        try:\n",
    "            contrat = driver.find_element_by_css_selector(\".jobMetadataHeader-itemWithIcon-icon-jobs + span\").text\n",
    "            getInfo['contrats'].append(contrat)\n",
    "        except:\n",
    "            getInfo['contrats'].append(\"None\")\n",
    "\n",
    "        try:\n",
    "            salary = job.find_element_by_class_name(\"salaryText\").text\n",
    "            getInfo['salaries'].append(salary)\n",
    "        except NoSuchElementException:\n",
    "            getInfo['salaries'].append(\"None\")\n",
    "\n",
    "#     try:\n",
    "#         time.sleep(1)\n",
    "#         driver.find_element_by_xpath(\"//a[@aria-label='Suivant']\").click()    \n",
    "#     except ElementClickInterceptedException:\n",
    "#         break\n",
    "    try:\n",
    "        element = WebDriverWait(driver, 10).until(           \n",
    "        EC.presence_of_element_located((By.XPATH, \"//a[@aria-label='Suivant']\")))\n",
    "        element.click()\n",
    "#     driver.find_element_by_xpath(\"//a[@aria-label='Suivant']\").click()    \n",
    "    except ElementClickInterceptedException:\n",
    "        page = False\n"
   ]
  },
  {
   "cell_type": "code",
   "execution_count": 150,
   "metadata": {
    "ExecuteTime": {
     "end_time": "2020-05-26T14:56:08.898296Z",
     "start_time": "2020-05-26T14:56:08.864343Z"
    }
   },
   "outputs": [
    {
     "ename": "TypeError",
     "evalue": "object of type 'WebElement' has no len()",
     "output_type": "error",
     "traceback": [
      "\u001b[1;31m---------------------------------------------------------------------------\u001b[0m",
      "\u001b[1;31mTypeError\u001b[0m                                 Traceback (most recent call last)",
      "\u001b[1;32m<ipython-input-150-c96f86c2bf0a>\u001b[0m in \u001b[0;36m<module>\u001b[1;34m\u001b[0m\n\u001b[0;32m      1\u001b[0m \u001b[0mcontainer\u001b[0m \u001b[1;33m=\u001b[0m \u001b[0mdriver\u001b[0m\u001b[1;33m.\u001b[0m\u001b[0mfind_element_by_id\u001b[0m\u001b[1;33m(\u001b[0m\u001b[1;34m'vjs-container'\u001b[0m\u001b[1;33m)\u001b[0m\u001b[1;33m\u001b[0m\u001b[1;33m\u001b[0m\u001b[0m\n\u001b[1;32m----> 2\u001b[1;33m \u001b[0msoup\u001b[0m \u001b[1;33m=\u001b[0m \u001b[0mBeautifulSoup\u001b[0m\u001b[1;33m(\u001b[0m\u001b[0mcontainer\u001b[0m\u001b[1;33m,\u001b[0m\u001b[1;34m'html.parser'\u001b[0m\u001b[1;33m)\u001b[0m\u001b[1;33m\u001b[0m\u001b[1;33m\u001b[0m\u001b[0m\n\u001b[0m",
      "\u001b[1;32mD:\\Anaconda3\\lib\\site-packages\\bs4\\__init__.py\u001b[0m in \u001b[0;36m__init__\u001b[1;34m(self, markup, features, builder, parse_only, from_encoding, exclude_encodings, element_classes, **kwargs)\u001b[0m\n\u001b[0;32m    285\u001b[0m         \u001b[1;32mif\u001b[0m \u001b[0mhasattr\u001b[0m\u001b[1;33m(\u001b[0m\u001b[0mmarkup\u001b[0m\u001b[1;33m,\u001b[0m \u001b[1;34m'read'\u001b[0m\u001b[1;33m)\u001b[0m\u001b[1;33m:\u001b[0m        \u001b[1;31m# It's a file-type object.\u001b[0m\u001b[1;33m\u001b[0m\u001b[1;33m\u001b[0m\u001b[0m\n\u001b[0;32m    286\u001b[0m             \u001b[0mmarkup\u001b[0m \u001b[1;33m=\u001b[0m \u001b[0mmarkup\u001b[0m\u001b[1;33m.\u001b[0m\u001b[0mread\u001b[0m\u001b[1;33m(\u001b[0m\u001b[1;33m)\u001b[0m\u001b[1;33m\u001b[0m\u001b[1;33m\u001b[0m\u001b[0m\n\u001b[1;32m--> 287\u001b[1;33m         elif len(markup) <= 256 and (\n\u001b[0m\u001b[0;32m    288\u001b[0m                 \u001b[1;33m(\u001b[0m\u001b[0misinstance\u001b[0m\u001b[1;33m(\u001b[0m\u001b[0mmarkup\u001b[0m\u001b[1;33m,\u001b[0m \u001b[0mbytes\u001b[0m\u001b[1;33m)\u001b[0m \u001b[1;32mand\u001b[0m \u001b[1;32mnot\u001b[0m \u001b[1;34mb'<'\u001b[0m \u001b[1;32min\u001b[0m \u001b[0mmarkup\u001b[0m\u001b[1;33m)\u001b[0m\u001b[1;33m\u001b[0m\u001b[1;33m\u001b[0m\u001b[0m\n\u001b[0;32m    289\u001b[0m                 \u001b[1;32mor\u001b[0m \u001b[1;33m(\u001b[0m\u001b[0misinstance\u001b[0m\u001b[1;33m(\u001b[0m\u001b[0mmarkup\u001b[0m\u001b[1;33m,\u001b[0m \u001b[0mstr\u001b[0m\u001b[1;33m)\u001b[0m \u001b[1;32mand\u001b[0m \u001b[1;32mnot\u001b[0m \u001b[1;34m'<'\u001b[0m \u001b[1;32min\u001b[0m \u001b[0mmarkup\u001b[0m\u001b[1;33m)\u001b[0m\u001b[1;33m\u001b[0m\u001b[1;33m\u001b[0m\u001b[0m\n",
      "\u001b[1;31mTypeError\u001b[0m: object of type 'WebElement' has no len()"
     ]
    }
   ],
   "source": [
    "container = driver.find_element_by_id('vjs-container')\n",
    "soup = BeautifulSoup(container,'html.parser')"
   ]
  },
  {
   "cell_type": "code",
   "execution_count": null,
   "metadata": {},
   "outputs": [],
   "source": []
  }
 ],
 "metadata": {
  "kernelspec": {
   "display_name": "Python 3",
   "language": "python",
   "name": "python3"
  },
  "language_info": {
   "codemirror_mode": {
    "name": "ipython",
    "version": 3
   },
   "file_extension": ".py",
   "mimetype": "text/x-python",
   "name": "python",
   "nbconvert_exporter": "python",
   "pygments_lexer": "ipython3",
   "version": "3.7.7"
  },
  "latex_envs": {
   "LaTeX_envs_menu_present": true,
   "autoclose": false,
   "autocomplete": true,
   "bibliofile": "biblio.bib",
   "cite_by": "apalike",
   "current_citInitial": 1,
   "eqLabelWithNumbers": true,
   "eqNumInitial": 1,
   "hotkeys": {
    "equation": "Ctrl-E",
    "itemize": "Ctrl-I"
   },
   "labels_anchors": false,
   "latex_user_defs": false,
   "report_style_numbering": false,
   "user_envs_cfg": false
  },
  "toc": {
   "base_numbering": 1,
   "nav_menu": {},
   "number_sections": true,
   "sideBar": true,
   "skip_h1_title": false,
   "title_cell": "Table of Contents",
   "title_sidebar": "Contents",
   "toc_cell": false,
   "toc_position": {},
   "toc_section_display": true,
   "toc_window_display": false
  },
  "varInspector": {
   "cols": {
    "lenName": 16,
    "lenType": 16,
    "lenVar": 40
   },
   "kernels_config": {
    "python": {
     "delete_cmd_postfix": "",
     "delete_cmd_prefix": "del ",
     "library": "var_list.py",
     "varRefreshCmd": "print(var_dic_list())"
    },
    "r": {
     "delete_cmd_postfix": ") ",
     "delete_cmd_prefix": "rm(",
     "library": "var_list.r",
     "varRefreshCmd": "cat(var_dic_list()) "
    }
   },
   "types_to_exclude": [
    "module",
    "function",
    "builtin_function_or_method",
    "instance",
    "_Feature"
   ],
   "window_display": false
  }
 },
 "nbformat": 4,
 "nbformat_minor": 2
}
