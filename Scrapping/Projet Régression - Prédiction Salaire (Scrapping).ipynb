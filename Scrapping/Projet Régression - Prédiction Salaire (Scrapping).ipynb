{
 "cells": [
  {
   "cell_type": "markdown",
   "metadata": {},
   "source": [
    "# Scrapping\n",
    "\n",
    "On doit scrappé : \n",
    "- Titre d'emploi, \n",
    "- Le nom de la société, \n",
    "- La localisation, \n",
    "- Type de contrat, \n",
    "- Salaire,\n",
    "- Détail du job,\n",
    "- Temps de travail, \n",
    "- Les critères du candidat: niveau d'études minimum requis, la formation, niveau d'expérience minimum, les langues"
   ]
  },
  {
   "cell_type": "code",
   "execution_count": null,
   "metadata": {
    "ExecuteTime": {
     "end_time": "2020-05-27T21:01:42.801587Z",
     "start_time": "2020-05-27T21:01:22.490Z"
    }
   },
   "outputs": [],
   "source": [
    "import selenium\n",
    "from selenium import webdriver\n",
    "from selenium.webdriver.common.by import By\n",
    "from selenium.webdriver.support.ui import WebDriverWait\n",
    "from selenium.webdriver.support import expected_conditions as EC\n",
    "import time\n",
    "from selenium.common.exceptions import NoSuchElementException\n",
    "from selenium.common.exceptions import TimeoutException\n",
    "import pandas as pd\n",
    "from selenium.webdriver.common.keys import Keys\n",
    "#from bs4 import BeautifulSoup\n",
    "import concurrent.futures"
   ]
  },
  {
   "cell_type": "code",
   "execution_count": 17,
   "metadata": {
    "ExecuteTime": {
     "end_time": "2020-05-27T21:48:47.768656Z",
     "start_time": "2020-05-27T21:48:47.750838Z"
    },
    "hide_input": false
   },
   "outputs": [],
   "source": [
    "def searchJob(jobName, country):\n",
    "    \n",
    "    \n",
    "#     if country == 'France':\n",
    "#         link = 'https://www.indeed.fr'\n",
    "#     elif country == 'USA':\n",
    "#         link ='https://www.indeed.com'\n",
    "#     else:\n",
    "#         print(\"Merci d'entrer dans le deuxième argument 'France' ou 'USA'\")\n",
    "#         return\n",
    "    \n",
    "    driver = webdriver.Chrome()\n",
    "    driver.get('https://www.indeed.fr')\n",
    "    driver.maximize_window()\n",
    "    \n",
    "    searchInputwhat = driver.find_element_by_id('text-input-what')\n",
    "    searchInputwhat.send_keys(jobName)\n",
    "    # jobsearch-SerpJobCard\n",
    "    time.sleep(0.2)\n",
    "    searchInputwhere = driver.find_element_by_id('text-input-where')\n",
    "    time.sleep(0.2)\n",
    "    # driver.find_element_by_id('text-input-where').click()\n",
    "\n",
    "    while len(searchInputwhere.get_attribute('value')) != 0:\n",
    "        searchInputwhere.send_keys(Keys.BACKSPACE)\n",
    "\n",
    "    driver.find_element_by_id('text-input-where').send_keys(country)\n",
    "    # searchInputwhere.send_keys('France')\n",
    "\n",
    "    bouton_search = driver.find_element_by_class_name('icl-Button')\n",
    "    bouton_search.click()\n",
    "    \n",
    "    try:\n",
    "        time.sleep(0.3)\n",
    "        driver.find_element_by_class_name('popover-x-button-close').click()    \n",
    "    except:\n",
    "        pass\n",
    "\n",
    "    try:\n",
    "        change_country = driver.find_element_by_xpath(\"//div[@class='invalid_location']/p/a\")\n",
    "        change_country.click()\n",
    "    except:\n",
    "        pass\n",
    "    \n",
    "    # Les listes vides pour chaque feature\n",
    "    getInfo = { \n",
    "        'Poste' : [],\n",
    "        'Entreprise' : [],\n",
    "        'Pays': [],\n",
    "        'Ville' : [],\n",
    "        'Type de contrat' : [],\n",
    "        'Salaire' : [],\n",
    "        'Description' : []\n",
    "        }\n",
    "\n",
    "    page = True\n",
    "\n",
    "    while page: \n",
    "\n",
    "           # Au cas où y a un pop up\n",
    "        try:\n",
    "            time.sleep(0.5)\n",
    "            driver.find_element_by_class_name('popover-x-button-close').click()    \n",
    "        except:\n",
    "            pass\n",
    "\n",
    "\n",
    "        # Trouver la carte de chaque job\n",
    "        jobcards = driver.find_elements_by_class_name('jobsearch-SerpJobCard')\n",
    "\n",
    "\n",
    "        # Function récurrente pour scrapping les données\n",
    "        for job in jobcards:\n",
    "            job.click()\n",
    "            time.sleep(0.2)\n",
    "\n",
    "\n",
    "\n",
    "            # Les noms des posts proposés\n",
    "            try:\n",
    "                getInfo['Poste'].append(job.find_element_by_class_name('title').text.replace('\\n',''))\n",
    "                getInfo['Pays'].append(country)\n",
    "            except NoSuchElementException:\n",
    "                getInfo['Poste'].append(\"None\")\n",
    "            \n",
    "            \n",
    "            \n",
    "            # Les nom d'entreprise\n",
    "            try:\n",
    "                getInfo['Entreprise'].append(job.find_element_by_class_name('company').text)\n",
    "            except NoSuchElementException:\n",
    "                getInfo['Entreprise'].append(\"None\")\n",
    "\n",
    "            # Les localisations des entreprises\n",
    "            try:\n",
    "                getInfo['Ville'].append(job.find_element_by_class_name('local').text)\n",
    "            except NoSuchElementException:\n",
    "                getInfo['Ville'].append(\"None\")\n",
    "\n",
    "            try:\n",
    "                complementaire = driver.find_element_by_id('vjs-contenaire')\n",
    "        #         descrpiton = driver.find_element_by_id('vjs-desc')\n",
    "            except NoSuchElementException:\n",
    "                pass\n",
    "\n",
    "            try:\n",
    "                contrat = driver.find_element_by_css_selector(\".jobMetadataHeader-itemWithIcon-icon-jobs + span\").text\n",
    "                getInfo['Type de contrat'].append(contrat)\n",
    "            except:\n",
    "                getInfo['Type de contrat'].append(\"None\")\n",
    "\n",
    "            try:\n",
    "                salary = job.find_element_by_class_name(\".salaryText\").text\n",
    "                getInfo['Salaire'].append(salary)\n",
    "            except NoSuchElementException:\n",
    "                getInfo['Salaire'].append(\"None\")\n",
    "\n",
    "            try:\n",
    "                description = driver.find_element_by_id('vjs-desc').text.replace('\\n', ' ')\n",
    "                getInfo['Description'].append(description)\n",
    "            except NoSuchElementException:\n",
    "                getInfo['Description'].append(\"None\")   \n",
    "\n",
    "    \n",
    "#         driver.execute_script(\"window.scrollTo(0, document.body.scrollHeight);\")\n",
    "        \n",
    "        try:\n",
    "            element = WebDriverWait(driver, 10).until(           \n",
    "            EC.presence_of_element_located((By.XPATH, \"//a[@aria-label='Suivant'] | //a[@aria-label='Next']\")))\n",
    "            element.click()  \n",
    "        except TimeoutException:\n",
    "            page = False\n",
    "            \n",
    "    filename = str.lower(jobName.replace(' ','')+country)+\".csv\".replace(' ','')\n",
    "    df = pd.DataFrame(getInfo)\n",
    "    df.to_csv(\"/data/\"+filename,index = False, sep=';', encoding=\"utf-8-sig\")\n",
    "    print(filename + \"complet\")\n",
    "    driver.quit()\n",
    "        \n",
    "# ou une autre façon \n",
    "# for i in range(0,500,10):\n",
    "#     driver.get(\"https://www.indeed.fr/jobs?q=data+science&l=France&start=\"+str(i))"
   ]
  },
  {
   "cell_type": "code",
   "execution_count": 80,
   "metadata": {
    "ExecuteTime": {
     "end_time": "2020-05-27T09:42:35.469975Z",
     "start_time": "2020-05-27T09:42:35.465985Z"
    }
   },
   "outputs": [],
   "source": [
    "# container = driver.find_element_by_id('vjs-container')\n",
    "# soup = BeautifulSoup(container,'html.parser')\n",
    "# html = driver.page_source\n",
    "# soup = BeautifulSoup(html, \"html.parser\")\n",
    "# print(soup.prettify())"
   ]
  },
  {
   "cell_type": "code",
   "execution_count": 12,
   "metadata": {
    "ExecuteTime": {
     "end_time": "2020-05-27T21:08:47.421271Z",
     "start_time": "2020-05-27T21:08:47.403062Z"
    }
   },
   "outputs": [],
   "source": [
    "def forSearchJob(jobName, country):\n",
    "    \n",
    "    jobName_no_space = jobName.replace(' ','+')\n",
    "    \n",
    "    if country == 'France':\n",
    "        link = 'https://www.indeed.fr/emplois?q=\"' + jobName_no_space + '\"&l=' + country + '&start='\n",
    "    elif country == 'USA':\n",
    "        link = 'https://www.indeed.com/jobs?q=\"' + jobName_no_space + '\"&l=' + country + '&start='\n",
    "    else:\n",
    "        print(\"Merci d'entrer dans le deuxième argument 'France' ou 'USA'\")\n",
    "        return\n",
    "\n",
    "    \n",
    "    driver = webdriver.Chrome()\n",
    "    driver.maximize_window()\n",
    "    \n",
    "   \n",
    "    try:\n",
    "        time.sleep(0.3)\n",
    "        driver.find_element_by_class_name('popover-x-button-close').click()    \n",
    "    except:\n",
    "        pass\n",
    "    \n",
    "    # Les listes vides pour chaque feature\n",
    "    getInfo = { \n",
    "        'Poste' : [],\n",
    "        'Entreprise' : [],\n",
    "        'Pays': [],\n",
    "        'Ville' : [],\n",
    "        'Type de contrat' : [],\n",
    "        'Salaire' : [],\n",
    "        'Description' : []\n",
    "        }\n",
    "    \n",
    "    time.sleep(5)\n",
    "    for i in range(0,500,10):     \n",
    "        \n",
    "        driver.get(link+str(i))\n",
    "\n",
    "        try:\n",
    "            time.sleep(0.5)\n",
    "            driver.find_element_by_class_name('popover-x-button-close').click()    \n",
    "        except:\n",
    "            pass\n",
    "    \n",
    "        # Trouver la carte de chaque job\n",
    "        jobcards = driver.find_elements_by_class_name('jobsearch-SerpJobCard')\n",
    "\n",
    "        # Function récurrente pour scrapping les données\n",
    "        for job in jobcards:\n",
    "            job.click()\n",
    "            time.sleep(0.2)\n",
    "\n",
    "            # Les noms des posts proposés\n",
    "            try:\n",
    "                getInfo['Poste'].append(job.find_element_by_class_name('title').text.replace('\\n',''))\n",
    "                getInfo['Pays'].append(country)\n",
    "            except NoSuchElementException:\n",
    "                getInfo['Poste'].append(\"None\")\n",
    "            \n",
    "            # Les nom d'entreprise\n",
    "            try:\n",
    "                getInfo['Entreprise'].append(job.find_element_by_class_name('company').text)\n",
    "            except NoSuchElementException:\n",
    "                getInfo['Entreprise'].append(\"None\")\n",
    "\n",
    "            # Les localisations des entreprises\n",
    "            try:\n",
    "                getInfo['Ville'].append(job.find_element_by_class_name('location').text)\n",
    "            except NoSuchElementException:\n",
    "                getInfo['Ville'].append(\"None\")\n",
    "            \n",
    "            # Les types de contrat des postes \n",
    "            try:\n",
    "                contrat = driver.find_element_by_css_selector(\".jobMetadataHeader-itemWithIcon-icon-jobs + span\").text\n",
    "                getInfo['Type de contrat'].append(contrat)\n",
    "            except:\n",
    "                getInfo['Type de contrat'].append(\"None\")\n",
    "\n",
    "            # Les salaires des postes recrutées\n",
    "            try:\n",
    "                salary = job.find_element_by_class_name(\"salaryText\").text\n",
    "                getInfo['Salaire'].append(salary)\n",
    "            except NoSuchElementException:\n",
    "                getInfo['Salaire'].append(\"None\")\n",
    "\n",
    "            # Les descriptions des postes     \n",
    "            try:\n",
    "                element = WebDriverWait(driver, 10).until(           \n",
    "                EC.presence_of_element_located((By.ID, \"vjs-desc\")))\n",
    "                description = element.text.replace('\\n', ' ')\n",
    "                getInfo['Description'].append(description)\n",
    "            except TimeoutException:\n",
    "                getInfo['Description'].append(\"None\")\n",
    "\n",
    "\n",
    "    filename = str.lower(jobName.replace(' ','')+country)+\".csv\".replace(' ','')\n",
    "    df = pd.DataFrame(getInfo)\n",
    "    df.to_csv(\"/data/\"+filename,index = False, sep=';', encoding=\"utf-8-sig\")\n",
    "    print(filename + \"complet\")\n",
    "    driver.quit()"
   ]
  },
  {
   "cell_type": "code",
   "execution_count": 1,
   "metadata": {
    "ExecuteTime": {
     "end_time": "2020-05-27T13:02:00.472320Z",
     "start_time": "2020-05-27T13:02:00.469301Z"
    }
   },
   "outputs": [],
   "source": [
    "# data = searchJob('Data scientist','France')\n",
    "# data = forSearchJob('Data scientist','France')"
   ]
  },
  {
   "cell_type": "code",
   "execution_count": 3,
   "metadata": {
    "ExecuteTime": {
     "end_time": "2020-05-27T21:01:00.764747Z",
     "start_time": "2020-05-27T21:01:00.749049Z"
    }
   },
   "outputs": [],
   "source": [
    "jobs = ['Datascientist','Python','JavaScript','Java','Datascientist','Python','JavaScript','Java']\n",
    "countrys = ['France','France','France','France', 'USA','USA','USA','USA']\n",
    "# df  = pd.concat([df1, df2,df3], axis = 0).drop_duplicates()"
   ]
  },
  {
   "cell_type": "code",
   "execution_count": 19,
   "metadata": {
    "ExecuteTime": {
     "end_time": "2020-05-27T21:48:59.288342Z",
     "start_time": "2020-05-27T21:48:59.084740Z"
    }
   },
   "outputs": [],
   "source": [
    "def main():\n",
    "    jobs = ['Datascientist','Python','JavaScript','Java','Datascientist','Python','JavaScript','Java']\n",
    "    countrys = ['France','France','France','France', 'USA','USA','USA','USA']\n",
    "    with concurrent.futures.ProcessPoolExecutor() as executor:  \n",
    "        executor.map(searchJob, jobs, countrys)\n",
    "    #     len(results)\n",
    "\n",
    "if __name__ == '__main__':\n",
    "    main()"
   ]
  },
  {
   "cell_type": "code",
   "execution_count": 16,
   "metadata": {
    "ExecuteTime": {
     "end_time": "2020-05-27T21:45:31.271919Z",
     "start_time": "2020-05-27T21:37:53.299686Z"
    }
   },
   "outputs": [
    {
     "name": "stdout",
     "output_type": "stream",
     "text": [
      "jsfrance.csvcomplet\n"
     ]
    }
   ],
   "source": [
    "forSearchJob('js', 'France')"
   ]
  },
  {
   "cell_type": "code",
   "execution_count": 15,
   "metadata": {
    "ExecuteTime": {
     "end_time": "2020-05-27T15:12:51.231435Z",
     "start_time": "2020-05-27T15:12:51.196480Z"
    }
   },
   "outputs": [],
   "source": [
    "df = pd.read_csv('pythonusa.csv', sep=';', encoding=\"utf-8-sig\")"
   ]
  },
  {
   "cell_type": "code",
   "execution_count": 25,
   "metadata": {
    "ExecuteTime": {
     "end_time": "2020-05-27T15:27:00.558256Z",
     "start_time": "2020-05-27T15:27:00.154585Z"
    }
   },
   "outputs": [
    {
     "ename": "AttributeError",
     "evalue": "'Series' object has no attribute 'contains'",
     "output_type": "error",
     "traceback": [
      "\u001b[1;31m---------------------------------------------------------------------------\u001b[0m",
      "\u001b[1;31mAttributeError\u001b[0m                            Traceback (most recent call last)",
      "\u001b[1;32m<ipython-input-25-d997bc26887c>\u001b[0m in \u001b[0;36m<module>\u001b[1;34m\u001b[0m\n\u001b[1;32m----> 1\u001b[1;33m \u001b[0mdf\u001b[0m\u001b[1;33m[\u001b[0m\u001b[1;34m'Description'\u001b[0m\u001b[1;33m]\u001b[0m\u001b[1;33m.\u001b[0m\u001b[0mstr\u001b[0m\u001b[1;33m.\u001b[0m\u001b[0mlower\u001b[0m\u001b[1;33m(\u001b[0m\u001b[1;33m)\u001b[0m\u001b[1;33m.\u001b[0m\u001b[0mcontains\u001b[0m\u001b[1;33m(\u001b[0m\u001b[1;34m\"salaire\"\u001b[0m\u001b[1;33m)\u001b[0m\u001b[1;33m\u001b[0m\u001b[1;33m\u001b[0m\u001b[0m\n\u001b[0m",
      "\u001b[1;32mD:\\Anaconda3\\lib\\site-packages\\pandas\\core\\generic.py\u001b[0m in \u001b[0;36m__getattr__\u001b[1;34m(self, name)\u001b[0m\n\u001b[0;32m   5272\u001b[0m             \u001b[1;32mif\u001b[0m \u001b[0mself\u001b[0m\u001b[1;33m.\u001b[0m\u001b[0m_info_axis\u001b[0m\u001b[1;33m.\u001b[0m\u001b[0m_can_hold_identifiers_and_holds_name\u001b[0m\u001b[1;33m(\u001b[0m\u001b[0mname\u001b[0m\u001b[1;33m)\u001b[0m\u001b[1;33m:\u001b[0m\u001b[1;33m\u001b[0m\u001b[1;33m\u001b[0m\u001b[0m\n\u001b[0;32m   5273\u001b[0m                 \u001b[1;32mreturn\u001b[0m \u001b[0mself\u001b[0m\u001b[1;33m[\u001b[0m\u001b[0mname\u001b[0m\u001b[1;33m]\u001b[0m\u001b[1;33m\u001b[0m\u001b[1;33m\u001b[0m\u001b[0m\n\u001b[1;32m-> 5274\u001b[1;33m             \u001b[1;32mreturn\u001b[0m \u001b[0mobject\u001b[0m\u001b[1;33m.\u001b[0m\u001b[0m__getattribute__\u001b[0m\u001b[1;33m(\u001b[0m\u001b[0mself\u001b[0m\u001b[1;33m,\u001b[0m \u001b[0mname\u001b[0m\u001b[1;33m)\u001b[0m\u001b[1;33m\u001b[0m\u001b[1;33m\u001b[0m\u001b[0m\n\u001b[0m\u001b[0;32m   5275\u001b[0m \u001b[1;33m\u001b[0m\u001b[0m\n\u001b[0;32m   5276\u001b[0m     \u001b[1;32mdef\u001b[0m \u001b[0m__setattr__\u001b[0m\u001b[1;33m(\u001b[0m\u001b[0mself\u001b[0m\u001b[1;33m,\u001b[0m \u001b[0mname\u001b[0m\u001b[1;33m:\u001b[0m \u001b[0mstr\u001b[0m\u001b[1;33m,\u001b[0m \u001b[0mvalue\u001b[0m\u001b[1;33m)\u001b[0m \u001b[1;33m->\u001b[0m \u001b[1;32mNone\u001b[0m\u001b[1;33m:\u001b[0m\u001b[1;33m\u001b[0m\u001b[1;33m\u001b[0m\u001b[0m\n",
      "\u001b[1;31mAttributeError\u001b[0m: 'Series' object has no attribute 'contains'"
     ]
    }
   ],
   "source": [
    "df['Description'].str.lower().contains(\"salaire\")"
   ]
  }
 ],
 "metadata": {
  "kernelspec": {
   "display_name": "Python 3",
   "language": "python",
   "name": "python3"
  },
  "language_info": {
   "codemirror_mode": {
    "name": "ipython",
    "version": 3
   },
   "file_extension": ".py",
   "mimetype": "text/x-python",
   "name": "python",
   "nbconvert_exporter": "python",
   "pygments_lexer": "ipython3",
   "version": "3.7.7"
  },
  "latex_envs": {
   "LaTeX_envs_menu_present": true,
   "autoclose": false,
   "autocomplete": true,
   "bibliofile": "biblio.bib",
   "cite_by": "apalike",
   "current_citInitial": 1,
   "eqLabelWithNumbers": true,
   "eqNumInitial": 1,
   "hotkeys": {
    "equation": "Ctrl-E",
    "itemize": "Ctrl-I"
   },
   "labels_anchors": false,
   "latex_user_defs": false,
   "report_style_numbering": false,
   "user_envs_cfg": false
  },
  "toc": {
   "base_numbering": 1,
   "nav_menu": {},
   "number_sections": true,
   "sideBar": true,
   "skip_h1_title": false,
   "title_cell": "Table of Contents",
   "title_sidebar": "Contents",
   "toc_cell": false,
   "toc_position": {},
   "toc_section_display": true,
   "toc_window_display": false
  },
  "varInspector": {
   "cols": {
    "lenName": 16,
    "lenType": 16,
    "lenVar": 40
   },
   "kernels_config": {
    "python": {
     "delete_cmd_postfix": "",
     "delete_cmd_prefix": "del ",
     "library": "var_list.py",
     "varRefreshCmd": "print(var_dic_list())"
    },
    "r": {
     "delete_cmd_postfix": ") ",
     "delete_cmd_prefix": "rm(",
     "library": "var_list.r",
     "varRefreshCmd": "cat(var_dic_list()) "
    }
   },
   "types_to_exclude": [
    "module",
    "function",
    "builtin_function_or_method",
    "instance",
    "_Feature"
   ],
   "window_display": false
  }
 },
 "nbformat": 4,
 "nbformat_minor": 2
}
