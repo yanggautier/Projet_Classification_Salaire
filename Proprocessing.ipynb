{
 "cells": [
  {
   "cell_type": "code",
   "execution_count": 127,
   "metadata": {
    "ExecuteTime": {
     "end_time": "2020-05-28T10:05:28.179190Z",
     "start_time": "2020-05-28T10:05:27.795220Z"
    }
   },
   "outputs": [],
   "source": [
    "import pandas as pd\n",
    "import re\n",
    "import numpy as np\n",
    "jobs = ['Data scientist', 'Python', 'JS', 'Java','Data scientist', 'Python', 'JS', 'Java']\n",
    "countrys = ['France','France','France','France', 'USA','USA','USA','USA']\n",
    "filenames = ['data/'+str.lower(job).replace(' ','')+str.lower(country)+'.csv' for job, country in zip(jobs,countrys) ]\n",
    "df = pd.concat([pd.read_csv(filename, sep=';', encoding=\"utf-8-sig\", index_col=0) for filename in filenames])\n",
    "df = df.drop_duplicates(subset=None, keep=\"first\")\n",
    "skills = ['Python', 'R', 'SQL', 'NoSQL', 'GIT', 'Spark', 'Flask', 'Streamlit', 'Docker', 'Kubernetes', 'React', 'Machine-Learning', 'Deep Learning', 'NLP', 'Vue', 'Angular', 'Scala', 'PySpark','PowerBI', 'SQLServer', 'Dataiku','Data', 'Keras', 'Tensor-Flow', 'NLU', 'PyTorch', 'Scikit-Learn', 'SAAS', 'Java', 'Scikit learn', 'Hadoop', 'Hive', 'ML','DL', 'Azure', 'AWS']\n",
    "\n",
    "# contrats = ['CDI','CDD','Apprentissage','Contrat pro','Stage','Intérim','Freelance','Indépendant','Freelance']\n",
    "            \n",
    "studylevel_keywords = {'High School':['High School','Baccalauréat'],\n",
    "                       'Guaduate': ['Université','Universitaire','Formation supérieure','Guaduate','Bac +2','Bac +3','Bachelor'],\n",
    "                       'Master': ['Master','Master 2', 'Master +2', 'Bac +5', 'Grande école d\\'ingénieur','Bac +4/5','M2','Cursus ingénieur', 'engineer','Diplôme ingénieur'],\n",
    "                       'Doctor': ['Doctorat', 'Doctor'], \n",
    "                       'Formation': ['Formation Data Science']\n",
    "                       }\n",
    "\n",
    "explevel_keywords = {'Beginer':['Débutant', 'Beginer','No experience','Pas d`\\'expérience', '1 an', '0-1 an','0 - 1 an', '0/1 an','0 / 1 an'],\n",
    "                       'Intermediate': ['Intermédiaire','Intermediate','2 year', '3 year','2-3 year',  '2 ans', '2/3 an', '1-2 an','1-3  years'],\n",
    "                       'Confirmed': ['Confirmé','Confirmed','3 an','4 an','5 an','3 year','4 year','5 year','3-5 year','3-5 an','3/5 year', '3/5 an'],\n",
    "                       'Expert': ['Expert','6 year','7 year', '8 year', '9 year','6 an','7 an', '8 an','9 an','10 an','5-10 year','5-10 an','5 - 10 an','5/10 year', '5/10 an'],\n",
    "                       'Senior': ['Senior', '10+ years', '10+ an', '10 ans +','plus de 10 an']\n",
    "                       }\n",
    "def exist_in_array(x, dicto):\n",
    "\n",
    "    for key in dicto:\n",
    "        if any(str.lower(term) in str.lower(x) for term in dicto[key]):\n",
    "            return key\n",
    "\n",
    "def skill_required(row):\n",
    "\n",
    "    desc_low = str.lower(row['Description'])\n",
    "    \n",
    "    for skill in skills:\n",
    "\n",
    "        skill_low = str.lower(skill)\n",
    "\n",
    "        if (skill_low in desc_low) or (skill_low.replace(' ','') in desc_low) or (skill_low.replace('-','') in desc_low)  or (skill_low.replace('-',' ') in desc_low):\n",
    "            row[skill] = 1\n",
    "\n",
    "    return row\n",
    "\n",
    "def searchBy(x,pattern):\n",
    "    match = re.search(pattern,str.lower(x))\n",
    "    if match:\n",
    "        return match.group(0)\n",
    "\n",
    "df['Study required'] = df['Description'].apply(lambda x: exist_in_array(x, studylevel_keywords))\n",
    "df['Experience required'] = df['Description'].apply(lambda x: exist_in_array(x, explevel_keywords))\n",
    "\n",
    "df = pd.concat([df, pd.DataFrame(columns=skills)])\n",
    "df = df.apply(lambda row: skill_required(row), axis=1)"
   ]
  },
  {
   "cell_type": "code",
   "execution_count": 96,
   "metadata": {},
   "outputs": [
    {
     "output_type": "execute_result",
     "data": {
      "text/plain": "                                                        Entreprise    Pays  \\\nAlternance - Data Scientist H/F                   Malakoff Humanis  France   \nData Scientist H/F                                          AGYLIS  France   \nDATA SCIENTIST- F/H                                     Ingeniance  France   \nData Scientist and Innovation Engineer H/F                   HIPAY  France   \nASSISTANT DATA SCIENTIST                                     Total  France   \n...                                                            ...     ...   \nSenior Developer                                        VirtualMGA     USA   \nSenior Backend Engineer, Remote Assistance                  Cruise     USA   \nPrincipal Software Engineer/Architect                    Microsoft     USA   \nSr. Software Engineer                       Homecare Homebase, LLC     USA   \nSenior Software Developer, Full-Stack             Life House Group     USA   \n\n                                                                                     Ville  \\\nAlternance - Data Scientist H/F                                              Paris 9e (75)   \nData Scientist H/F                                                         La Défense (92)   \nDATA SCIENTIST- F/H                                                        La Défense (92)   \nData Scientist and Innovation Engineer H/F                           Levallois-Perret (92)   \nASSISTANT DATA SCIENTIST                                                     Nanterre (92)   \n...                                                                                    ...   \nSenior Developer                                                             United States   \nSenior Backend Engineer, Remote Assistance  San Francisco, CA 94103 (South of Market area)   \nPrincipal Software Engineer/Architect                                          Redmond, WA   \nSr. Software Engineer                                                       Louisville, KY   \nSenior Software Developer, Full-Stack                                         Montreal, WI   \n\n                                                       Type de contrat  \\\nAlternance - Data Scientist H/F             Apprentissage, Contrat pro   \nData Scientist H/F                                    Temps plein, CDI   \nDATA SCIENTIST- F/H                                                CDI   \nData Scientist and Innovation Engineer H/F                        None   \nASSISTANT DATA SCIENTIST                    Apprentissage, Contrat pro   \n...                                                                ...   \nSenior Developer                                                  None   \nSenior Backend Engineer, Remote Assistance                        None   \nPrincipal Software Engineer/Architect                             None   \nSr. Software Engineer                                             None   \nSenior Software Developer, Full-Stack                             None   \n\n                                                               Salaire  \\\nAlternance - Data Scientist H/F                                   None   \nData Scientist H/F                          40 000 € - 50 000 € par an   \nDATA SCIENTIST- F/H                                               None   \nData Scientist and Innovation Engineer H/F                        None   \nASSISTANT DATA SCIENTIST                                          None   \n...                                                                ...   \nSenior Developer                                                  None   \nSenior Backend Engineer, Remote Assistance                        None   \nPrincipal Software Engineer/Architect                             None   \nSr. Software Engineer                                             None   \nSenior Software Developer, Full-Stack                             None   \n\n                                                                                  Description  \\\nAlternance - Data Scientist H/F             Contrat ALTERNANCE Finalité du poste Au sein d...   \nData Scientist H/F                          AGYLIS est un acteur important des Entreprise ...   \nDATA SCIENTIST- F/H                         Contexte: Vous assurez la production, la conce...   \nData Scientist and Innovation Engineer H/F  Notre métier HiPay est une Fintech Européenne ...   \nASSISTANT DATA SCIENTIST                    Monter un système de reporting pour la directi...   \n...                                                                                       ...   \nSenior Developer                            Virtual MGA is searching for someone who can w...   \nSenior Backend Engineer, Remote Assistance  We're Cruise, the self-driving ride-hailing se...   \nPrincipal Software Engineer/Architect       Are you interested in joining a startup within...   \nSr. Software Engineer                       Position Summary A Senior Software Engineer wo...   \nSenior Software Developer, Full-Stack       OUR COMPANY Life House Group is a vertically-i...   \n\n                                           Study required Experience required  \\\nAlternance - Data Scientist H/F                      None                None   \nData Scientist H/F                                 Master             Beginer   \nDATA SCIENTIST- F/H                                Master              Expert   \nData Scientist and Innovation Engineer H/F         Master                None   \nASSISTANT DATA SCIENTIST                         Guaduate           Confirmed   \n...                                                   ...                 ...   \nSenior Developer                                   Master              Senior   \nSenior Backend Engineer, Remote Assistance       Guaduate              Expert   \nPrincipal Software Engineer/Architect              Master              Expert   \nSr. Software Engineer                            Guaduate        Intermediate   \nSenior Software Developer, Full-Stack                None                None   \n\n                                            Python    R  ...  Scikit-Learn  \\\nAlternance - Data Scientist H/F                1.0  1.0  ...           NaN   \nData Scientist H/F                             1.0  1.0  ...           NaN   \nDATA SCIENTIST- F/H                            NaN  1.0  ...           NaN   \nData Scientist and Innovation Engineer H/F     1.0  1.0  ...           NaN   \nASSISTANT DATA SCIENTIST                       NaN  1.0  ...           NaN   \n...                                            ...  ...  ...           ...   \nSenior Developer                               NaN  1.0  ...           NaN   \nSenior Backend Engineer, Remote Assistance     NaN  1.0  ...           NaN   \nPrincipal Software Engineer/Architect          NaN  1.0  ...           NaN   \nSr. Software Engineer                          NaN  1.0  ...           NaN   \nSenior Software Developer, Full-Stack          1.0  1.0  ...           NaN   \n\n                                            SAAS  Java  Scikit learn  Hadoop  \\\nAlternance - Data Scientist H/F              NaN   NaN           NaN     NaN   \nData Scientist H/F                           NaN   NaN           NaN     NaN   \nDATA SCIENTIST- F/H                          NaN   NaN           NaN     NaN   \nData Scientist and Innovation Engineer H/F   NaN   NaN           NaN     NaN   \nASSISTANT DATA SCIENTIST                     NaN   NaN           NaN     NaN   \n...                                          ...   ...           ...     ...   \nSenior Developer                             NaN   1.0           NaN     NaN   \nSenior Backend Engineer, Remote Assistance   NaN   1.0           NaN     NaN   \nPrincipal Software Engineer/Architect        1.0   1.0           NaN     1.0   \nSr. Software Engineer                        NaN   1.0           NaN     NaN   \nSenior Software Developer, Full-Stack        NaN   1.0           NaN     NaN   \n\n                                            Hive   ML   DL  Azure  AWS  \nAlternance - Data Scientist H/F              NaN  NaN  NaN    NaN  NaN  \nData Scientist H/F                           NaN  1.0  1.0    1.0  1.0  \nDATA SCIENTIST- F/H                          NaN  NaN  NaN    NaN  NaN  \nData Scientist and Innovation Engineer H/F   NaN  NaN  NaN    NaN  NaN  \nASSISTANT DATA SCIENTIST                     NaN  NaN  NaN    NaN  NaN  \n...                                          ...  ...  ...    ...  ...  \nSenior Developer                             NaN  1.0  NaN    NaN  1.0  \nSenior Backend Engineer, Remote Assistance   NaN  NaN  1.0    NaN  1.0  \nPrincipal Software Engineer/Architect        NaN  NaN  1.0    1.0  1.0  \nSr. Software Engineer                        NaN  NaN  NaN    NaN  NaN  \nSenior Software Developer, Full-Stack        NaN  NaN  1.0    NaN  NaN  \n\n[3199 rows x 44 columns]",
      "text/html": "<div>\n<style scoped>\n    .dataframe tbody tr th:only-of-type {\n        vertical-align: middle;\n    }\n\n    .dataframe tbody tr th {\n        vertical-align: top;\n    }\n\n    .dataframe thead th {\n        text-align: right;\n    }\n</style>\n<table border=\"1\" class=\"dataframe\">\n  <thead>\n    <tr style=\"text-align: right;\">\n      <th></th>\n      <th>Entreprise</th>\n      <th>Pays</th>\n      <th>Ville</th>\n      <th>Type de contrat</th>\n      <th>Salaire</th>\n      <th>Description</th>\n      <th>Study required</th>\n      <th>Experience required</th>\n      <th>Python</th>\n      <th>R</th>\n      <th>...</th>\n      <th>Scikit-Learn</th>\n      <th>SAAS</th>\n      <th>Java</th>\n      <th>Scikit learn</th>\n      <th>Hadoop</th>\n      <th>Hive</th>\n      <th>ML</th>\n      <th>DL</th>\n      <th>Azure</th>\n      <th>AWS</th>\n    </tr>\n  </thead>\n  <tbody>\n    <tr>\n      <th>Alternance - Data Scientist H/F</th>\n      <td>Malakoff Humanis</td>\n      <td>France</td>\n      <td>Paris 9e (75)</td>\n      <td>Apprentissage, Contrat pro</td>\n      <td>None</td>\n      <td>Contrat ALTERNANCE Finalité du poste Au sein d...</td>\n      <td>None</td>\n      <td>None</td>\n      <td>1.0</td>\n      <td>1.0</td>\n      <td>...</td>\n      <td>NaN</td>\n      <td>NaN</td>\n      <td>NaN</td>\n      <td>NaN</td>\n      <td>NaN</td>\n      <td>NaN</td>\n      <td>NaN</td>\n      <td>NaN</td>\n      <td>NaN</td>\n      <td>NaN</td>\n    </tr>\n    <tr>\n      <th>Data Scientist H/F</th>\n      <td>AGYLIS</td>\n      <td>France</td>\n      <td>La Défense (92)</td>\n      <td>Temps plein, CDI</td>\n      <td>40 000 € - 50 000 € par an</td>\n      <td>AGYLIS est un acteur important des Entreprise ...</td>\n      <td>Master</td>\n      <td>Beginer</td>\n      <td>1.0</td>\n      <td>1.0</td>\n      <td>...</td>\n      <td>NaN</td>\n      <td>NaN</td>\n      <td>NaN</td>\n      <td>NaN</td>\n      <td>NaN</td>\n      <td>NaN</td>\n      <td>1.0</td>\n      <td>1.0</td>\n      <td>1.0</td>\n      <td>1.0</td>\n    </tr>\n    <tr>\n      <th>DATA SCIENTIST- F/H</th>\n      <td>Ingeniance</td>\n      <td>France</td>\n      <td>La Défense (92)</td>\n      <td>CDI</td>\n      <td>None</td>\n      <td>Contexte: Vous assurez la production, la conce...</td>\n      <td>Master</td>\n      <td>Expert</td>\n      <td>NaN</td>\n      <td>1.0</td>\n      <td>...</td>\n      <td>NaN</td>\n      <td>NaN</td>\n      <td>NaN</td>\n      <td>NaN</td>\n      <td>NaN</td>\n      <td>NaN</td>\n      <td>NaN</td>\n      <td>NaN</td>\n      <td>NaN</td>\n      <td>NaN</td>\n    </tr>\n    <tr>\n      <th>Data Scientist and Innovation Engineer H/F</th>\n      <td>HIPAY</td>\n      <td>France</td>\n      <td>Levallois-Perret (92)</td>\n      <td>None</td>\n      <td>None</td>\n      <td>Notre métier HiPay est une Fintech Européenne ...</td>\n      <td>Master</td>\n      <td>None</td>\n      <td>1.0</td>\n      <td>1.0</td>\n      <td>...</td>\n      <td>NaN</td>\n      <td>NaN</td>\n      <td>NaN</td>\n      <td>NaN</td>\n      <td>NaN</td>\n      <td>NaN</td>\n      <td>NaN</td>\n      <td>NaN</td>\n      <td>NaN</td>\n      <td>NaN</td>\n    </tr>\n    <tr>\n      <th>ASSISTANT DATA SCIENTIST</th>\n      <td>Total</td>\n      <td>France</td>\n      <td>Nanterre (92)</td>\n      <td>Apprentissage, Contrat pro</td>\n      <td>None</td>\n      <td>Monter un système de reporting pour la directi...</td>\n      <td>Guaduate</td>\n      <td>Confirmed</td>\n      <td>NaN</td>\n      <td>1.0</td>\n      <td>...</td>\n      <td>NaN</td>\n      <td>NaN</td>\n      <td>NaN</td>\n      <td>NaN</td>\n      <td>NaN</td>\n      <td>NaN</td>\n      <td>NaN</td>\n      <td>NaN</td>\n      <td>NaN</td>\n      <td>NaN</td>\n    </tr>\n    <tr>\n      <th>...</th>\n      <td>...</td>\n      <td>...</td>\n      <td>...</td>\n      <td>...</td>\n      <td>...</td>\n      <td>...</td>\n      <td>...</td>\n      <td>...</td>\n      <td>...</td>\n      <td>...</td>\n      <td>...</td>\n      <td>...</td>\n      <td>...</td>\n      <td>...</td>\n      <td>...</td>\n      <td>...</td>\n      <td>...</td>\n      <td>...</td>\n      <td>...</td>\n      <td>...</td>\n      <td>...</td>\n    </tr>\n    <tr>\n      <th>Senior Developer</th>\n      <td>VirtualMGA</td>\n      <td>USA</td>\n      <td>United States</td>\n      <td>None</td>\n      <td>None</td>\n      <td>Virtual MGA is searching for someone who can w...</td>\n      <td>Master</td>\n      <td>Senior</td>\n      <td>NaN</td>\n      <td>1.0</td>\n      <td>...</td>\n      <td>NaN</td>\n      <td>NaN</td>\n      <td>1.0</td>\n      <td>NaN</td>\n      <td>NaN</td>\n      <td>NaN</td>\n      <td>1.0</td>\n      <td>NaN</td>\n      <td>NaN</td>\n      <td>1.0</td>\n    </tr>\n    <tr>\n      <th>Senior Backend Engineer, Remote Assistance</th>\n      <td>Cruise</td>\n      <td>USA</td>\n      <td>San Francisco, CA 94103 (South of Market area)</td>\n      <td>None</td>\n      <td>None</td>\n      <td>We're Cruise, the self-driving ride-hailing se...</td>\n      <td>Guaduate</td>\n      <td>Expert</td>\n      <td>NaN</td>\n      <td>1.0</td>\n      <td>...</td>\n      <td>NaN</td>\n      <td>NaN</td>\n      <td>1.0</td>\n      <td>NaN</td>\n      <td>NaN</td>\n      <td>NaN</td>\n      <td>NaN</td>\n      <td>1.0</td>\n      <td>NaN</td>\n      <td>1.0</td>\n    </tr>\n    <tr>\n      <th>Principal Software Engineer/Architect</th>\n      <td>Microsoft</td>\n      <td>USA</td>\n      <td>Redmond, WA</td>\n      <td>None</td>\n      <td>None</td>\n      <td>Are you interested in joining a startup within...</td>\n      <td>Master</td>\n      <td>Expert</td>\n      <td>NaN</td>\n      <td>1.0</td>\n      <td>...</td>\n      <td>NaN</td>\n      <td>1.0</td>\n      <td>1.0</td>\n      <td>NaN</td>\n      <td>1.0</td>\n      <td>NaN</td>\n      <td>NaN</td>\n      <td>1.0</td>\n      <td>1.0</td>\n      <td>1.0</td>\n    </tr>\n    <tr>\n      <th>Sr. Software Engineer</th>\n      <td>Homecare Homebase, LLC</td>\n      <td>USA</td>\n      <td>Louisville, KY</td>\n      <td>None</td>\n      <td>None</td>\n      <td>Position Summary A Senior Software Engineer wo...</td>\n      <td>Guaduate</td>\n      <td>Intermediate</td>\n      <td>NaN</td>\n      <td>1.0</td>\n      <td>...</td>\n      <td>NaN</td>\n      <td>NaN</td>\n      <td>1.0</td>\n      <td>NaN</td>\n      <td>NaN</td>\n      <td>NaN</td>\n      <td>NaN</td>\n      <td>NaN</td>\n      <td>NaN</td>\n      <td>NaN</td>\n    </tr>\n    <tr>\n      <th>Senior Software Developer, Full-Stack</th>\n      <td>Life House Group</td>\n      <td>USA</td>\n      <td>Montreal, WI</td>\n      <td>None</td>\n      <td>None</td>\n      <td>OUR COMPANY Life House Group is a vertically-i...</td>\n      <td>None</td>\n      <td>None</td>\n      <td>1.0</td>\n      <td>1.0</td>\n      <td>...</td>\n      <td>NaN</td>\n      <td>NaN</td>\n      <td>1.0</td>\n      <td>NaN</td>\n      <td>NaN</td>\n      <td>NaN</td>\n      <td>NaN</td>\n      <td>1.0</td>\n      <td>NaN</td>\n      <td>NaN</td>\n    </tr>\n  </tbody>\n</table>\n<p>3199 rows × 44 columns</p>\n</div>"
     },
     "metadata": {},
     "execution_count": 96
    }
   ],
   "source": [
    "df"
   ]
  },
  {
   "cell_type": "code",
   "execution_count": 163,
   "metadata": {},
   "outputs": [],
   "source": [
    "salaryMatch = re.compile(r'(?:((([\\$€]\\s?\\d{1,3}([\\.,\\s]?\\d{3})*[\\s]?k?([\\.,\\s]\\d{2})?([\\s]?((à)|(au)|(et)|(\\/)|(->?)|(to)|(and))?[\\s]?[\\$€]?[\\s]?\\d{1,3}([\\.,\\s]?\\d{3})*\\s?k?([\\.,\\s]?\\d{2})?)?)|((\\d{1,3}([\\.,\\s]?\\d{3})*\\s?k?([\\.,\\s]\\d{2})?\\s?[\\$€]?([\\s]?((à)|(au)|(et)|(and)|(\\/)|(->?)|(to))?[\\s]?\\d{1,3}([\\.,\\s]?\\d{3})*\\s?k?([\\.,\\s]\\d{2})?)?)[€\\$])[\\s]?)(\\s*(brut)?\\s*((par)|(a)|(an)|(per)|(by)|(\\/)|(every)|(un)|(une))[\\s]*((annually)|(heure)|(jour)|(hebdomadaire)|(mois)|(mensuel)|(hour)|(day)|(month)|(year)|(an)))))')"
   ]
  },
  {
   "cell_type": "code",
   "execution_count": 76,
   "metadata": {},
   "outputs": [],
   "source": [
    "# desc = df.iloc[18]['Description']\n",
    "# desc\n",
    "\n",
    "(?:((([\\$€]\\s?\\d{1,3}([\\.,\\s]?\\d{3})*[\\s]?k?([\\.,\\s]\\d{2})?([\\s]?((à)|(au)|(et)|(\\/)|(->?)|(to)|(and))?[\\s]?[\\$€]?[\\s]?\\d{1,3}([\\.,\\s]?\\d{3})*\\s?k?([\\.,\\s]?\\d{2})?)?)|((\\d{1,3}([\\.,\\s]?\\d{3})*\\s?k?([\\.,\\s]\\d{2})?\\s?[\\$€]?([\\s]?((à)|(au)|(et)|(and)|(\\/)|(->?)|(to))?[\\s]?\\d{1,3}([\\.,\\s]?\\d{3})*\\s?k?([\\.,\\s]\\d{2})?)?)[€\\$])[\\s]?)(\\s*(brut)?\\s*((par)|(a)|(an)|(per)|(by)|(\\/)|(every)|(un)|(une))[\\s]*((annually)|(heure)|(jour)|(hebdomadaire)|(mois)|(mensuel)|(hour)|(day)|(month)|(year)|(an)))))"
   ]
  },
  {
   "cell_type": "code",
   "execution_count": 164,
   "metadata": {},
   "outputs": [],
   "source": [
    "df['SalaryExtract'] = df['Description'].apply(lambda x: searchBy(x ,salaryMatch))"
   ]
  },
  {
   "cell_type": "code",
   "execution_count": 259,
   "metadata": {},
   "outputs": [],
   "source": [
    "# df['SalaryExtract'].unique()\n",
    "\n",
    "def replace_empty_salary(row):\n",
    "\n",
    "    if (row['Salaire'] == 'None') and (row['SalaryExtract'] is not None): \n",
    "        row['Salaire'] = row['SalaryExtract']\n",
    "    return row"
   ]
  },
  {
   "cell_type": "code",
   "execution_count": 260,
   "metadata": {},
   "outputs": [],
   "source": [
    "df = df.apply(lambda row: replace_empty_salary(row), axis=1)"
   ]
  },
  {
   "cell_type": "code",
   "execution_count": 268,
   "metadata": {},
   "outputs": [],
   "source": [
    "df.drop('SalaryExtract',axis=1, inplace=True)"
   ]
  },
  {
   "cell_type": "code",
   "execution_count": 270,
   "metadata": {},
   "outputs": [
    {
     "output_type": "execute_result",
     "data": {
      "text/plain": "None                          2733\n40 000 € - 50 000 € par an      23\n55 000 € par an                 16\n50 000 € par an                 16\n45 000 € par an                 12\n                              ... \n$6,000 - $9,500 a month          1\n14 769 € par an                  1\n$88 an hour                      1\n30 000 € - 38 000 € par an       1\n37 000 € - 45 000 € par an       1\nName: Salaire, Length: 263, dtype: int64"
     },
     "metadata": {},
     "execution_count": 270
    }
   ],
   "source": [
    "df.Salaire.value_counts()"
   ]
  },
  {
   "cell_type": "code",
   "execution_count": 285,
   "metadata": {},
   "outputs": [
    {
     "output_type": "execute_result",
     "data": {
      "text/plain": "3198"
     },
     "metadata": {},
     "execution_count": 285
    }
   ],
   "source": [
    "df.Salaire.str.contains('hour').count()"
   ]
  },
  {
   "cell_type": "code",
   "execution_count": 297,
   "metadata": {},
   "outputs": [],
   "source": [
    "df2 = df[df['Salaire']!= 'None']\n",
    "df2.drop('Type de contrat', axis=1, inplace=True) "
   ]
  },
  {
   "cell_type": "code",
   "execution_count": 298,
   "metadata": {},
   "outputs": [
    {
     "output_type": "execute_result",
     "data": {
      "text/plain": "(466, 43)"
     },
     "metadata": {},
     "execution_count": 298
    }
   ],
   "source": [
    "df2.shape"
   ]
  },
  {
   "cell_type": "code",
   "execution_count": 302,
   "metadata": {},
   "outputs": [
    {
     "output_type": "execute_result",
     "data": {
      "text/plain": "40 000 € - 50 000 € par an       23\n50 000 € par an                  16\n55 000 € par an                  16\n45 000 € par an                  12\n35 000 € - 45 000 € par an       11\n                                 ..\n$67,968 - $126,062 a year         1\n600 € par jour                    1\n50 000,00€ à 55 000,00€ /mois     1\n37 000 € - 50 000 € par an        1\n30 000 € - 55 000 € par an        1\nName: Salaire, Length: 262, dtype: int64"
     },
     "metadata": {},
     "execution_count": 302
    }
   ],
   "source": [
    "df2.Salaire.value_counts()"
   ]
  },
  {
   "cell_type": "code",
   "execution_count": null,
   "metadata": {},
   "outputs": [],
   "source": []
  }
 ],
 "metadata": {
  "kernelspec": {
   "display_name": "Python 3",
   "language": "python",
   "name": "python3"
  },
  "language_info": {
   "codemirror_mode": {
    "name": "ipython",
    "version": 3
   },
   "file_extension": ".py",
   "mimetype": "text/x-python",
   "name": "python",
   "nbconvert_exporter": "python",
   "pygments_lexer": "ipython3",
   "version": "3.7.7-final"
  },
  "latex_envs": {
   "LaTeX_envs_menu_present": true,
   "autoclose": false,
   "autocomplete": true,
   "bibliofile": "biblio.bib",
   "cite_by": "apalike",
   "current_citInitial": 1,
   "eqLabelWithNumbers": true,
   "eqNumInitial": 1,
   "hotkeys": {
    "equation": "Ctrl-E",
    "itemize": "Ctrl-I"
   },
   "labels_anchors": false,
   "latex_user_defs": false,
   "report_style_numbering": false,
   "user_envs_cfg": false
  },
  "toc": {
   "base_numbering": 1,
   "nav_menu": {},
   "number_sections": true,
   "sideBar": true,
   "skip_h1_title": false,
   "title_cell": "Table of Contents",
   "title_sidebar": "Contents",
   "toc_cell": false,
   "toc_position": {},
   "toc_section_display": true,
   "toc_window_display": false
  },
  "varInspector": {
   "cols": {
    "lenName": 16,
    "lenType": 16,
    "lenVar": 40
   },
   "kernels_config": {
    "python": {
     "delete_cmd_postfix": "",
     "delete_cmd_prefix": "del ",
     "library": "var_list.py",
     "varRefreshCmd": "print(var_dic_list())"
    },
    "r": {
     "delete_cmd_postfix": ") ",
     "delete_cmd_prefix": "rm(",
     "library": "var_list.r",
     "varRefreshCmd": "cat(var_dic_list()) "
    }
   },
   "types_to_exclude": [
    "module",
    "function",
    "builtin_function_or_method",
    "instance",
    "_Feature"
   ],
   "window_display": false
  }
 },
 "nbformat": 4,
 "nbformat_minor": 4
}