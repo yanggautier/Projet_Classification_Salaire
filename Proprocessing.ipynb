{
 "cells": [
  {
   "cell_type": "code",
   "execution_count": 43,
   "metadata": {
    "ExecuteTime": {
     "end_time": "2020-05-28T10:05:28.179190Z",
     "start_time": "2020-05-28T10:05:27.795220Z"
    }
   },
   "outputs": [],
   "source": [
    "import pandas as pd\n",
    "import re\n",
    "import numpy as np"
   ]
  },
  {
   "cell_type": "code",
   "execution_count": 44,
   "metadata": {},
   "outputs": [],
   "source": [
    "jobs = ['Data scientist', 'Python', 'JS', 'Java','Data scientist', 'Python', 'JS', 'Java']\n",
    "countrys = ['France','France','France','France', 'USA','USA','USA','USA']\n",
    "filenames = ['data/'+str.lower(job).replace(' ','')+str.lower(country)+'.csv' for job, country in zip(jobs,countrys) ]\n",
    "\n",
    "df = pd.concat([pd.read_csv(filename, sep=';', encoding=\"utf-8-sig\", index_col=0) for filename in filenames])"
   ]
  },
  {
   "cell_type": "code",
   "execution_count": 45,
   "metadata": {},
   "outputs": [],
   "source": [
    "skills = ['Python', 'R', 'SQL', 'NoSQL', 'GIT', 'Spark', 'Flask', 'Streamlit', 'Docker', 'Kubernetes', 'React', 'Machine-Learning', 'Deep Learning', 'NLP', 'Vue', 'Angular', 'Scala', 'PySpark','PowerBI', 'SQLServer', 'Dataiku','Data', 'Keras', 'Tensor-Flow', 'NLU', 'PyTorch', 'Scikit-Learn', 'SAAS', 'Java', 'Scikit learn', 'Hadoop', 'Hive', 'ML','DL', 'Azure', 'AWS']\n",
    "\n",
    "# contrats = ['CDI','CDD','Apprentissage','Contrat pro','Stage','Intérim','Freelance','Indépendant','Freelance']\n",
    "            \n",
    "studylevel_keywords = {'High School':['High School','Baccalauréat'],\n",
    "                       'Guaduate': ['Université','Universitaire','Formation supérieure','Guaduate','Bac +2','Bac +3','Bachelor'],\n",
    "                       'Master': ['Master','Master 2', 'Master +2', 'Bac +5', 'Grande école d\\'ingénieur','Bac +4/5','M2','Cursus ingénieur', 'engineer','Diplôme ingénieur'],\n",
    "                       'Doctor': ['Doctorat', 'Doctor'], \n",
    "                       'Formation': ['Formation Data Science']\n",
    "                       }\n",
    "\n",
    "explevel_keywords = {'Beginer':['Débutant', 'Beginer','No experience','Pas d`\\'expérience', '1 an', '0-1 an','0 - 1 an', '0/1 an','0 / 1 an'],\n",
    "                       'Intermediate': ['Intermédiaire','Intermediate','2 year', '3 year','2-3 year',  '2 ans', '2/3 an', '1-2 an','1-3  years'],\n",
    "                       'Confirmed': ['Confirmé','Confirmed','3 an','4 an','5 an','3 year','4 year','5 year','3-5 year','3-5 an','3/5 year', '3/5 an'],\n",
    "                       'Expert': ['Expert','6 year','7 year', '8 year', '9 year','6 an','7 an', '8 an','9 an','10 an','5-10 year','5-10 an','5 - 10 an','5/10 year', '5/10 an'],\n",
    "                       'Senior': ['Senior', '10+ years', '10+ an', '10 ans +','plus de 10 an']\n",
    "                       }"
   ]
  },
  {
   "cell_type": "code",
   "execution_count": 46,
   "metadata": {},
   "outputs": [],
   "source": [
    "def exist_in_array(x, dicto):\n",
    "\n",
    "    for key in dicto:\n",
    "        if any(str.lower(term) in str.lower(x) for term in dicto[key]):\n",
    "            return key\n",
    "\n",
    "def skill_required(row):\n",
    "\n",
    "    desc_low = str.lower(row['Description'])\n",
    "    \n",
    "    for skill in skills:\n",
    "\n",
    "        skill_low = str.lower(skill)\n",
    "\n",
    "        if (skill_low in desc_low) or (skill_low.replace(' ','') in desc_low) or (skill_low.replace('-','') in desc_low)  or (skill_low.replace('-',' ') in desc_low):\n",
    "            row[skill] = 1\n",
    "\n",
    "    return row\n",
    "\n",
    "def searchBy(x,pattern):\n",
    "    match = re.search(pattern,str.lower(x))\n",
    "    if match:\n",
    "        return match.group(0)\n",
    "\n",
    "def replace_empty_salary(row):\n",
    "\n",
    "    if (row['Salaire'] == 'None') and (row['SalaryExtract'] is not None): \n",
    "        row['Salaire'] = row['SalaryExtract']\n",
    "    return row      "
   ]
  },
  {
   "cell_type": "code",
   "execution_count": 47,
   "metadata": {},
   "outputs": [],
   "source": [
    "df['Study required'] = df['Description'].apply(lambda x: exist_in_array(x, studylevel_keywords))\n",
    "df['Experience required'] = df['Description'].apply(lambda x: exist_in_array(x, explevel_keywords))\n",
    "\n",
    "df = pd.concat([df, pd.DataFrame(columns=skills)])\n",
    "df = df.apply(lambda row: skill_required(row), axis=1)"
   ]
  },
  {
   "cell_type": "code",
   "execution_count": 48,
   "metadata": {},
   "outputs": [],
   "source": [
    "salaryMatch = re.compile(r'((([\\$€]\\s?\\d{1,3}([\\.,\\s]?\\d{3})*[\\s]?k?([\\.,\\s]\\d{2})?([\\s]?((à)|(au)|(et)|(\\/)|(->?)|(to)|(and))?[\\s]?[\\$€]?[\\s]?\\d{1,3}([\\.,\\s]?\\d{3})*\\s?k?([\\.,\\s]?\\d{2})?)?)|((\\d{1,3}([\\.,\\s]?\\d{3})*\\s?k?([\\.,\\s]\\d{2})?\\s?[\\$€]?([\\s]?((à)|(au)|(et)|(and)|(\\/)|(->?)|(to))?[\\s]?\\d{1,3}([\\.,\\s]?\\d{3})*\\s?k?([\\.,\\s]\\d{2})?)?)[€\\$])[\\s]?)(\\s*(brut)?\\s*((par)|(a)|(an)|(per)|(by)|(\\/)|(every)|(un)|(une))[\\s]*((annually)|(heure)|(jour)|(hebdomadaire)|(mois)|(mensuel)|(hour)|(day)|(month)|(year)|(an))))')"
   ]
  },
  {
   "cell_type": "code",
   "execution_count": 303,
   "metadata": {},
   "outputs": [],
   "source": [
    "# (?:((([\\$€]\\s?\\d{1,3}([\\.,\\s]?\\d{3})*[\\s]?k?([\\.,\\s]\\d{2})?([\\s]?((à)|(au)|(et)|(\\/)|(->?)|(to)|(and))?[\\s]?[\\$€]?[\\s]?\\d{1,3}([\\.,\\s]?\\d{3})*\\s?k?([\\.,\\s]?\\d{2})?)?)|((\\d{1,3}([\\.,\\s]?\\d{3})*\\s?k?([\\.,\\s]\\d{2})?\\s?[\\$€]?([\\s]?((à)|(au)|(et)|(and)|(\\/)|(->?)|(to))?[\\s]?\\d{1,3}([\\.,\\s]?\\d{3})*\\s?k?([\\.,\\s]\\d{2})?)?)[€\\$])[\\s]?)(\\s*(brut)?\\s*((par)|(a)|(an)|(per)|(by)|(\\/)|(every)|(un)|(une))[\\s]*((annually)|(heure)|(jour)|(hebdomadaire)|(mois)|(mensuel)|(hour)|(day)|(month)|(year)|(an)))))"
   ]
  },
  {
   "cell_type": "code",
   "execution_count": 49,
   "metadata": {},
   "outputs": [],
   "source": [
    "df['SalaryExtract'] = df['Description'].apply(lambda x: searchBy(x ,salaryMatch))"
   ]
  },
  {
   "cell_type": "code",
   "execution_count": 50,
   "metadata": {},
   "outputs": [],
   "source": [
    "df = df.apply(lambda row: replace_empty_salary(row), axis=1)"
   ]
  },
  {
   "cell_type": "code",
   "execution_count": 51,
   "metadata": {},
   "outputs": [],
   "source": [
    "df.drop('SalaryExtract',axis=1, inplace=True)"
   ]
  },
  {
   "cell_type": "code",
   "execution_count": 52,
   "metadata": {},
   "outputs": [
    {
     "output_type": "execute_result",
     "data": {
      "text/plain": "None                          4785\n40 000 € - 50 000 € par an      58\n50 000 € par an                 43\n55 000 € par an                 43\n45 000 € par an                 39\n                              ... \n$95,000 - $115,000 a year        1\n$80 - $90 an hour                1\n800 € - 1 200 € par mois         1\n700 € par mois                   1\n40 000 € - 48 000 € par an       1\nName: Salaire, Length: 263, dtype: int64"
     },
     "metadata": {},
     "execution_count": 52
    }
   ],
   "source": [
    "df.Salaire.value_counts()"
   ]
  },
  {
   "cell_type": "code",
   "execution_count": 54,
   "metadata": {},
   "outputs": [],
   "source": [
    "df2 = df[df['Salaire']!= 'None']\n",
    "df2.drop('Type de contrat', axis=1, inplace=True) "
   ]
  },
  {
   "cell_type": "code",
   "execution_count": 55,
   "metadata": {},
   "outputs": [
    {
     "output_type": "execute_result",
     "data": {
      "text/plain": "(1121, 43)"
     },
     "metadata": {},
     "execution_count": 55
    }
   ],
   "source": [
    "df2.shape"
   ]
  },
  {
   "cell_type": "code",
   "execution_count": 56,
   "metadata": {},
   "outputs": [
    {
     "output_type": "execute_result",
     "data": {
      "text/plain": "40 000 € - 50 000 € par an       58\n50 000 € par an                  43\n55 000 € par an                  43\n45 000 € par an                  39\n35 000 € - 50 000 € par an       34\n40 937 € - 43 418 € par an       33\n38 000,00€ à 45 000,00€ /mois    29\n48 000 € - 52 000 € par an       27\n40 000 € par an                  26\n50 000 € - 80 000 € par an       25\n35 000 € - 45 000 € par an       18\n50 000 € - 65 000 € par an       16\n2 470 € - 3 100 € par mois       16\n38 000 € - 45 000 € par an       16\n40 000 € - 55 000 € par an       16\n45 000 € - 55 000 € par an       14\n33 000 € - 38 000 € par an       13\n28 000 € - 35 000 € par an       12\n65 000 € par an                  12\n35 000,00€ à 45 000,00€ /mois    11\n34 000,00€ à 50 000,00€ /mois    11\n40 000 € - 45 000 € par an       10\n34 000 € - 44 000 € par an       10\n35 000 € - 40 000 € par an       10\n33 000 € - 40 000 € par an       10\n48 000 € par an                   9\n45 000 € - 60 000 € par an        9\n40 000 € - 60 000 € par an        9\n43 000 € par an                   9\n$65 an hour                       8\n65 000 € - 75 000 € par an        8\n50 000 € - 60 000 € par an        8\n500 € par jour                    8\n1 500 € - 2 000 € par mois        8\n38 000 € par an                   8\n23 000 € - 35 000 € par an        7\n10-30€ a month                    7\n42 000 € par an                   7\n28 000 € - 40 000 € par an        7\n70 000 € par an                   7\n31 000 € - 38 000 € par an        7\n$70 an hour                       7\n41 000 € par an                   7\n25 000 € - 30 000 € par an        6\n25 000 € - 35 000 € par an        6\n50 000 € - 55 000 € par an        6\n52 000 € par an                   6\n38 000 € - 50 000 € par an        6\n46 000 € par an                   6\n36 000 € - 46 000 € par an        5\n35 000 € - 55 000 € par an        5\n36 000 € - 45 000 € par an        5\n45 000 € - 65 000 € par an        5\n55 000 € - 65 000 € par an        5\n60 000 € - 70 000 € par an        5\n$20 an hour                       5\n33 000,00€ à 40 000,00€ /mois     5\n$65,000 - $100,000 a year         5\n30 000 € - 45 000 € par an        5\n$90,000 - $120,000 a year         5\n$60 an hour                       5\n44 000 € par an                   4\n3 000 € par mois                  4\n$4,000 a week                     4\n$110,000 a year                   4\n550 € par jour                    4\n33 000 € - 55 000 € par an        4\n2 139 € par mois                  4\n48 000 € - 60 000 € par an        4\n25 000 € - 40 000 € par an        4\n35 € - 50 € par heure             3\n$50 - $55 an hour                 3\n$85 an hour                       3\n$45,100 - $75,100 a year          3\n350 € par jour                    3\n$65,000 - $110,000 a year         3\n$100,000 - $110,000 a year        3\n55 000 € - 60 000 € par an        3\n70 000 € - 90 000 € par an        3\n1 939 € - 3 041 € par mois        3\n28 000,00€ à 40 000,00€ /mois     3\n39 176 € - 56 339 € par an        3\n806 € par semaine                 3\n30 000 € - 40 000 € par an        3\n800 € par mois                    3\n$90,000 - $140,000 a year         3\n32 000 € - 40 000 € par an        3\n$85,000 - $120,000 a year         3\n45 000 € - 50 000 € par an        3\n420 € par jour                    3\n3 000 € - 3 400 € par mois        3\n45 000 € - 70 000 € par an        3\n40 € - 55 € par heure             3\n1 500 € par mois                  3\n2 800 € - 4 000 € par mois        3\n36,00€ à 50,00€ /an               3\n30 000 € - 60 000 € par an        3\n40 000 € - 65 000 € par an        3\n$110,000 - $130,000 a year        2\n$115,000 - $130,000 a year        2\n2 000 € - 4 500 € par mois        2\n39 000 € - 48 000 € par an        2\n45 000 € - 75 000 € par an        2\n$85,000 a year                    2\n55 000 € - 80 000 € par an        2\n37 000 € - 44 000 € par an        2\n60 000 € par an                   2\n$60,000 - $110,000 a year         2\n500 € - 600 € par jour            2\n450 € par jour                    2\n25 000 € - 50 000 € par an        2\n30 000 € - 35 000 € par an        2\n$25 - $40 an hour                 2\n$70,000 - $120,000 a year         2\n600 € - 900 € par mois            2\n400 € - 450 € par jour            2\n1 000 € par mois                  2\n$100/month                        2\n65 000 € - 85 000 € par an        2\n35 000,00€ /mois                  2\n1 700 € - 2 500 € par mois        2\n650 € - 700 € par jour            2\n40 000 € - 53 000 € par an        2\n500 € - 1 200 € par mois          2\n42 000 € - 45 000 € par an        2\n400 € par jour                    2\n36 000 € - 50 000 € par an        2\n40 000 € - 44 000 € par an        2\n75 000 € - 100 000 € par an       2\n$78,000 a year                    2\n380 € par semaine                 2\n30 000 € - 38 000 € par an        2\n2 500 € par mois                  2\n600 € par jour                    2\n3 585 € par mois                  2\n$80,000 - $105,000 a year         2\n2 436 € - 2 821 € par mois        2\n$52,000 - $59,000 a year          2\n390 € par jour                    2\n$80,000 - $100,000 a year         2\n45 000,00€ à 60 000,00€ /mois     2\n28 000 € par an                   2\n$70,000 - $100,000 a year         2\n$500 a year                       2\n37 000 € - 42 000 € par an        2\n$81,931 a year                    2\n$111,384 a year                   1\n1 800 € - 2 500 € par mois        1\n$100,000 - $115,000 a year        1\n2 000 € - 2 800 € par mois        1\n$96,000 a year                    1\n$94,299 - $122,592 a year         1\n$80,000 - $150,000 a year         1\n500,00€ /an                       1\n50 000 € - 75 000 € par an        1\n3 500 € - 3 750 € par mois        1\n50 000 € - 70 000 € par an        1\n$90 an hour                       1\n28 000 € - 33 000 € par an        1\n40 000 € - 48 000 € par an        1\n380 € par jour                    1\n$78,000 - $96,000 a year          1\n33 000 € par an                   1\n900 € par mois                    1\n25 000 € - 45 000 € par an        1\n900 € - 1 100 € par mois          1\n$54 an hour                       1\n1 500 € par semaine               1\n$80 - $90 an hour                 1\n$120,000 - $155,000 a year        1\n550 € - 950 € par mois            1\n40 000 € - 70 000 € par an        1\n2 100 € - 2 400 € par mois        1\n$58 - $60 an hour                 1\n32 745 € - 57 807 € par an        1\n48 000 € - 65 000 € par an        1\n$29.57 an hour                    1\n350 € - 400 € par jour            1\n$62,000 - $70,000 a year          1\n$95,000 - $170,000 a year         1\n32 000 € - 37 000 € par an        1\n700 € par mois                    1\n$130,000 a year                   1\n30 000 € - 32 000 € par an        1\n2 900 € - 3 100 € par mois        1\n$45 - $65 an hour                 1\n60 000 € - 75 000 € par an        1\n44 000 € - 48 000 € par an        1\n$65,000 - $85,000 a year          1\n800 € - 1 200 € par mois          1\n$65,000 - $90,000 a year          1\n37 000 € - 50 000 € par an        1\n$121,316 - $157,709 a year        1\n30 € par heure                    1\n$75,000 - $135,000 a year         1\n58 000 € - 70 000 € par an        1\n$83,692 - $111,469 a year         1\n$150,000 - $225,000 a year        1\n$55 an hour                       1\n$500/month                        1\n3 029 € - 3 703 € par mois        1\n$110,000 - $145,000 a year        1\n28 000 € - 32 000 € par an        1\n$6,000 - $9,500 a month           1\n12 000 € - 20 000 € par an        1\n42 000 € - 50 000 € par an        1\n42 000 € - 48 000 € par an        1\n$101,000 a year                   1\n0,00€ /mois                       1\nUp to $61 an hour                 1\n38 000 € - 42 000 € par an        1\n500 € - 550 € par jour            1\n$46,087 a year                    1\n47 000 € par an                   1\n45 € - 55 € par heure             1\n$100,000 - $140,000 a year        1\n$70,720 - $83,200 a year          1\n1 320 € par mois                  1\n$1,000 a month                    1\n$67,968 - $126,062 a year         1\n$53,917 - $120,874 a year         1\n$100,000 - $150,000 a year        1\n30 000 € - 50 000 € par an        1\n43 000 € - 48 000 € par an        1\n2 595 € - 3 171 € par mois        1\n$60,000 - $62,500 a year          1\n$95,000 - $115,000 a year         1\n$8,000 - $12,000 a month          1\n37 000 € - 45 000 € par an        1\n$150,000 - $200,000 a year        1\n$53,460 - $61,800 a year          1\n$50 an hour                       1\n2 950 € - 3 300 € par mois        1\n14 769 € par an                   1\n800€ et 1500€ / mois              1\n19 077 € - 49 543 € par an        1\n$108,784 a year                   1\n30 000 € - 55 000 € par an        1\n36 000 € - 42 000 € par an        1\n555 € - 1 200 € par mois          1\n4 000 € par mois                  1\n320 € par jour                    1\n$120,000 - $125,000 a year        1\n60 000 € - 100 000 € par an       1\n2 076 € - 2 184 € par mois        1\n$162,000 a year                   1\n$120,000 - $150,000 a year        1\n$90,000 - $175,000 a year         1\n$119,000 - $155,000 a year        1\n34 000 € - 40 000 € par an        1\n$100,000 - $145,000 a year        1\n$62,234 a year                    1\n$88 an hour                       1\n42 000 € - 65 000 € par an        1\n600 € par mois                    1\n10 000 € - 20 000 € par an        1\n40 000 € - 42 000 € par an        1\n3 800 € - 4 200 € par mois        1\n50 000,00€ à 55 000,00€ /mois     1\n60 000 € - 80 000 € par an        1\n70 000 € - 80 000 € par an        1\n$53,622 - $81,619 a year          1\nName: Salaire, dtype: int64"
     },
     "metadata": {},
     "execution_count": 56
    }
   ],
   "source": [
    "df2.Salaire.value_counts()"
   ]
  },
  {
   "cell_type": "code",
   "execution_count": 57,
   "metadata": {},
   "outputs": [],
   "source": [
    "df2 = df2.drop_duplicates()"
   ]
  },
  {
   "cell_type": "code",
   "execution_count": 58,
   "metadata": {},
   "outputs": [],
   "source": [
    "df2['Classe de salaire'] = np.nan"
   ]
  },
  {
   "cell_type": "code",
   "execution_count": 59,
   "metadata": {},
   "outputs": [
    {
     "output_type": "execute_result",
     "data": {
      "text/plain": "40 000 € - 50 000 € par an       22\n55 000 € par an                  16\n50 000 € par an                  15\n35 000 € - 45 000 € par an       11\n45 000 € par an                  11\n40 000 € par an                   9\n45 000 € - 55 000 € par an        8\n40 000 € - 60 000 € par an        8\n40 000 € - 45 000 € par an        7\n40 000 € - 55 000 € par an        6\n45 000 € - 60 000 € par an        5\n42 000 € par an                   5\n500 € par jour                    5\n60 000 € - 70 000 € par an        4\n50 000 € - 55 000 € par an        4\n$70 an hour                       4\n35 000 € - 50 000 € par an        4\n50 000 € - 60 000 € par an        4\n38 000 € - 45 000 € par an        4\n$65 an hour                       4\n70 000 € par an                   4\n30 000 € - 45 000 € par an        3\n48 000 € par an                   3\n38 000 € par an                   3\n550 € par jour                    3\n55 000 € - 65 000 € par an        3\n35 000 € - 40 000 € par an        3\n$60 an hour                       3\n28 000 € - 40 000 € par an        3\n30 000 € - 40 000 € par an        3\n55 000 € - 60 000 € par an        3\n52 000 € par an                   3\n43 000 € par an                   3\n65 000 € par an                   3\n35 000 € - 55 000 € par an        3\n70 000 € - 90 000 € par an        2\n33 000,00€ à 40 000,00€ /mois     2\n350 € par jour                    2\n38 000 € - 50 000 € par an        2\n$80,000 - $100,000 a year         2\n45 000 € - 50 000 € par an        2\n600 € - 900 € par mois            2\n36 000 € - 45 000 € par an        2\n50 000 € - 65 000 € par an        2\n$100,000 - $110,000 a year        2\n30 000 € - 35 000 € par an        2\n25 000 € - 35 000 € par an        2\n3 000 € - 3 400 € par mois        2\n10-30€ a month                    2\n32 000 € - 40 000 € par an        2\n1 500 € par mois                  2\n65 000 € - 75 000 € par an        2\n450 € par jour                    2\n$65,000 - $100,000 a year         2\n$90,000 - $120,000 a year         2\n$100/month                        2\n40 000 € - 53 000 € par an        2\n34 000 € - 44 000 € par an        2\n45 000 € - 70 000 € par an        2\n42 000 € - 45 000 € par an        2\n45 000 € - 65 000 € par an        2\n60 000 € par an                   2\n33 000 € - 40 000 € par an        2\n28 000 € - 35 000 € par an        2\n$110,000 a year                   2\n25 000 € - 50 000 € par an        1\n555 € - 1 200 € par mois          1\n3 800 € - 4 200 € par mois        1\n$120,000 - $150,000 a year        1\n23 000 € - 35 000 € par an        1\n$90,000 - $175,000 a year         1\n400 € - 450 € par jour            1\n40 000 € - 42 000 € par an        1\n34 000 € - 40 000 € par an        1\n$120,000 - $125,000 a year        1\n$50 an hour                       1\n380 € par semaine                 1\n320 € par jour                    1\n4 000 € par mois                  1\n$85,000 - $120,000 a year         1\n38 000,00€ à 45 000,00€ /mois     1\n$88 an hour                       1\n39 000 € - 48 000 € par an        1\n36 000 € - 42 000 € par an        1\n10 000 € - 20 000 € par an        1\n2 950 € - 3 300 € par mois        1\n$108,784 a year                   1\n$162,000 a year                   1\n$150,000 - $200,000 a year        1\n$100,000 - $145,000 a year        1\n42 000 € - 65 000 € par an        1\n14 769 € par an                   1\n41 000 € par an                   1\n19 077 € - 49 543 € par an        1\n800€ et 1500€ / mois              1\n$121,316 - $157,709 a year        1\n2 076 € - 2 184 € par mois        1\n2 000 € - 2 800 € par mois        1\n$62,000 - $70,000 a year          1\n1 000 € par mois                  1\n380 € par jour                    1\n500 € - 600 € par jour            1\n$130,000 a year                   1\n25 000 € - 30 000 € par an        1\n$95,000 - $170,000 a year         1\n$29.57 an hour                    1\n33 000 € par an                   1\n3 000 € par mois                  1\n40 000 € - 70 000 € par an        1\n550 € - 950 € par mois            1\n1 500 € par semaine               1\n31 000 € - 38 000 € par an        1\n50 000 € - 80 000 € par an        1\n25 000 € - 45 000 € par an        1\n900 € par mois                    1\n$120,000 - $155,000 a year        1\n$58 - $60 an hour                 1\n32 745 € - 57 807 € par an        1\n30 000 € - 32 000 € par an        1\n$45 - $65 an hour                 1\n2 800 € - 4 000 € par mois        1\n1 500 € - 2 000 € par mois        1\n40 000 € - 48 000 € par an        1\n2 900 € - 3 100 € par mois        1\n44 000 € - 48 000 € par an        1\n37 000 € - 50 000 € par an        1\n$65,000 - $85,000 a year          1\n$111,384 a year                   1\n$96,000 a year                    1\n75 000 € - 100 000 € par an       1\n2 500 € par mois                  1\n500,00€ /an                       1\n390 € par jour                    1\n37 000 € - 42 000 € par an        1\n44 000 € par an                   1\n40 937 € - 43 418 € par an        1\n$70,000 - $120,000 a year         1\n$90 an hour                       1\n3 500 € - 3 750 € par mois        1\n50 000 € - 75 000 € par an        1\n36 000 € - 46 000 € par an        1\n$94,299 - $122,592 a year         1\n35 000,00€ /mois                  1\n48 000 € - 52 000 € par an        1\n$20 an hour                       1\n35 000,00€ à 45 000,00€ /mois     1\n350 € - 400 € par jour            1\n$65,000 - $90,000 a year          1\n650 € - 700 € par jour            1\n$90,000 - $140,000 a year         1\n50 000,00€ à 55 000,00€ /mois     1\n$53,622 - $81,619 a year          1\n70 000 € - 80 000 € par an        1\n400 € par jour                    1\n600 € par mois                    1\n65 000 € - 85 000 € par an        1\n46 000 € par an                   1\n$110,000 - $130,000 a year        1\n60 000 € - 80 000 € par an        1\n48 000 € - 60 000 € par an        1\n$8,000 - $12,000 a month          1\n800 € par mois                    1\n$95,000 - $115,000 a year         1\n39 176 € - 56 339 € par an        1\n28 000,00€ à 40 000,00€ /mois     1\n$110,000 - $145,000 a year        1\n37 000 € - 44 000 € par an        1\n58 000 € - 70 000 € par an        1\n$100,000 - $140,000 a year        1\n1 939 € - 3 041 € par mois        1\n$70,720 - $83,200 a year          1\n2 139 € par mois                  1\n1 320 € par mois                  1\n40 € - 55 € par heure             1\n$60,000 - $62,500 a year          1\n35 € - 50 € par heure             1\n$62,234 a year                    1\n33 000 € - 38 000 € par an        1\n$119,000 - $155,000 a year        1\n$53,460 - $61,800 a year          1\n30 000 € - 55 000 € par an        1\n60 000 € - 75 000 € par an        1\n800 € - 1 200 € par mois          1\n900 € - 1 100 € par mois          1\n36 000 € - 50 000 € par an        1\n$54 an hour                       1\n$80 - $90 an hour                 1\n2 100 € - 2 400 € par mois        1\n25 000 € - 40 000 € par an        1\n48 000 € - 65 000 € par an        1\n32 000 € - 37 000 € par an        1\n700 € par mois                    1\n806 € par semaine                 1\n$78,000 - $96,000 a year          1\n28 000 € par an                   1\n$115,000 - $130,000 a year        1\n1 800 € - 2 500 € par mois        1\n1 700 € - 2 500 € par mois        1\n$100,000 - $115,000 a year        1\n28 000 € - 33 000 € par an        1\n$80,000 - $150,000 a year         1\n50 000 € - 70 000 € par an        1\n$52,000 - $59,000 a year          1\n30 € par heure                    1\n37 000 € - 45 000 € par an        1\n60 000 € - 100 000 € par an       1\n2 595 € - 3 171 € par mois        1\n43 000 € - 48 000 € par an        1\n30 000 € - 50 000 € par an        1\n$6,000 - $9,500 a month           1\n$83,692 - $111,469 a year         1\n$150,000 - $225,000 a year        1\n$55 an hour                       1\n$500/month                        1\n$50 - $55 an hour                 1\n$81,931 a year                    1\n3 029 € - 3 703 € par mois        1\n$75,000 - $135,000 a year         1\n34 000,00€ à 50 000,00€ /mois     1\n45 000 € - 75 000 € par an        1\n420 € par jour                    1\n$85,000 a year                    1\n$100,000 - $150,000 a year        1\n55 000 € - 80 000 € par an        1\n12 000 € - 20 000 € par an        1\n42 000 € - 50 000 € par an        1\n42 000 € - 48 000 € par an        1\n$60,000 - $110,000 a year         1\n$101,000 a year                   1\n0,00€ /mois                       1\n500 € - 1 200 € par mois          1\n$25 - $40 an hour                 1\n28 000 € - 32 000 € par an        1\n2 470 € - 3 100 € par mois        1\n2 436 € - 2 821 € par mois        1\n$80,000 - $105,000 a year         1\n3 585 € par mois                  1\n$65,000 - $110,000 a year         1\n2 000 € - 4 500 € par mois        1\n30 000 € - 60 000 € par an        1\n$53,917 - $120,874 a year         1\n$67,968 - $126,062 a year         1\n600 € par jour                    1\n$1,000 a month                    1\n36,00€ à 50,00€ /an               1\n$4,000 a week                     1\n45 000,00€ à 60 000,00€ /mois     1\n40 000 € - 65 000 € par an        1\n$500 a year                       1\n$70,000 - $100,000 a year         1\n$85 an hour                       1\n$45,100 - $75,100 a year          1\n45 € - 55 € par heure             1\n47 000 € par an                   1\n$46,087 a year                    1\n500 € - 550 € par jour            1\n40 000 € - 44 000 € par an        1\n38 000 € - 42 000 € par an        1\n$78,000 a year                    1\n30 000 € - 38 000 € par an        1\nUp to $61 an hour                 1\n33 000 € - 55 000 € par an        1\nName: Salaire, dtype: int64"
     },
     "metadata": {},
     "execution_count": 59
    }
   ],
   "source": [
    "pd.set_option('display.max_rows',262)\n",
    "df2.Salaire.value_counts()\n"
   ]
  },
  {
   "cell_type": "code",
   "execution_count": 60,
   "metadata": {},
   "outputs": [],
   "source": [
    "# def classification_salary(x):\n",
    "salaire = df2.iloc[3].Salaire"
   ]
  },
  {
   "cell_type": "code",
   "execution_count": 61,
   "metadata": {},
   "outputs": [
    {
     "output_type": "execute_result",
     "data": {
      "text/plain": "'40 000 € - 50 000 € par an'"
     },
     "metadata": {},
     "execution_count": 61
    }
   ],
   "source": [
    "salaire"
   ]
  },
  {
   "cell_type": "code",
   "execution_count": 62,
   "metadata": {},
   "outputs": [],
   "source": [
    "match = re.match('€',salaire)\n",
    "if match:\n",
    "    print(match.group(0))\n"
   ]
  },
  {
   "cell_type": "code",
   "execution_count": 31,
   "metadata": {},
   "outputs": [
    {
     "output_type": "stream",
     "name": "stdout",
     "text": "<re.Match object; span=(11, 26), match='50 000 € par an'>\n"
    }
   ],
   "source": [
    "print(re.search('(?:\\d*\\s?\\d{3})\\s€\\s?par\\s?an',salaire))"
   ]
  },
  {
   "cell_type": "code",
   "execution_count": 36,
   "metadata": {},
   "outputs": [
    {
     "output_type": "stream",
     "name": "stdout",
     "text": "[('40 000 € - 50 000 € par an', '40 000 € - 50 000 € ', '', '', '', '', '', '', '', '', '', '', '', '', '', '', '40 000 € - 50 000 €', '40 000 € - 50 000 ', ' 000', '', ' - 50 000 ', '-', '', '', '', '', '', '-', '', ' 000', '', 'par an', '', 'par', 'par', '', '', '', '', '', '', '', '', 'an', '', '', '', '', '', '', '', '', '', '', 'an')]\n"
    }
   ],
   "source": [
    "match = re.findall(r'((([\\$€]\\s?\\d{1,3}([\\.,\\s]?\\d{3})*[\\s]?k?([\\.,\\s]\\d{2})?([\\s]?((à)|(au)|(et)|(\\/)|(->?)|(to)|(and))?[\\s]?[\\$€]?[\\s]?\\d{1,3}([\\.,\\s]?\\d{3})*\\s?k?([\\.,\\s]?\\d{2})?)?)|((\\d{1,3}([\\.,\\s]?\\d{3})*\\s?k?([\\.,\\s]\\d{2})?\\s?[\\$€]?([\\s]?((à)|(au)|(et)|(and)|(\\/)|(->?)|(to))?[\\s]?\\d{1,3}([\\.,\\s]?\\d{3})*\\s?k?([\\.,\\s]\\d{2})?)?)[€\\$])[\\s]?)(\\s*(brut)?\\s*((par)|(a)|(an)|(per)|(by)|(\\/)|(every)|(un)|(une))[\\s]*((annually)|(heure)|(jour)|(hebdomadaire)|(mois)|(mensuel)|(hour)|(day)|(month)|(year)|(an))))',salaire)\n",
    "if match:\n",
    "    print(match)\n"
   ]
  },
  {
   "cell_type": "code",
   "execution_count": 90,
   "metadata": {},
   "outputs": [
    {
     "output_type": "stream",
     "name": "stdout",
     "text": "('3', '2')\n"
    }
   ],
   "source": [
    "import re\n",
    "m = re.match(r\"(?:\\d)(\\d)(\\d)\", \"632\")\n",
    "print(m.groups(0))"
   ]
  },
  {
   "cell_type": "code",
   "execution_count": 69,
   "metadata": {},
   "outputs": [
    {
     "output_type": "error",
     "ename": "IndentationError",
     "evalue": "expected an indented block (<ipython-input-69-dc026fe3c339>, line 7)",
     "traceback": [
      "\u001b[1;36m  File \u001b[1;32m\"<ipython-input-69-dc026fe3c339>\"\u001b[1;36m, line \u001b[1;32m7\u001b[0m\n\u001b[1;33m    elif re.search(r'(month)|(mensuel)|(mois)',salaire):\u001b[0m\n\u001b[1;37m       ^\u001b[0m\n\u001b[1;31mIndentationError\u001b[0m\u001b[1;31m:\u001b[0m expected an indented block\n"
     ]
    }
   ],
   "source": [
    "matchGroup=re.compile(r'')\n",
    "\n",
    "if re.search(r'(annually)|(year)|(((par)|(per)|(by)|(\\/)|(every)|(un)|(une))[\\s]?an)',salaire):\n",
    "    # if re.search(r'€':)\n",
    "    # else:\n",
    "    \n",
    "elif re.search(r'(month)|(mensuel)|(mois)',salaire):\n",
    "    pass\n",
    "elif re.search(r'(week)|(semaine)|(hebdomadaire)',salaire):\n",
    "    pass\n",
    "elif re.search(r'(day)|(jour)',salaire):\n",
    "    pass\n",
    "elif re.search(r'(hour)|(heur)',salaire):\n",
    "    pass\n",
    "else:\n",
    "    pass"
   ]
  },
  {
   "cell_type": "code",
   "execution_count": null,
   "metadata": {},
   "outputs": [],
   "source": [
    "((([\\$€]\\s?\\d{1,3}([\\.,\\s]?\\d{3})*[\\s]?k?([\\.,\\s]\\d{2})?([\\s]?((à)|(au)|(et)|(\\/)|(->?)|(to)|(and))?[\\s]?[\\$€]?[\\s]?\\d{1,3}([\\.,\\s]?\\d{3})*\\s?k?([\\.,\\s]?\\d{2})?)?)|((\\d{1,3}([\\.,\\s]?\\d{3})*\\s?k?([\\.,\\s]\\d{2})?\\s?[\\$€]?([\\s]?((à)|(au)|(et)|(and)|(\\/)|(->?)|(to))?[\\s]?\\d{1,3}([\\.,\\s]?\\d{3})*\\s?k?([\\.,\\s]\\d{2})?)?)[€\\$])[\\s]?)(\\s*(brut)?\\s*((par)|(a)|(an)|(per)|(by)|(\\/)|(every)|(un)|(une))[\\s]*((annually)|(heure)|(jour)|(hebdomadaire)|(mois)|(mensuel)|(hour)|(day)|(month)|(year)|(an))))"
   ]
  }
 ],
 "metadata": {
  "kernelspec": {
   "display_name": "Python 3",
   "language": "python",
   "name": "python3"
  },
  "language_info": {
   "codemirror_mode": {
    "name": "ipython",
    "version": 3
   },
   "file_extension": ".py",
   "mimetype": "text/x-python",
   "name": "python",
   "nbconvert_exporter": "python",
   "pygments_lexer": "ipython3",
   "version": "3.7.7-final"
  },
  "latex_envs": {
   "LaTeX_envs_menu_present": true,
   "autoclose": false,
   "autocomplete": true,
   "bibliofile": "biblio.bib",
   "cite_by": "apalike",
   "current_citInitial": 1,
   "eqLabelWithNumbers": true,
   "eqNumInitial": 1,
   "hotkeys": {
    "equation": "Ctrl-E",
    "itemize": "Ctrl-I"
   },
   "labels_anchors": false,
   "latex_user_defs": false,
   "report_style_numbering": false,
   "user_envs_cfg": false
  },
  "toc": {
   "base_numbering": 1,
   "nav_menu": {},
   "number_sections": true,
   "sideBar": true,
   "skip_h1_title": false,
   "title_cell": "Table of Contents",
   "title_sidebar": "Contents",
   "toc_cell": false,
   "toc_position": {},
   "toc_section_display": true,
   "toc_window_display": false
  },
  "varInspector": {
   "cols": {
    "lenName": 16,
    "lenType": 16,
    "lenVar": 40
   },
   "kernels_config": {
    "python": {
     "delete_cmd_postfix": "",
     "delete_cmd_prefix": "del ",
     "library": "var_list.py",
     "varRefreshCmd": "print(var_dic_list())"
    },
    "r": {
     "delete_cmd_postfix": ") ",
     "delete_cmd_prefix": "rm(",
     "library": "var_list.r",
     "varRefreshCmd": "cat(var_dic_list()) "
    }
   },
   "types_to_exclude": [
    "module",
    "function",
    "builtin_function_or_method",
    "instance",
    "_Feature"
   ],
   "window_display": false
  }
 },
 "nbformat": 4,
 "nbformat_minor": 4
}