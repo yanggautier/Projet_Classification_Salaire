{
 "cells": [
  {
   "cell_type": "code",
   "execution_count": 248,
   "metadata": {
    "ExecuteTime": {
     "end_time": "2020-05-28T10:05:28.179190Z",
     "start_time": "2020-05-28T10:05:27.795220Z"
    }
   },
   "outputs": [],
   "source": [
    "import pandas as pd\n",
    "import numpy as np\n",
    "jobs = ['Data scientist', 'Python', 'JS', 'Java','Data scientist', 'Python', 'JS', 'Java']\n",
    "countrys = ['France','France','France','France', 'USA','USA','USA','USA']\n",
    "filenames = ['data/'+str.lower(job).replace(' ','')+str.lower(country)+'.csv' for job, country in zip(jobs,countrys) ]\n",
    "df = pd.concat([pd.read_csv(filename, sep=';', encoding=\"utf-8-sig\") for filename in filenames])\n",
    "df2 = df.drop_duplicates(subset=None, keep=\"first\")"
   ]
  },
  {
   "cell_type": "code",
   "execution_count": 249,
   "metadata": {
    "ExecuteTime": {
     "end_time": "2020-05-28T10:15:22.995751Z",
     "start_time": "2020-05-28T10:15:22.991736Z"
    }
   },
   "outputs": [],
   "source": [
    "skills = ['Python', 'R', 'SQL', 'NoSQL', 'GIT', 'Spark', 'Flask', 'Streamlit', 'Docker', 'Kubernetes', 'React', 'Machine-Learning', 'Deep Learning', 'NLP', 'Vue', 'Angular', 'Scala', 'PySpark','PowerBI', 'SQLServer', 'Dataiku','Data', 'Keras', 'Tensor-Flow', 'NLU', 'PyTorch', 'Scikit-Learn', 'SAAS', 'Java', 'Scikit learn', 'Hadoop', 'Hive', 'ML','DL', 'Azure', 'AWS']\n",
    "\n",
    "# contrats = ['CDI','CDD','Apprentissage','Contrat pro','Stage','Intérim','Freelance','Indépendant','Freelance']\n",
    "            \n",
    "studylevel_keywords = {'High School':['High School','Baccalauréat'],\n",
    "                       'Guaduate': ['Université','Universitaire','Formation supérieure','Guaduate','Bac +2','Bac +3'],\n",
    "                       'Bachelor': ['Bachelor'],\n",
    "                       'Master': ['Master','Master 2', 'Master +2', 'Bac +5', 'Grande école d\\'ingénieur','Bac +4/5','M2','Cursus ingénieur', 'engineer','Diplôme ingénieur'],\n",
    "                       'Doctor': ['Doctorat', 'Doctor'], \n",
    "                       'Formation': ['Formation Data Science']\n",
    "                       }\n",
    "\n",
    "explevel_keywords = {'Beginer':['Débutant', 'Beginer','No experience','Pas d`\\'expérience', '1 an', '0-1 an','0 - 1 an', '0/1 an','0 / 1 an'],\n",
    "                       'Intermediate': ['Intermédiaire','Intermediate','2 year', '3 year','2-3 year',  '2 ans', '2/3 an', '1-2 an','1-3  years'],\n",
    "                       'Confirmed': ['Confirmé','Confirmed','3 an','4 an','5 an','3 year','4 year','5 year','3-5 year','3-5 an','3/5 year', '3/5 an'],\n",
    "                       'Expert': ['Expert','6 year','7 year', '8 year', '9 year','6 an','7 an', '8 an','9 an','10 an','5-10 year','5-10 an','5 - 10 an','5/10 year', '5/10 an'],\n",
    "                       'Senoir': ['Senoir', '10+ years']\n",
    "                       }"
   ]
  },
  {
   "cell_type": "code",
   "execution_count": 250,
   "metadata": {},
   "outputs": [],
   "source": [
    "def exist_in_array(x, dicto):\n",
    "\n",
    "    for key in dicto:\n",
    "        if any(str.lower(term) in str.lower(x) for term in dicto[key]):\n",
    "            return key"
   ]
  },
  {
   "cell_type": "code",
   "execution_count": 251,
   "metadata": {
    "ExecuteTime": {
     "end_time": "2020-05-28T10:21:01.108094Z",
     "start_time": "2020-05-28T10:21:00.935413Z"
    }
   },
   "outputs": [],
   "source": [
    "df2['Study required'] = df2['Description'].apply(lambda x: exist_in_array(x, studylevel_keywords))\n",
    "df2['Experience required'] = df2['Description'].apply(lambda x: exist_in_array(x, explevel_keywords))"
   ]
  },
  {
   "cell_type": "code",
   "execution_count": 252,
   "metadata": {},
   "outputs": [
    {
     "output_type": "execute_result",
     "data": {
      "text/plain": "array([None, '1-2  years', '3-5 years', '5-10 years', 'No experience'],\n      dtype=object)"
     },
     "metadata": {},
     "execution_count": 252
    }
   ],
   "source": [
    "df2['Experience required'].unique()"
   ]
  },
  {
   "cell_type": "code",
   "execution_count": 253,
   "metadata": {},
   "outputs": [],
   "source": [
    "df2.drop('Type de contrat',axis=1, inplace=True)"
   ]
  },
  {
   "cell_type": "code",
   "execution_count": 254,
   "metadata": {},
   "outputs": [
    {
     "output_type": "execute_result",
     "data": {
      "text/plain": "                                          Poste              Entreprise  \\\n0               Alternance - Data Scientist H/F        Malakoff Humanis   \n1                            Data Scientist H/F                  AGYLIS   \n2                           DATA SCIENTIST- F/H              Ingeniance   \n3    Data Scientist and Innovation Engineer H/F                   HIPAY   \n4                      ASSISTANT DATA SCIENTIST                   Total   \n..                                          ...                     ...   \n735                            Senior Developer              VirtualMGA   \n737  Senior Backend Engineer, Remote Assistance                  Cruise   \n740       Principal Software Engineer/Architect               Microsoft   \n742                       Sr. Software Engineer  Homecare Homebase, LLC   \n744       Senior Software Developer, Full-Stack        Life House Group   \n\n       Pays                                           Ville  \\\n0    France                                   Paris 9e (75)   \n1    France                                 La Défense (92)   \n2    France                                 La Défense (92)   \n3    France                           Levallois-Perret (92)   \n4    France                                   Nanterre (92)   \n..      ...                                             ...   \n735     USA                                   United States   \n737     USA  San Francisco, CA 94103 (South of Market area)   \n740     USA                                     Redmond, WA   \n742     USA                                  Louisville, KY   \n744     USA                                    Montreal, WI   \n\n                        Salaire  \\\n0                          None   \n1    40 000 € - 50 000 € par an   \n2                          None   \n3                          None   \n4                          None   \n..                          ...   \n735                        None   \n737                        None   \n740                        None   \n742                        None   \n744                        None   \n\n                                           Description Study required  \\\n0    Contrat ALTERNANCE Finalité du poste Au sein d...           None   \n1    AGYLIS est un acteur important des Entreprise ...         Master   \n2    Contexte: Vous assurez la production, la conce...         Master   \n3    Notre métier HiPay est une Fintech Européenne ...         Master   \n4    Monter un système de reporting pour la directi...       Guaduate   \n..                                                 ...            ...   \n735  Virtual MGA is searching for someone who can w...         Master   \n737  We're Cruise, the self-driving ride-hailing se...       Bachelor   \n740  Are you interested in joining a startup within...         Master   \n742  Position Summary A Senior Software Engineer wo...       Bachelor   \n744  OUR COMPANY Life House Group is a vertically-i...           None   \n\n    Experience required  \n0                  None  \n1            1-2  years  \n2                  None  \n3                  None  \n4             3-5 years  \n..                  ...  \n735                None  \n737                None  \n740                None  \n742          5-10 years  \n744                None  \n\n[3216 rows x 8 columns]",
      "text/html": "<div>\n<style scoped>\n    .dataframe tbody tr th:only-of-type {\n        vertical-align: middle;\n    }\n\n    .dataframe tbody tr th {\n        vertical-align: top;\n    }\n\n    .dataframe thead th {\n        text-align: right;\n    }\n</style>\n<table border=\"1\" class=\"dataframe\">\n  <thead>\n    <tr style=\"text-align: right;\">\n      <th></th>\n      <th>Poste</th>\n      <th>Entreprise</th>\n      <th>Pays</th>\n      <th>Ville</th>\n      <th>Salaire</th>\n      <th>Description</th>\n      <th>Study required</th>\n      <th>Experience required</th>\n    </tr>\n  </thead>\n  <tbody>\n    <tr>\n      <th>0</th>\n      <td>Alternance - Data Scientist H/F</td>\n      <td>Malakoff Humanis</td>\n      <td>France</td>\n      <td>Paris 9e (75)</td>\n      <td>None</td>\n      <td>Contrat ALTERNANCE Finalité du poste Au sein d...</td>\n      <td>None</td>\n      <td>None</td>\n    </tr>\n    <tr>\n      <th>1</th>\n      <td>Data Scientist H/F</td>\n      <td>AGYLIS</td>\n      <td>France</td>\n      <td>La Défense (92)</td>\n      <td>40 000 € - 50 000 € par an</td>\n      <td>AGYLIS est un acteur important des Entreprise ...</td>\n      <td>Master</td>\n      <td>1-2  years</td>\n    </tr>\n    <tr>\n      <th>2</th>\n      <td>DATA SCIENTIST- F/H</td>\n      <td>Ingeniance</td>\n      <td>France</td>\n      <td>La Défense (92)</td>\n      <td>None</td>\n      <td>Contexte: Vous assurez la production, la conce...</td>\n      <td>Master</td>\n      <td>None</td>\n    </tr>\n    <tr>\n      <th>3</th>\n      <td>Data Scientist and Innovation Engineer H/F</td>\n      <td>HIPAY</td>\n      <td>France</td>\n      <td>Levallois-Perret (92)</td>\n      <td>None</td>\n      <td>Notre métier HiPay est une Fintech Européenne ...</td>\n      <td>Master</td>\n      <td>None</td>\n    </tr>\n    <tr>\n      <th>4</th>\n      <td>ASSISTANT DATA SCIENTIST</td>\n      <td>Total</td>\n      <td>France</td>\n      <td>Nanterre (92)</td>\n      <td>None</td>\n      <td>Monter un système de reporting pour la directi...</td>\n      <td>Guaduate</td>\n      <td>3-5 years</td>\n    </tr>\n    <tr>\n      <th>...</th>\n      <td>...</td>\n      <td>...</td>\n      <td>...</td>\n      <td>...</td>\n      <td>...</td>\n      <td>...</td>\n      <td>...</td>\n      <td>...</td>\n    </tr>\n    <tr>\n      <th>735</th>\n      <td>Senior Developer</td>\n      <td>VirtualMGA</td>\n      <td>USA</td>\n      <td>United States</td>\n      <td>None</td>\n      <td>Virtual MGA is searching for someone who can w...</td>\n      <td>Master</td>\n      <td>None</td>\n    </tr>\n    <tr>\n      <th>737</th>\n      <td>Senior Backend Engineer, Remote Assistance</td>\n      <td>Cruise</td>\n      <td>USA</td>\n      <td>San Francisco, CA 94103 (South of Market area)</td>\n      <td>None</td>\n      <td>We're Cruise, the self-driving ride-hailing se...</td>\n      <td>Bachelor</td>\n      <td>None</td>\n    </tr>\n    <tr>\n      <th>740</th>\n      <td>Principal Software Engineer/Architect</td>\n      <td>Microsoft</td>\n      <td>USA</td>\n      <td>Redmond, WA</td>\n      <td>None</td>\n      <td>Are you interested in joining a startup within...</td>\n      <td>Master</td>\n      <td>None</td>\n    </tr>\n    <tr>\n      <th>742</th>\n      <td>Sr. Software Engineer</td>\n      <td>Homecare Homebase, LLC</td>\n      <td>USA</td>\n      <td>Louisville, KY</td>\n      <td>None</td>\n      <td>Position Summary A Senior Software Engineer wo...</td>\n      <td>Bachelor</td>\n      <td>5-10 years</td>\n    </tr>\n    <tr>\n      <th>744</th>\n      <td>Senior Software Developer, Full-Stack</td>\n      <td>Life House Group</td>\n      <td>USA</td>\n      <td>Montreal, WI</td>\n      <td>None</td>\n      <td>OUR COMPANY Life House Group is a vertically-i...</td>\n      <td>None</td>\n      <td>None</td>\n    </tr>\n  </tbody>\n</table>\n<p>3216 rows × 8 columns</p>\n</div>"
     },
     "metadata": {},
     "execution_count": 254
    }
   ],
   "source": [
    "df2"
   ]
  },
  {
   "cell_type": "code",
   "execution_count": 257,
   "metadata": {},
   "outputs": [
    {
     "output_type": "execute_result",
     "data": {
      "text/plain": "\"Notre métier HiPay est une Fintech Européenne spécialisée dans les solutions de paiement Omnicanal. Acteur innovant et en recherche constante d’amélioration, nous accompagnons plus de 4 000 marchands en France et à l’international. L’idée est simple: proposer une offre globale, performante et innovante permettant à nos marchands d’offrir un parcours d’achat fluide et une expérience de paiement agréable. Bien plus qu’une prestation de paiement: nous exploitons la puissance de la donnée liée à la transaction et permettons à nos marchands d’avoir une connaissance approfondie de ses clients. Click & Collect, web-to-store/store-to-web : vous nous avez peut-être utilisé récemment sans le savoir! Pour en savoir plus: https://hipay.com/ Notre identité Résolument digitale et innovante. HiPay se définit à travers un collectif débordant d’énergie, où les mots “agilité”, “bienveillance”, “autonomie” ou encore “partage” prennent tout leur sens. Ce que nous proposons Rejoindre une entreprise en pleine croissance Relever de véritables challenges, se dépasser au quotidien Un parcours d’intégration sur mesure Évoluer dans un environnement international Travailler mais pas que: Échanger, partager et rire Une super coach d’anglais en interne Du café à volonté, des fruits (bio) tout au long de la semaine Des pauses déj’ animées, des afterworks et des soirées tout au long de l’année  Ton (futur?) job Au sein de l'équipe Data Science composée de deux Data Scientist et un Data Engineer, tu auras pour missions de: Détecter des projets de data science prometteurs et qui ont un intérêt métier; Comprendre les besoins exprimés par les équipes métiers; Collecter et manipuler les données puis entraîner les modèles adéquats; Présenter tes résultats de manière pédagogique aux équipes; Accompagner la mise en production des modèles; Participer à la vie de l'équipe de Data Science en partageant tes idées, tes réfléxions et ton expérience aux autres membres de l'équipe. Le processus de recrutement 1: Un 1er échange avec ton futur Manager et une Talent Acquisition Manager 2: Un petit test technique réalisé à distance puis un debriefing avec le Manager 3: Un échange avec notre CTO et le Head of Product en charge de la tribu Data Science. Localisation Les locaux de HiPay sont situés à Levallois-Perret, accessibles par la ligne 3 (arrêt Pont de Levallois) et la ligne 1 (arrêt Pont de Neuilly). Le poste peut également être localisé dans nos bureaux nantais.  Ce job est fait pour toi si… Tu viens d'obtenir ton Doctorat dans un domaine quantitatif (ex: Machine Learnig, mathématiques appliquées, informatique ou physique) et tu recherches ton premier CDI; Tu maîtrises Python (Pandas, Sklearn, Keras) et les bases de données (SQL ou NoSQL); Tu préfères travailler en équipe avec des interlocuteurs divers; Solidaire, créatif.ve, rigoureux.se : c'est tout toi; Tu es à l'aise pour présenter tes résultats et prendre la parole en public; Idéalement, tu t'y connais un peu en deep learning\""
     },
     "metadata": {},
     "execution_count": 257
    }
   ],
   "source": [
    "df2.iloc[3]['Description']"
   ]
  },
  {
   "cell_type": "code",
   "execution_count": 176,
   "metadata": {},
   "outputs": [
    {
     "output_type": "execute_result",
     "data": {
      "text/plain": "2168"
     },
     "metadata": {},
     "execution_count": 176
    }
   ],
   "source": [
    "df2['Study required'].isna().sum()\n",
    "# def study_level_required(x):\n",
    "\n",
    "#     x_lower =  str.lower(x)\n",
    "#     for level in studylevels:\n",
    "#         leve_low = str.lower(level)\n",
    "#         if leve_low in x_lower or leve_low.replace(' ','') in x_lower:\n",
    "#             return level\n",
    "#     return np.NaN\n",
    "\n",
    "# df2['Study level required'] = df2['Description'].apply(lambda x : study_level_required(x))"
   ]
  },
  {
   "cell_type": "code",
   "execution_count": 177,
   "metadata": {},
   "outputs": [],
   "source": [
    "def skill_required(row):\n",
    "\n",
    "    desc_low = str.lower(row['Description'])\n",
    "    \n",
    "    for skill in skills:\n",
    "\n",
    "        skill_low = str.lower(skill)\n",
    "\n",
    "        if (skill_low in desc_low) or (skill_low.replace(' ','') in desc_low) or (skill_low.replace('-','') in desc_low)  or (skill_low.replace('-',' ') in desc_low):\n",
    "            row[skill] = 1\n",
    "\n",
    "    return row"
   ]
  },
  {
   "cell_type": "code",
   "execution_count": 178,
   "metadata": {
    "tags": [
     "outputPrepend",
     "outputPrepend",
     "outputPrepend",
     "outputPrepend",
     "outputPrepend",
     "outputPrepend",
     "outputPrepend",
     "outputPrepend",
     "outputPrepend",
     "outputPrepend",
     "outputPrepend",
     "outputPrepend",
     "outputPrepend",
     "outputPrepend",
     "outputPrepend",
     "outputPrepend",
     "outputPrepend",
     "outputPrepend",
     "outputPrepend",
     "outputPrepend",
     "outputPrepend",
     "outputPrepend",
     "outputPrepend",
     "outputPrepend",
     "outputPrepend",
     "outputPrepend",
     "outputPrepend",
     "outputPrepend",
     "outputPrepend",
     "outputPrepend",
     "outputPrepend",
     "outputPrepend",
     "outputPrepend",
     "outputPrepend",
     "outputPrepend",
     "outputPrepend",
     "outputPrepend",
     "outputPrepend",
     "outputPrepend",
     "outputPrepend",
     "outputPrepend",
     "outputPrepend",
     "outputPrepend",
     "outputPrepend",
     "outputPrepend",
     "outputPrepend",
     "outputPrepend",
     "outputPrepend",
     "outputPrepend",
     "outputPrepend",
     "outputPrepend",
     "outputPrepend",
     "outputPrepend",
     "outputPrepend",
     "outputPrepend",
     "outputPrepend",
     "outputPrepend",
     "outputPrepend",
     "outputPrepend",
     "outputPrepend",
     "outputPrepend",
     "outputPrepend",
     "outputPrepend",
     "outputPrepend",
     "outputPrepend",
     "outputPrepend",
     "outputPrepend",
     "outputPrepend",
     "outputPrepend",
     "outputPrepend",
     "outputPrepend",
     "outputPrepend",
     "outputPrepend",
     "outputPrepend",
     "outputPrepend",
     "outputPrepend",
     "outputPrepend",
     "outputPrepend",
     "outputPrepend",
     "outputPrepend",
     "outputPrepend",
     "outputPrepend",
     "outputPrepend",
     "outputPrepend",
     "outputPrepend",
     "outputPrepend",
     "outputPrepend",
     "outputPrepend",
     "outputPrepend",
     "outputPrepend",
     "outputPrepend",
     "outputPrepend",
     "outputPrepend",
     "outputPrepend",
     "outputPrepend",
     "outputPrepend",
     "outputPrepend"
    ]
   },
   "outputs": [],
   "source": [
    "df2 = df2.apply(lambda row: skill_required(row), axis=1)"
   ]
  },
  {
   "cell_type": "code",
   "execution_count": 163,
   "metadata": {},
   "outputs": [],
   "source": [
    "# langages_en = ['Spanish','Chinese', 'Arab','French','Italian', 'English','Japanese']\n",
    "# langages_fr =['Espagnol','Chinois','Arabe','Français','Italien', 'Anglais','Japonais']\n",
    "\n",
    "# df2 = pd.concat([df2, pd.DataFrame(columns=langages_en)])\n",
    "\n",
    "# def langage_required(row, table_en, table_fr):\n",
    "\n",
    "#     tables = zip(table_en, table_fr)\n",
    "\n",
    "#     desc_low = str.lower(row['Description'])\n",
    "    \n",
    "#     for key_en,key_fr in tables:\n",
    "\n",
    "#         key_en_low = str.lower(key_en)\n",
    "#         key_fr_low = str.lower(key_fr)\n",
    "\n",
    "#         if (key_en_low in desc_low)   or (key_fr_low in desc_low):\n",
    "#             row[key_en] = 1\n",
    "#     return row"
   ]
  },
  {
   "cell_type": "code",
   "execution_count": 164,
   "metadata": {},
   "outputs": [],
   "source": [
    "# df2 = df2.apply(lambda row: langage_required(row,langages_en,langages_fr), axis=1)\n",
    "# df2"
   ]
  },
  {
   "cell_type": "code",
   "execution_count": 165,
   "metadata": {},
   "outputs": [],
   "source": [
    "# df2 = pd.concat([df2, pd.DataFrame(columns=['Type of contract', 'Contract pro'])])"
   ]
  },
  {
   "cell_type": "code",
   "execution_count": 166,
   "metadata": {
    "tags": [
     "outputPrepend",
     "outputPrepend",
     "outputPrepend"
    ]
   },
   "outputs": [],
   "source": [
    "# worktype_en = ['Full-time','Part-time','Remote','Internship','Contract','Temporary','Comission','Freelance','']\n",
    "# worktype_fr = ['Temps plein','Temps partiel','Distance','Stage','Contrat','Temporaire','Commision','Indépendant','Apprentissage']\n",
    "\n",
    "# def work_type(x):\n",
    "#     worktypes = zip(worktype_en, worktype_fr)\n",
    "#     x_lower =  str.lower(x)\n",
    "\n",
    "#     for wtype_en,wtype_fr in worktypes:\n",
    "\n",
    "#         wtype_en_lower = str.lower(wtype_en)\n",
    "#         wtype_fr_lower = str.lower(wtype_fr)\n",
    "\n",
    "#         if (wtype_en_lower in x_lower) or (wtype_en_lower.replace(' ','') in x_lower) or (wtype_fr_lower in x_lower) or (wtype_fr_lower.replace(' ','') in x_lower) or (wtype_en_lower.replace('-',' ') in x_lower):\n",
    "\n",
    "#             return wtype_en\n",
    "\n",
    "#     return np.NaN\n",
    "\n",
    "# df2['Type of contract'] = df2['Description'].apply(lambda x : work_type(x))\n",
    "# df2['Type of contract'][df2['Type of contract'].isna()] =  df2['Type de contrat'].apply(lambda x : contrat_type(x))\n",
    "# df2['Type of contract'][df2['Type of contract'].isna()] =  df2['Poste'].astype(str).apply(lambda x : contrat_type(x))\n"
   ]
  },
  {
   "cell_type": "code",
   "execution_count": 167,
   "metadata": {},
   "outputs": [],
   "source": [
    "# df2['Type of contract'].value_counts()\n",
    "\n",
    "salaires = ['30 000 € - 40 000 € par an','40 000 € - 50 000 € par an','50 000 € - 60 000 € par an']\n"
   ]
  },
  {
   "cell_type": "code",
   "execution_count": 168,
   "metadata": {},
   "outputs": [],
   "source": [
    "# # def key_required(x, table_en, table_fr):\n",
    "# #     tables = zip(table_en, table_fr)\n",
    "    \n",
    "# #     for key_en, key_fr in langages:\n",
    "\n",
    "# #         desc_low = str.lower(x)\n",
    "\n",
    "# #         key_en_low = str.lower(key_en)\n",
    "# #         key_fr_low = str.lower(key_fr)\n",
    "\n",
    "# #         if (key_en_low in desc_low) or (key_fr_low in desc_low):\n",
    "\n",
    "# #             row[key_en] = 1\n",
    "\n",
    "# #     return np.Nan\n",
    "\n",
    "# contrat_type_en = ['Open-ended','Fixed-term']\n",
    "# contrat_type_fr = ['CDI','CDD']\n",
    "\n",
    "# def contrat_type(x):\n",
    "#     contrat_types = zip(contrat_type_en, contrat_type_fr)\n",
    "#     x_lower =  str.lower(x)\n",
    "\n",
    "#     for contrat_en,contrat_fr in contrat_types:\n",
    "\n",
    "#         contrat_en_lower = str.lower(contrat_en)\n",
    "#         contrat_fr_lower = str.lower(contrat_fr)\n",
    "\n",
    "#         if (contrat_en_lower in x_lower) or (contrat_en_lower.replace(' ','') in x_lower) or (contrat_fr_lower in x_lower) or (contrat_fr_lower.replace(' ','') in x_lower) or (contrat_en_lower.replace('-',' ') in x_lower):\n",
    "\n",
    "#             return contrat_en\n",
    "\n",
    "#     return np.NaN\n",
    "\n",
    "# df2['Contract pro'] = df2['Description'].apply(lambda x : contrat_type(x))\n",
    "# df2['Contract pro'][df2['Contract pro'].isna()] =  df2['Type de contrat'].apply(lambda x : contrat_type(x))\n",
    "# df2['Contract pro'][df2['Contract pro'].isna()] =  df2['Poste'].astype(str).apply(lambda x : contrat_type(x))"
   ]
  },
  {
   "cell_type": "code",
   "execution_count": 169,
   "metadata": {
    "tags": [
     "outputPrepend",
     "outputPrepend",
     "outputPrepend",
     "outputPrepend",
     "outputPrepend",
     "outputPrepend"
    ]
   },
   "outputs": [],
   "source": [
    "# df2['Contract pro'].value_counts()\n"
   ]
  },
  {
   "cell_type": "code",
   "execution_count": 179,
   "metadata": {},
   "outputs": [
    {
     "output_type": "execute_result",
     "data": {
      "text/plain": "                                          Poste              Entreprise  \\\n0               Alternance - Data Scientist H/F        Malakoff Humanis   \n1                            Data Scientist H/F                  AGYLIS   \n2                           DATA SCIENTIST- F/H              Ingeniance   \n3    Data Scientist and Innovation Engineer H/F                   HIPAY   \n4                      ASSISTANT DATA SCIENTIST                   Total   \n..                                          ...                     ...   \n735                            Senior Developer              VirtualMGA   \n737  Senior Backend Engineer, Remote Assistance                  Cruise   \n740       Principal Software Engineer/Architect               Microsoft   \n742                       Sr. Software Engineer  Homecare Homebase, LLC   \n744       Senior Software Developer, Full-Stack        Life House Group   \n\n       Pays                                           Ville  \\\n0    France                                   Paris 9e (75)   \n1    France                                 La Défense (92)   \n2    France                                 La Défense (92)   \n3    France                           Levallois-Perret (92)   \n4    France                                   Nanterre (92)   \n..      ...                                             ...   \n735     USA                                   United States   \n737     USA  San Francisco, CA 94103 (South of Market area)   \n740     USA                                     Redmond, WA   \n742     USA                                  Louisville, KY   \n744     USA                                    Montreal, WI   \n\n                Type de contrat                     Salaire  \\\n0    Apprentissage, Contrat pro                        None   \n1              Temps plein, CDI  40 000 € - 50 000 € par an   \n2                           CDI                        None   \n3                          None                        None   \n4    Apprentissage, Contrat pro                        None   \n..                          ...                         ...   \n735                        None                        None   \n737                        None                        None   \n740                        None                        None   \n742                        None                        None   \n744                        None                        None   \n\n                                           Description  Python    R  SQL  ...  \\\n0    Contrat ALTERNANCE Finalité du poste Au sein d...     1.0  1.0  NaN  ...   \n1    AGYLIS est un acteur important des Entreprise ...     1.0  1.0  NaN  ...   \n2    Contexte: Vous assurez la production, la conce...     NaN  1.0  NaN  ...   \n3    Notre métier HiPay est une Fintech Européenne ...     1.0  1.0  1.0  ...   \n4    Monter un système de reporting pour la directi...     NaN  1.0  NaN  ...   \n..                                                 ...     ...  ...  ...  ...   \n735  Virtual MGA is searching for someone who can w...     NaN  1.0  1.0  ...   \n737  We're Cruise, the self-driving ride-hailing se...     NaN  1.0  1.0  ...   \n740  Are you interested in joining a startup within...     NaN  1.0  1.0  ...   \n742  Position Summary A Senior Software Engineer wo...     NaN  1.0  1.0  ...   \n744  OUR COMPANY Life House Group is a vertically-i...     1.0  1.0  NaN  ...   \n\n     SAAS  Java  Scikit learn  Hadoop  Hive   ML   DL  Azure  AWS  \\\n0     NaN   NaN           NaN     NaN   NaN  NaN  NaN    NaN  NaN   \n1     NaN   NaN           NaN     NaN   NaN  1.0  1.0    1.0  1.0   \n2     NaN   NaN           NaN     NaN   NaN  NaN  NaN    NaN  NaN   \n3     NaN   NaN           NaN     NaN   NaN  NaN  NaN    NaN  NaN   \n4     NaN   NaN           NaN     NaN   NaN  NaN  NaN    NaN  NaN   \n..    ...   ...           ...     ...   ...  ...  ...    ...  ...   \n735   NaN   1.0           NaN     NaN   NaN  1.0  NaN    NaN  1.0   \n737   NaN   1.0           NaN     NaN   NaN  NaN  1.0    NaN  1.0   \n740   1.0   1.0           NaN     1.0   NaN  NaN  1.0    1.0  1.0   \n742   NaN   1.0           NaN     NaN   NaN  NaN  NaN    NaN  NaN   \n744   NaN   1.0           NaN     NaN   NaN  NaN  1.0    NaN  NaN   \n\n     Study level required  \n0                  Bac +5  \n1                  Master  \n2                  Bac +5  \n3                     NaN  \n4                  Bac +5  \n..                    ...  \n735                   NaN  \n737                Master  \n740                   NaN  \n742                   NaN  \n744                   NaN  \n\n[3216 rows x 43 columns]",
      "text/html": "<div>\n<style scoped>\n    .dataframe tbody tr th:only-of-type {\n        vertical-align: middle;\n    }\n\n    .dataframe tbody tr th {\n        vertical-align: top;\n    }\n\n    .dataframe thead th {\n        text-align: right;\n    }\n</style>\n<table border=\"1\" class=\"dataframe\">\n  <thead>\n    <tr style=\"text-align: right;\">\n      <th></th>\n      <th>Poste</th>\n      <th>Entreprise</th>\n      <th>Pays</th>\n      <th>Ville</th>\n      <th>Type de contrat</th>\n      <th>Salaire</th>\n      <th>Description</th>\n      <th>Python</th>\n      <th>R</th>\n      <th>SQL</th>\n      <th>...</th>\n      <th>SAAS</th>\n      <th>Java</th>\n      <th>Scikit learn</th>\n      <th>Hadoop</th>\n      <th>Hive</th>\n      <th>ML</th>\n      <th>DL</th>\n      <th>Azure</th>\n      <th>AWS</th>\n      <th>Study level required</th>\n    </tr>\n  </thead>\n  <tbody>\n    <tr>\n      <th>0</th>\n      <td>Alternance - Data Scientist H/F</td>\n      <td>Malakoff Humanis</td>\n      <td>France</td>\n      <td>Paris 9e (75)</td>\n      <td>Apprentissage, Contrat pro</td>\n      <td>None</td>\n      <td>Contrat ALTERNANCE Finalité du poste Au sein d...</td>\n      <td>1.0</td>\n      <td>1.0</td>\n      <td>NaN</td>\n      <td>...</td>\n      <td>NaN</td>\n      <td>NaN</td>\n      <td>NaN</td>\n      <td>NaN</td>\n      <td>NaN</td>\n      <td>NaN</td>\n      <td>NaN</td>\n      <td>NaN</td>\n      <td>NaN</td>\n      <td>Bac +5</td>\n    </tr>\n    <tr>\n      <th>1</th>\n      <td>Data Scientist H/F</td>\n      <td>AGYLIS</td>\n      <td>France</td>\n      <td>La Défense (92)</td>\n      <td>Temps plein, CDI</td>\n      <td>40 000 € - 50 000 € par an</td>\n      <td>AGYLIS est un acteur important des Entreprise ...</td>\n      <td>1.0</td>\n      <td>1.0</td>\n      <td>NaN</td>\n      <td>...</td>\n      <td>NaN</td>\n      <td>NaN</td>\n      <td>NaN</td>\n      <td>NaN</td>\n      <td>NaN</td>\n      <td>1.0</td>\n      <td>1.0</td>\n      <td>1.0</td>\n      <td>1.0</td>\n      <td>Master</td>\n    </tr>\n    <tr>\n      <th>2</th>\n      <td>DATA SCIENTIST- F/H</td>\n      <td>Ingeniance</td>\n      <td>France</td>\n      <td>La Défense (92)</td>\n      <td>CDI</td>\n      <td>None</td>\n      <td>Contexte: Vous assurez la production, la conce...</td>\n      <td>NaN</td>\n      <td>1.0</td>\n      <td>NaN</td>\n      <td>...</td>\n      <td>NaN</td>\n      <td>NaN</td>\n      <td>NaN</td>\n      <td>NaN</td>\n      <td>NaN</td>\n      <td>NaN</td>\n      <td>NaN</td>\n      <td>NaN</td>\n      <td>NaN</td>\n      <td>Bac +5</td>\n    </tr>\n    <tr>\n      <th>3</th>\n      <td>Data Scientist and Innovation Engineer H/F</td>\n      <td>HIPAY</td>\n      <td>France</td>\n      <td>Levallois-Perret (92)</td>\n      <td>None</td>\n      <td>None</td>\n      <td>Notre métier HiPay est une Fintech Européenne ...</td>\n      <td>1.0</td>\n      <td>1.0</td>\n      <td>1.0</td>\n      <td>...</td>\n      <td>NaN</td>\n      <td>NaN</td>\n      <td>NaN</td>\n      <td>NaN</td>\n      <td>NaN</td>\n      <td>NaN</td>\n      <td>NaN</td>\n      <td>NaN</td>\n      <td>NaN</td>\n      <td>NaN</td>\n    </tr>\n    <tr>\n      <th>4</th>\n      <td>ASSISTANT DATA SCIENTIST</td>\n      <td>Total</td>\n      <td>France</td>\n      <td>Nanterre (92)</td>\n      <td>Apprentissage, Contrat pro</td>\n      <td>None</td>\n      <td>Monter un système de reporting pour la directi...</td>\n      <td>NaN</td>\n      <td>1.0</td>\n      <td>NaN</td>\n      <td>...</td>\n      <td>NaN</td>\n      <td>NaN</td>\n      <td>NaN</td>\n      <td>NaN</td>\n      <td>NaN</td>\n      <td>NaN</td>\n      <td>NaN</td>\n      <td>NaN</td>\n      <td>NaN</td>\n      <td>Bac +5</td>\n    </tr>\n    <tr>\n      <th>...</th>\n      <td>...</td>\n      <td>...</td>\n      <td>...</td>\n      <td>...</td>\n      <td>...</td>\n      <td>...</td>\n      <td>...</td>\n      <td>...</td>\n      <td>...</td>\n      <td>...</td>\n      <td>...</td>\n      <td>...</td>\n      <td>...</td>\n      <td>...</td>\n      <td>...</td>\n      <td>...</td>\n      <td>...</td>\n      <td>...</td>\n      <td>...</td>\n      <td>...</td>\n      <td>...</td>\n    </tr>\n    <tr>\n      <th>735</th>\n      <td>Senior Developer</td>\n      <td>VirtualMGA</td>\n      <td>USA</td>\n      <td>United States</td>\n      <td>None</td>\n      <td>None</td>\n      <td>Virtual MGA is searching for someone who can w...</td>\n      <td>NaN</td>\n      <td>1.0</td>\n      <td>1.0</td>\n      <td>...</td>\n      <td>NaN</td>\n      <td>1.0</td>\n      <td>NaN</td>\n      <td>NaN</td>\n      <td>NaN</td>\n      <td>1.0</td>\n      <td>NaN</td>\n      <td>NaN</td>\n      <td>1.0</td>\n      <td>NaN</td>\n    </tr>\n    <tr>\n      <th>737</th>\n      <td>Senior Backend Engineer, Remote Assistance</td>\n      <td>Cruise</td>\n      <td>USA</td>\n      <td>San Francisco, CA 94103 (South of Market area)</td>\n      <td>None</td>\n      <td>None</td>\n      <td>We're Cruise, the self-driving ride-hailing se...</td>\n      <td>NaN</td>\n      <td>1.0</td>\n      <td>1.0</td>\n      <td>...</td>\n      <td>NaN</td>\n      <td>1.0</td>\n      <td>NaN</td>\n      <td>NaN</td>\n      <td>NaN</td>\n      <td>NaN</td>\n      <td>1.0</td>\n      <td>NaN</td>\n      <td>1.0</td>\n      <td>Master</td>\n    </tr>\n    <tr>\n      <th>740</th>\n      <td>Principal Software Engineer/Architect</td>\n      <td>Microsoft</td>\n      <td>USA</td>\n      <td>Redmond, WA</td>\n      <td>None</td>\n      <td>None</td>\n      <td>Are you interested in joining a startup within...</td>\n      <td>NaN</td>\n      <td>1.0</td>\n      <td>1.0</td>\n      <td>...</td>\n      <td>1.0</td>\n      <td>1.0</td>\n      <td>NaN</td>\n      <td>1.0</td>\n      <td>NaN</td>\n      <td>NaN</td>\n      <td>1.0</td>\n      <td>1.0</td>\n      <td>1.0</td>\n      <td>NaN</td>\n    </tr>\n    <tr>\n      <th>742</th>\n      <td>Sr. Software Engineer</td>\n      <td>Homecare Homebase, LLC</td>\n      <td>USA</td>\n      <td>Louisville, KY</td>\n      <td>None</td>\n      <td>None</td>\n      <td>Position Summary A Senior Software Engineer wo...</td>\n      <td>NaN</td>\n      <td>1.0</td>\n      <td>1.0</td>\n      <td>...</td>\n      <td>NaN</td>\n      <td>1.0</td>\n      <td>NaN</td>\n      <td>NaN</td>\n      <td>NaN</td>\n      <td>NaN</td>\n      <td>NaN</td>\n      <td>NaN</td>\n      <td>NaN</td>\n      <td>NaN</td>\n    </tr>\n    <tr>\n      <th>744</th>\n      <td>Senior Software Developer, Full-Stack</td>\n      <td>Life House Group</td>\n      <td>USA</td>\n      <td>Montreal, WI</td>\n      <td>None</td>\n      <td>None</td>\n      <td>OUR COMPANY Life House Group is a vertically-i...</td>\n      <td>1.0</td>\n      <td>1.0</td>\n      <td>NaN</td>\n      <td>...</td>\n      <td>NaN</td>\n      <td>1.0</td>\n      <td>NaN</td>\n      <td>NaN</td>\n      <td>NaN</td>\n      <td>NaN</td>\n      <td>1.0</td>\n      <td>NaN</td>\n      <td>NaN</td>\n      <td>NaN</td>\n    </tr>\n  </tbody>\n</table>\n<p>3216 rows × 43 columns</p>\n</div>"
     },
     "metadata": {},
     "execution_count": 179
    }
   ],
   "source": [
    "df2"
   ]
  },
  {
   "cell_type": "code",
   "execution_count": 121,
   "metadata": {},
   "outputs": [],
   "source": [
    "df2['Salaire2'] = df2.Description.str.extract(r\"(\\b(?:\\d[ - ]*?){3,5}( € \\- )(?:\\d[ - ]*?){3,5}( € par jour)\\b|\\b(?:\\d[ - ]*?){3,5}( € \\- )(?:\\d[ - ]*?){3,5}( € par mois)\\b|\\b(?:\\d[ - ]*?){3,5}( € \\- )(?:\\d[ - ]*?){3,5}( € par an)\\b|\\b(?:\\d[ - ]*?){3,5}(€ par jour)\\b|\\b(?:\\d[ - ]*?){3,5}( € par jour)\\b|\\b(?:\\d[ - ]*?){3,5}(€ par mois)\\b|\\b(?:\\d[ - ]*?){3,5}( € par mois)\\b|\\b(?:\\d[ - ]*?){3,5}( € par an)\\b|\\b(?:\\d[ - ]*?){3,5}(€ par an)\\b | \\$(\\d){2,3}\\,(\\d){3}( \\- )\\$(\\d){2,3}\\,(\\d){3}( a year)|\\$(\\d){2,3}\\,(\\d){3}( a year)|\\$(\\d){2}\\.(\\d){2}( \\- )\\$(\\d){2}\\.(\\d){2}( an hour)|\\$(\\d){2}\\.(\\d){2}( an hour))\")"
   ]
  },
  {
   "cell_type": "code",
   "execution_count": 162,
   "metadata": {},
   "outputs": [
    {
     "output_type": "execute_result",
     "data": {
      "text/plain": "'À propos LiveMentor est la référence du coaching d’entrepreneurs en France. Passionnés d\\'entrepreneuriat, ils ont créé une expérience d’apprentissage d’exception pour aider toute une génération à vivre de son projet. Dans leur communauté, ils comptent 6 000 entrepreneurs, et comptent doubler en 2020, portés par une croissance inédite. Qui sont ces entrepreneurs ? Des artisans, des thérapeutes, des e-commerçants, des freelances, et bien d’autres encore. Leur ambition est simple : changer la société française en aidant chacun à vivre de sa passion. Pour cela : Le coaching est vraiment intense et surtout, les mentors savent de quoi ils parlent. Ils ne recrutent que des anciens entrepreneurs ou freelances. Chaque mentor a suivi une formation poussée, et respecte la pédagogie LiveMentor. Ils ont développé une technologie de pointe pour le coaching en ligne. Ils ont créé une belle communauté d’entrepreneurs et de porteurs de projet. Et ils en prennent soin. Elle s’exprime via des rencontres, un groupe Facebook privé, et des événements. Et ils ne comptent pas s\\'arrêter là ! Descriptif du poste LiveMentor recherche son \"chiffre\" , à savoir celle ou celui qui saura faire parler les milliers de lignes de données qui remontent en permanence de nos entrepreneurs. Votre mission : donner vie aux chiffres pour nous aider à construire une expérience d\\'apprentissage hors normes - c\\'est à dire à l\\'écoute de ses utilisateurs, véritablement efficace et en itération constante ! En collaboration avec les équipes opérationnelles, mise en place, suivi et optimisation des KPIs clés de notre expérience : Csat, NPS, taux d\\'engagement, avancées des élèves dans l\\'expérience... User research : construire l\\'expérience académique la plus fluide possible pour nos élèves Identification des frictions dans notre expérience Appui aux équipes opérationnelles (dashboarding, aide à la définition des KPIs...) Innovation : conduite de projets transversaux en partenariat avec nos équipes OPS et produits visant à l\\'optimisation de metrics clés (lancement de nouveaux produits, fonctionnalités...) Profil recherché Profil *data analyst * Ecole d\\'ingénieurs ou un profil Grande Ecole de Commerce ayant l\\'habitude de mettre les mains dans le cambouis de la data Une première expérience dans un environnement data exigeant et si possible hands on (start up) est souhaitée ! Une bonne maitrise du SQL est un must have Une première expérience en Python, NoSQL ou R est un nice to have Bonne connaissance des logiques CRM (Hubspot est un plus) Profil bricoleur smart : les combinaisons astucieuses de Typeform, Zapier et les recherches de pépites sur des forums sont votre tasse de thé ! Possibilité d\\'être basé à Paris, à Aix en Provence ou encore en télétravail total ! Informations complémentaires Type de contrat : CDI Date de début : 20 mai 2020 Lieu : Paris, France (75011) Niveau d\\'études : Bac +5 / Master Expérience : > 1 an Télétravail total possible Salaire : entre 40000€ et 50000€ / an Postuler Voir toutes les autres offres de LiveMentor'"
     },
     "metadata": {},
     "execution_count": 162
    }
   ],
   "source": [
    "df2.iloc[18,:]['Description']"
   ]
  }
 ],
 "metadata": {
  "kernelspec": {
   "display_name": "Python 3",
   "language": "python",
   "name": "python3"
  },
  "language_info": {
   "codemirror_mode": {
    "name": "ipython",
    "version": 3
   },
   "file_extension": ".py",
   "mimetype": "text/x-python",
   "name": "python",
   "nbconvert_exporter": "python",
   "pygments_lexer": "ipython3",
   "version": "3.7.7-final"
  },
  "latex_envs": {
   "LaTeX_envs_menu_present": true,
   "autoclose": false,
   "autocomplete": true,
   "bibliofile": "biblio.bib",
   "cite_by": "apalike",
   "current_citInitial": 1,
   "eqLabelWithNumbers": true,
   "eqNumInitial": 1,
   "hotkeys": {
    "equation": "Ctrl-E",
    "itemize": "Ctrl-I"
   },
   "labels_anchors": false,
   "latex_user_defs": false,
   "report_style_numbering": false,
   "user_envs_cfg": false
  },
  "toc": {
   "base_numbering": 1,
   "nav_menu": {},
   "number_sections": true,
   "sideBar": true,
   "skip_h1_title": false,
   "title_cell": "Table of Contents",
   "title_sidebar": "Contents",
   "toc_cell": false,
   "toc_position": {},
   "toc_section_display": true,
   "toc_window_display": false
  },
  "varInspector": {
   "cols": {
    "lenName": 16,
    "lenType": 16,
    "lenVar": 40
   },
   "kernels_config": {
    "python": {
     "delete_cmd_postfix": "",
     "delete_cmd_prefix": "del ",
     "library": "var_list.py",
     "varRefreshCmd": "print(var_dic_list())"
    },
    "r": {
     "delete_cmd_postfix": ") ",
     "delete_cmd_prefix": "rm(",
     "library": "var_list.r",
     "varRefreshCmd": "cat(var_dic_list()) "
    }
   },
   "types_to_exclude": [
    "module",
    "function",
    "builtin_function_or_method",
    "instance",
    "_Feature"
   ],
   "window_display": false
  }
 },
 "nbformat": 4,
 "nbformat_minor": 4
}