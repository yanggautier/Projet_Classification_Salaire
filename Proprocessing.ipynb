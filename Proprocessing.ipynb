{
 "cells": [
  {
   "cell_type": "code",
   "execution_count": 182,
   "metadata": {
    "ExecuteTime": {
     "end_time": "2020-05-28T10:05:28.179190Z",
     "start_time": "2020-05-28T10:05:27.795220Z"
    }
   },
   "outputs": [],
   "source": [
    "import pandas as pd\n",
    "import re\n",
    "import numpy as np"
   ]
  },
  {
   "cell_type": "code",
   "execution_count": 183,
   "metadata": {},
   "outputs": [],
   "source": [
    "jobs = ['Data scientist', 'Python', 'JS', 'Java','Data scientist', 'Python', 'JS', 'Java']\n",
    "countrys = ['France','France','France','France', 'USA','USA','USA','USA']\n",
    "filenames = ['data/'+str.lower(job).replace(' ','')+str.lower(country)+'.csv' for job, country in zip(jobs,countrys) ]\n",
    "\n",
    "df = pd.concat([pd.read_csv(filename, sep=';', encoding=\"utf-8-sig\", index_col=0) for filename in filenames])"
   ]
  },
  {
   "cell_type": "code",
   "execution_count": 184,
   "metadata": {},
   "outputs": [],
   "source": [
    "skills = ['Python', 'R', 'SQL', 'NoSQL', 'GIT', 'Spark', 'Flask', 'Streamlit', 'Docker', 'Kubernetes', 'React', 'Machine-Learning', 'Deep Learning', 'NLP', 'Vue', 'Angular', 'Scala', 'PySpark','PowerBI', 'SQLServer', 'Dataiku','Data', 'Keras', 'Tensor-Flow', 'NLU', 'PyTorch', 'Scikit-Learn', 'SAAS', 'Java', 'Scikit learn', 'Hadoop', 'Hive', 'ML','DL', 'Azure', 'AWS']\n",
    "\n",
    "# contrats = ['CDI','CDD','Apprentissage','Contrat pro','Stage','Intérim','Freelance','Indépendant','Freelance']\n",
    "            \n",
    "studylevel_keywords = {'High School':['High School','Baccalauréat'],\n",
    "                       'Guaduate': ['Université','Universitaire','Formation supérieure','Guaduate','Bac +2','Bac +3','Bachelor'],\n",
    "                       'Master': ['Master','Master 2', 'Master +2', 'Bac +5', 'Grande école d\\'ingénieur','Bac +4/5','M2','Cursus ingénieur', 'engineer','Diplôme ingénieur'],\n",
    "                       'Doctor': ['Doctorat', 'Doctor'], \n",
    "                       'Formation': ['Formation Data Science']\n",
    "                       }\n",
    "\n",
    "explevel_keywords = {'Beginer':['Débutant', 'Beginer','No experience','Pas d`\\'expérience', '1 an', '0-1 an','0 - 1 an', '0/1 an','0 / 1 an'],\n",
    "                       'Intermediate': ['Intermédiaire','Intermediate','2 year', '3 year','2-3 year',  '2 ans', '2/3 an', '1-2 an','1-3  years'],\n",
    "                       'Confirmed': ['Confirmé','Confirmed','3 an','4 an','5 an','3 year','4 year','5 year','3-5 year','3-5 an','3/5 year', '3/5 an'],\n",
    "                       'Expert': ['Expert','6 year','7 year', '8 year', '9 year','6 an','7 an', '8 an','9 an','10 an','5-10 year','5-10 an','5 - 10 an','5/10 year', '5/10 an'],\n",
    "                       'Senior': ['Senior', '10+ years', '10+ an', '10 ans +','plus de 10 an']\n",
    "                       }"
   ]
  },
  {
   "cell_type": "code",
   "execution_count": 185,
   "metadata": {},
   "outputs": [],
   "source": [
    "# La fonction vérifie si un terme existe dans une chaîne de caractère\n",
    "def exist_in_array(x, dicto):\n",
    "\n",
    "    for key in dicto:\n",
    "        if any(str.lower(term) in str.lower(x) for term in dicto[key]):\n",
    "            return key\n",
    "\n",
    "\n",
    "# La fonction vérifie si dans la colonne ['Description'] de chaque ligne, s'il trouve descompétences dans le dictionnaire, si oui, il met un 1\n",
    "def skill_required(row, skills):\n",
    "\n",
    "    desc_low = str.lower(row['Description'])\n",
    "    \n",
    "    for skill in skills:\n",
    "\n",
    "        skill_low = str.lower(skill)\n",
    "\n",
    "        if (skill_low in desc_low) or (skill_low.replace(' ','') in desc_low) or (skill_low.replace('-','') in desc_low)  or (skill_low.replace('-',' ') in desc_low):\n",
    "            row[skill] = 1\n",
    "\n",
    "    return row\n",
    "\n",
    "# La fonction retourne le résultat obtenu à partir d'un string et regex\n",
    "def searchBy(x,pattern):\n",
    "    match = re.search(pattern,str.lower(x))\n",
    "    if match:\n",
    "        return match.group(0)\n",
    "\n",
    "# La fonction remplace valeurs nulles de la colonne ['Salaire'] par ['SalaryExtract'], si ['SalaryExtract'] n'est pas NaN\n",
    "def replace_empty_salary(row):\n",
    "\n",
    "    if row['SalaryExtract'] is not None: \n",
    "        if row['Salaire'] == 'None':\n",
    "            row['Salaire'] = row['SalaryExtract']\n",
    "        elif type(row['Salaire']) == float:\n",
    "            row['Salaire'] = row['SalaryExtract']\n",
    "        else:\n",
    "            pass\n",
    "    return row \n",
    "\n",
    "\n",
    "# Fonction qui retourne un numbre de format correcte à partir des nombres en format de string\n",
    "def correct_number(string):\n",
    "    numb_string = str(string).replace(' ','')\n",
    "\n",
    "   # Si le nombre a un virgule devant les deux dernier chiffres \n",
    "    if re.match('^.+[.]\\d{2}$',numb_string):\n",
    "        numb = numb_string.replace(',','')\n",
    "        return(float(numb))\n",
    "        \n",
    "   # Si le nombre a un point devant les deux dernier chiffres\n",
    "    elif re.match('^.+[,]\\d{2}$',numb_string):\n",
    "        numb = numb_string.replace(',','.')\n",
    "        return(float(numb))\n",
    "    \n",
    "   # Si le nombre n'a pas de point ni virgule devant les deux dernier chiffres\n",
    "    else:\n",
    "        numb = numb_string.replace(',','').replace('\\.','')\n",
    "        return(float(numb))\n",
    "\n",
    "\n",
    "# fonction qui sépare les salaire minimum et salaire maximum en 2 colonnes différents\n",
    "def minmaxSalary(row):\n",
    "    match = re.match(r'(?:\\D*)(?:[\\$€]?\\s?)((?:\\d+)(?:[\\.,\\s]?\\d{3})*(?:[\\s]?k)?(?:[\\.,\\s]\\d{2})?)(?:[\\s]?[\\$€]?[\\s]?(?:à|au|et|\\/|->?|to|and)?[\\s]?[\\$€]?\\s?)((?:\\d+)(?:[\\.,\\s]?\\d{3})*(?:[\\s]?k)?(?:[\\.,\\s]\\d{2})?)?',row['Salaire'])\n",
    "\n",
    "    # Si on obtient les salaire minimum et salaire maximum\n",
    "    if (len(match.groups(0))==2) and (match.groups(0)[1] != 0):\n",
    "\n",
    "        minSalary = correct_number(match.groups(0)[0])\n",
    "        maxSalary = correct_number(match.groups(0)[1])\n",
    "\n",
    "    # Si on obtient juste un salaire\n",
    "    elif match.groups(0)[1] == 0:\n",
    "\n",
    "        minSalary = correct_number(match.groups(0)[0])\n",
    "        maxSalary = minSalary\n",
    "\n",
    "    # Non retrouvé\n",
    "    else:\n",
    "\n",
    "        minSalary = np.nan\n",
    "        maxSalary = np.nan\n",
    "\n",
    "    #Si dans le salaire est indiqué le salaire par an\n",
    "    if re.search(r'(annually)|(year)|(((par)|(per)|(by)|(\\/)|(every)|(un)|(une))[\\s]?an)',row['Salaire']):\n",
    "        row['Salaire minimum par an'] = minSalary\n",
    "        row['Salaire maximum par an'] = maxSalary\n",
    "\n",
    "    #Si dans le salaire est indiqué le salaire par mois\n",
    "    elif re.search(r'(month)|(mensuel)|(mois)',row['Salaire']):\n",
    "        row['Salaire minimum par an'] = minSalary * 12\n",
    "        row['Salaire maximum par an'] = maxSalary * 12\n",
    "\n",
    "    #Si dans le salaire est indiqué le salaire par semaine\n",
    "    elif re.search(r'(week)|(semaine)|(hebdomadaire)',row['Salaire']):\n",
    "        row['Salaire minimum par an'] = minSalary *4 * 12\n",
    "        row['Salaire maximum par an'] = maxSalary *4 * 12\n",
    "    \n",
    "    #Si dans le salaire est indiqué le salaire par jour\n",
    "    elif re.search(r'(day)|(jour)',row['Salaire']):\n",
    "        row['Salaire minimum par an'] = minSalary *22 * 12\n",
    "        row['Salaire maximum par an'] = maxSalary *22 * 12\n",
    "    \n",
    "    #Si dans le salaire est indiqué le salaire par heure\n",
    "    elif re.search(r'(hour)|(heur)',row['Salaire']):\n",
    "        row['Salaire minimum par an'] = minSalary *8 * 22  * 12\n",
    "        row['Salaire maximum par an'] = maxSalary * 8 * 22  * 12\n",
    "        \n",
    "    #pour tout autres cas return np.nan\n",
    "    else:\n",
    "        row['Salaire minimum par an'] = np.nan\n",
    "        row['Salaire maximum par an'] = np.nan\n",
    "    return row\n",
    "         "
   ]
  },
  {
   "cell_type": "code",
   "execution_count": 186,
   "metadata": {},
   "outputs": [],
   "source": [
    "df['Study required'] = df['Description'].apply(lambda x: exist_in_array(x, studylevel_keywords))\n",
    "df['Experience required'] = df['Description'].apply(lambda x: exist_in_array(x, explevel_keywords))\n",
    "\n",
    "df = pd.concat([df, pd.DataFrame(columns=skills)])\n",
    "df = df.apply(lambda row: skill_required(row, skills), axis=1)"
   ]
  },
  {
   "cell_type": "code",
   "execution_count": 187,
   "metadata": {},
   "outputs": [],
   "source": [
    "salaryMatch = re.compile(r'((([\\$€]\\s?\\d+([\\.,\\s]?\\d{3})*[\\s]?k?([\\.,\\s]\\d{2})?([\\s]?((à)|(au)|(et)|(\\/)|(->?)|(to)|(and))?[\\s]?[\\$€]?[\\s]?\\d{1,3}([\\.,\\s]?\\d{3})*\\s?k?([\\.,\\s]?\\d{2})?)?)|((\\d+([\\.,\\s]?\\d{3})*\\s?k?([\\.,\\s]\\d{2})?\\s?[\\$€]?([\\s]?((à)|(au)|(et)|(and)|(\\/)|(->?)|(to))?[\\s]?\\d{1,3}([\\.,\\s]?\\d{3})*\\s?k?([\\.,\\s]\\d{2})?)?)[€\\$])[\\s]?)(\\s*(brut)?\\s*((par)|(a)|(an)|(per)|(by)|(\\/)|(every)|(un)|(une))[\\s]*((annually)|(heure)|(jour)|(hebdomadaire)|(mois)|(mensuel)|(hour)|(day)|(month)|(year)|(an))))')"
   ]
  },
  {
   "cell_type": "code",
   "execution_count": 188,
   "metadata": {},
   "outputs": [],
   "source": [
    "df['SalaryExtract'] = df['Description'].apply(lambda x: searchBy(x ,salaryMatch))\n",
    "df = df.apply(lambda row: replace_empty_salary(row), axis=1)\n",
    "df = df[df['Salaire']!= 'None']\n",
    "df['Salaire'].dropna(inplace=True)\n",
    "df.drop('Type de contrat', axis=1, inplace=True)\n",
    "df.drop('SalaryExtract',axis=1, inplace=True)\n",
    "df = df.drop_duplicates()\n",
    "df = pd.concat([df, pd.DataFrame(columns=['Salaire minimum par an','Salaire maximum par an'])])\n",
    "df = df.apply(lambda row: minmaxSalary(row), axis=1)\n",
    "df = df[df['Salaire minimum par an']>10000]"
   ]
  },
  {
   "cell_type": "code",
   "execution_count": 189,
   "metadata": {},
   "outputs": [
    {
     "output_type": "execute_result",
     "data": {
      "text/plain": "                                                                        Entreprise  \\\nData Scientist H/F                                                          AGYLIS   \nDATA SCIENTIST                                                             Servier   \nData scientist / machine learning engineer (H/F...                   ABSIS CONSEIL   \nData Scientist / Experience analyst                                     LIVEMENTOR   \nData Scientist Confirmé                                                     AGYLIS   \n...                                                                            ...   \nSr. Software Engineer                               GrayMatter Consulting Services   \nSr. Software Engineer - Full Stack, Angular and...                      Amway Inc.   \nSenior Software Engineering Careers                       Liberty Mutual Insurance   \nSenior Full Stack Developer                                                 SCALAR   \nSoftware Engineer III (Python, Java, AWS)new                       Piper Companies   \n\n                                                      Pays  \\\nData Scientist H/F                                  France   \nDATA SCIENTIST                                      France   \nData scientist / machine learning engineer (H/F...  France   \nData Scientist / Experience analyst                 France   \nData Scientist Confirmé                             France   \n...                                                    ...   \nSr. Software Engineer                                  USA   \nSr. Software Engineer - Full Stack, Angular and...     USA   \nSenior Software Engineering Careers                    USA   \nSenior Full Stack Developer                            USA   \nSoftware Engineer III (Python, Java, AWS)new           USA   \n\n                                                                                  Ville  \\\nData Scientist H/F                                                      La Défense (92)   \nDATA SCIENTIST                                                            Suresnes (92)   \nData scientist / machine learning engineer (H/F...              Fontenay-sous-Bois (94)   \nData Scientist / Experience analyst                                          Paris (75)   \nData Scientist Confirmé                                                      Paris (75)   \n...                                                                                 ...   \nSr. Software Engineer                                              Alpharetta, GA 30004   \nSr. Software Engineer - Full Stack, Angular and...                              Ada, MI   \nSenior Software Engineering Careers                                    Boston, MA 02101   \nSenior Full Stack Developer                                                  Draper, UT   \nSoftware Engineer III (Python, Java, AWS)new        Baltimore, MD 21202 (Old Town area)   \n\n                                                                       Salaire  \\\nData Scientist H/F                                  40 000 € - 50 000 € par an   \nDATA SCIENTIST                                                 65 000 € par an   \nData scientist / machine learning engineer (H/F...  55 000 € - 65 000 € par an   \nData Scientist / Experience analyst                 40 000 € - 50 000 € par an   \nData Scientist Confirmé                             3 029 € - 3 703 € par mois   \n...                                                                        ...   \nSr. Software Engineer                                          $111,384 a year   \nSr. Software Engineer - Full Stack, Angular and...              $96,000 a year   \nSenior Software Engineering Careers                  $95,000 - $170,000 a year   \nSenior Full Stack Developer                         $100,000 - $145,000 a year   \nSoftware Engineer III (Python, Java, AWS)new                   $130,000 a year   \n\n                                                                                          Description  \\\nData Scientist H/F                                  AGYLIS est un acteur important des Entreprise ...   \nDATA SCIENTIST                                      VOS MISSIONS : QUI NOUS SOMMES : Servier est u...   \nData scientist / machine learning engineer (H/F...  Descriptif de la mission (au sein d'une équipe...   \nData Scientist / Experience analyst                 À propos LiveMentor est la référence du coachi...   \nData Scientist Confirmé                             AGYLIS est un acteur important des Entreprise ...   \n...                                                                                               ...   \nSr. Software Engineer                               Require: Bachelor's degree or a foreign equiva...   \nSr. Software Engineer - Full Stack, Angular and...  Job title: Sr. Software Developer – Angular, J...   \nSenior Software Engineering Careers                 Thank you for considering software careers at ...   \nSenior Full Stack Developer                         Job Description Scalar is hiring a Senior Full...   \nSoftware Engineer III (Python, Java, AWS)new        Description Piper Companies is currently seeki...   \n\n                                                   Study required  \\\nData Scientist H/F                                         Master   \nDATA SCIENTIST                                           Guaduate   \nData scientist / machine learning engineer (H/F...           None   \nData Scientist / Experience analyst                        Master   \nData Scientist Confirmé                                    Master   \n...                                                           ...   \nSr. Software Engineer                                    Guaduate   \nSr. Software Engineer - Full Stack, Angular and...         Master   \nSenior Software Engineering Careers                        Master   \nSenior Full Stack Developer                              Guaduate   \nSoftware Engineer III (Python, Java, AWS)new             Guaduate   \n\n                                                   Experience required  \\\nData Scientist H/F                                             Beginer   \nDATA SCIENTIST                                               Confirmed   \nData scientist / machine learning engineer (H/F...              Expert   \nData Scientist / Experience analyst                            Beginer   \nData Scientist Confirmé                                      Confirmed   \n...                                                                ...   \nSr. Software Engineer                                             None   \nSr. Software Engineer - Full Stack, Angular and...              Expert   \nSenior Software Engineering Careers                             Expert   \nSenior Full Stack Developer                                     Senior   \nSoftware Engineer III (Python, Java, AWS)new                      None   \n\n                                                    Python    R  SQL  ...  \\\nData Scientist H/F                                     1.0  1.0  NaN  ...   \nDATA SCIENTIST                                         1.0  1.0  NaN  ...   \nData scientist / machine learning engineer (H/F...     1.0  1.0  NaN  ...   \nData Scientist / Experience analyst                    1.0  1.0  1.0  ...   \nData Scientist Confirmé                                1.0  1.0  1.0  ...   \n...                                                    ...  ...  ...  ...   \nSr. Software Engineer                                  NaN  1.0  1.0  ...   \nSr. Software Engineer - Full Stack, Angular and...     NaN  1.0  NaN  ...   \nSenior Software Engineering Careers                    NaN  1.0  NaN  ...   \nSenior Full Stack Developer                            1.0  1.0  1.0  ...   \nSoftware Engineer III (Python, Java, AWS)new           1.0  1.0  NaN  ...   \n\n                                                    Java  Scikit learn  \\\nData Scientist H/F                                   NaN           NaN   \nDATA SCIENTIST                                       NaN           NaN   \nData scientist / machine learning engineer (H/F...   NaN           NaN   \nData Scientist / Experience analyst                  NaN           NaN   \nData Scientist Confirmé                              NaN           NaN   \n...                                                  ...           ...   \nSr. Software Engineer                                1.0           NaN   \nSr. Software Engineer - Full Stack, Angular and...   1.0           NaN   \nSenior Software Engineering Careers                  1.0           NaN   \nSenior Full Stack Developer                          1.0           NaN   \nSoftware Engineer III (Python, Java, AWS)new         1.0           NaN   \n\n                                                    Hadoop  Hive   ML   DL  \\\nData Scientist H/F                                     NaN   NaN  1.0  1.0   \nDATA SCIENTIST                                         1.0   NaN  1.0  NaN   \nData scientist / machine learning engineer (H/F...     1.0   1.0  NaN  NaN   \nData Scientist / Experience analyst                    NaN   NaN  NaN  NaN   \nData Scientist Confirmé                                1.0   NaN  NaN  NaN   \n...                                                    ...   ...  ...  ...   \nSr. Software Engineer                                  NaN   NaN  NaN  NaN   \nSr. Software Engineer - Full Stack, Angular and...     NaN   NaN  NaN  NaN   \nSenior Software Engineering Careers                    NaN   NaN  NaN  NaN   \nSenior Full Stack Developer                            NaN   NaN  1.0  1.0   \nSoftware Engineer III (Python, Java, AWS)new           NaN   NaN  NaN  NaN   \n\n                                                    Azure  AWS  \\\nData Scientist H/F                                    1.0  1.0   \nDATA SCIENTIST                                        1.0  1.0   \nData scientist / machine learning engineer (H/F...    NaN  NaN   \nData Scientist / Experience analyst                   NaN  NaN   \nData Scientist Confirmé                               NaN  NaN   \n...                                                   ...  ...   \nSr. Software Engineer                                 NaN  NaN   \nSr. Software Engineer - Full Stack, Angular and...    1.0  1.0   \nSenior Software Engineering Careers                   1.0  1.0   \nSenior Full Stack Developer                           NaN  NaN   \nSoftware Engineer III (Python, Java, AWS)new          NaN  1.0   \n\n                                                    Salaire minimum par an  \\\nData Scientist H/F                                                 40000.0   \nDATA SCIENTIST                                                     65000.0   \nData scientist / machine learning engineer (H/F...                 55000.0   \nData Scientist / Experience analyst                                40000.0   \nData Scientist Confirmé                                            36348.0   \n...                                                                    ...   \nSr. Software Engineer                                             111384.0   \nSr. Software Engineer - Full Stack, Angular and...                 96000.0   \nSenior Software Engineering Careers                                95000.0   \nSenior Full Stack Developer                                       100000.0   \nSoftware Engineer III (Python, Java, AWS)new                      130000.0   \n\n                                                    Salaire maximum par an  \nData Scientist H/F                                                 50000.0  \nDATA SCIENTIST                                                     65000.0  \nData scientist / machine learning engineer (H/F...                 65000.0  \nData Scientist / Experience analyst                                50000.0  \nData Scientist Confirmé                                            44436.0  \n...                                                                    ...  \nSr. Software Engineer                                             111384.0  \nSr. Software Engineer - Full Stack, Angular and...                 96000.0  \nSenior Software Engineering Careers                               170000.0  \nSenior Full Stack Developer                                       145000.0  \nSoftware Engineer III (Python, Java, AWS)new                      130000.0  \n\n[440 rows x 45 columns]",
      "text/html": "<div>\n<style scoped>\n    .dataframe tbody tr th:only-of-type {\n        vertical-align: middle;\n    }\n\n    .dataframe tbody tr th {\n        vertical-align: top;\n    }\n\n    .dataframe thead th {\n        text-align: right;\n    }\n</style>\n<table border=\"1\" class=\"dataframe\">\n  <thead>\n    <tr style=\"text-align: right;\">\n      <th></th>\n      <th>Entreprise</th>\n      <th>Pays</th>\n      <th>Ville</th>\n      <th>Salaire</th>\n      <th>Description</th>\n      <th>Study required</th>\n      <th>Experience required</th>\n      <th>Python</th>\n      <th>R</th>\n      <th>SQL</th>\n      <th>...</th>\n      <th>Java</th>\n      <th>Scikit learn</th>\n      <th>Hadoop</th>\n      <th>Hive</th>\n      <th>ML</th>\n      <th>DL</th>\n      <th>Azure</th>\n      <th>AWS</th>\n      <th>Salaire minimum par an</th>\n      <th>Salaire maximum par an</th>\n    </tr>\n  </thead>\n  <tbody>\n    <tr>\n      <th>Data Scientist H/F</th>\n      <td>AGYLIS</td>\n      <td>France</td>\n      <td>La Défense (92)</td>\n      <td>40 000 € - 50 000 € par an</td>\n      <td>AGYLIS est un acteur important des Entreprise ...</td>\n      <td>Master</td>\n      <td>Beginer</td>\n      <td>1.0</td>\n      <td>1.0</td>\n      <td>NaN</td>\n      <td>...</td>\n      <td>NaN</td>\n      <td>NaN</td>\n      <td>NaN</td>\n      <td>NaN</td>\n      <td>1.0</td>\n      <td>1.0</td>\n      <td>1.0</td>\n      <td>1.0</td>\n      <td>40000.0</td>\n      <td>50000.0</td>\n    </tr>\n    <tr>\n      <th>DATA SCIENTIST</th>\n      <td>Servier</td>\n      <td>France</td>\n      <td>Suresnes (92)</td>\n      <td>65 000 € par an</td>\n      <td>VOS MISSIONS : QUI NOUS SOMMES : Servier est u...</td>\n      <td>Guaduate</td>\n      <td>Confirmed</td>\n      <td>1.0</td>\n      <td>1.0</td>\n      <td>NaN</td>\n      <td>...</td>\n      <td>NaN</td>\n      <td>NaN</td>\n      <td>1.0</td>\n      <td>NaN</td>\n      <td>1.0</td>\n      <td>NaN</td>\n      <td>1.0</td>\n      <td>1.0</td>\n      <td>65000.0</td>\n      <td>65000.0</td>\n    </tr>\n    <tr>\n      <th>Data scientist / machine learning engineer (H/F) - Expérienc...</th>\n      <td>ABSIS CONSEIL</td>\n      <td>France</td>\n      <td>Fontenay-sous-Bois (94)</td>\n      <td>55 000 € - 65 000 € par an</td>\n      <td>Descriptif de la mission (au sein d'une équipe...</td>\n      <td>None</td>\n      <td>Expert</td>\n      <td>1.0</td>\n      <td>1.0</td>\n      <td>NaN</td>\n      <td>...</td>\n      <td>NaN</td>\n      <td>NaN</td>\n      <td>1.0</td>\n      <td>1.0</td>\n      <td>NaN</td>\n      <td>NaN</td>\n      <td>NaN</td>\n      <td>NaN</td>\n      <td>55000.0</td>\n      <td>65000.0</td>\n    </tr>\n    <tr>\n      <th>Data Scientist / Experience analyst</th>\n      <td>LIVEMENTOR</td>\n      <td>France</td>\n      <td>Paris (75)</td>\n      <td>40 000 € - 50 000 € par an</td>\n      <td>À propos LiveMentor est la référence du coachi...</td>\n      <td>Master</td>\n      <td>Beginer</td>\n      <td>1.0</td>\n      <td>1.0</td>\n      <td>1.0</td>\n      <td>...</td>\n      <td>NaN</td>\n      <td>NaN</td>\n      <td>NaN</td>\n      <td>NaN</td>\n      <td>NaN</td>\n      <td>NaN</td>\n      <td>NaN</td>\n      <td>NaN</td>\n      <td>40000.0</td>\n      <td>50000.0</td>\n    </tr>\n    <tr>\n      <th>Data Scientist Confirmé</th>\n      <td>AGYLIS</td>\n      <td>France</td>\n      <td>Paris (75)</td>\n      <td>3 029 € - 3 703 € par mois</td>\n      <td>AGYLIS est un acteur important des Entreprise ...</td>\n      <td>Master</td>\n      <td>Confirmed</td>\n      <td>1.0</td>\n      <td>1.0</td>\n      <td>1.0</td>\n      <td>...</td>\n      <td>NaN</td>\n      <td>NaN</td>\n      <td>1.0</td>\n      <td>NaN</td>\n      <td>NaN</td>\n      <td>NaN</td>\n      <td>NaN</td>\n      <td>NaN</td>\n      <td>36348.0</td>\n      <td>44436.0</td>\n    </tr>\n    <tr>\n      <th>...</th>\n      <td>...</td>\n      <td>...</td>\n      <td>...</td>\n      <td>...</td>\n      <td>...</td>\n      <td>...</td>\n      <td>...</td>\n      <td>...</td>\n      <td>...</td>\n      <td>...</td>\n      <td>...</td>\n      <td>...</td>\n      <td>...</td>\n      <td>...</td>\n      <td>...</td>\n      <td>...</td>\n      <td>...</td>\n      <td>...</td>\n      <td>...</td>\n      <td>...</td>\n      <td>...</td>\n    </tr>\n    <tr>\n      <th>Sr. Software Engineer</th>\n      <td>GrayMatter Consulting Services</td>\n      <td>USA</td>\n      <td>Alpharetta, GA 30004</td>\n      <td>$111,384 a year</td>\n      <td>Require: Bachelor's degree or a foreign equiva...</td>\n      <td>Guaduate</td>\n      <td>None</td>\n      <td>NaN</td>\n      <td>1.0</td>\n      <td>1.0</td>\n      <td>...</td>\n      <td>1.0</td>\n      <td>NaN</td>\n      <td>NaN</td>\n      <td>NaN</td>\n      <td>NaN</td>\n      <td>NaN</td>\n      <td>NaN</td>\n      <td>NaN</td>\n      <td>111384.0</td>\n      <td>111384.0</td>\n    </tr>\n    <tr>\n      <th>Sr. Software Engineer - Full Stack, Angular and Java</th>\n      <td>Amway Inc.</td>\n      <td>USA</td>\n      <td>Ada, MI</td>\n      <td>$96,000 a year</td>\n      <td>Job title: Sr. Software Developer – Angular, J...</td>\n      <td>Master</td>\n      <td>Expert</td>\n      <td>NaN</td>\n      <td>1.0</td>\n      <td>NaN</td>\n      <td>...</td>\n      <td>1.0</td>\n      <td>NaN</td>\n      <td>NaN</td>\n      <td>NaN</td>\n      <td>NaN</td>\n      <td>NaN</td>\n      <td>1.0</td>\n      <td>1.0</td>\n      <td>96000.0</td>\n      <td>96000.0</td>\n    </tr>\n    <tr>\n      <th>Senior Software Engineering Careers</th>\n      <td>Liberty Mutual Insurance</td>\n      <td>USA</td>\n      <td>Boston, MA 02101</td>\n      <td>$95,000 - $170,000 a year</td>\n      <td>Thank you for considering software careers at ...</td>\n      <td>Master</td>\n      <td>Expert</td>\n      <td>NaN</td>\n      <td>1.0</td>\n      <td>NaN</td>\n      <td>...</td>\n      <td>1.0</td>\n      <td>NaN</td>\n      <td>NaN</td>\n      <td>NaN</td>\n      <td>NaN</td>\n      <td>NaN</td>\n      <td>1.0</td>\n      <td>1.0</td>\n      <td>95000.0</td>\n      <td>170000.0</td>\n    </tr>\n    <tr>\n      <th>Senior Full Stack Developer</th>\n      <td>SCALAR</td>\n      <td>USA</td>\n      <td>Draper, UT</td>\n      <td>$100,000 - $145,000 a year</td>\n      <td>Job Description Scalar is hiring a Senior Full...</td>\n      <td>Guaduate</td>\n      <td>Senior</td>\n      <td>1.0</td>\n      <td>1.0</td>\n      <td>1.0</td>\n      <td>...</td>\n      <td>1.0</td>\n      <td>NaN</td>\n      <td>NaN</td>\n      <td>NaN</td>\n      <td>1.0</td>\n      <td>1.0</td>\n      <td>NaN</td>\n      <td>NaN</td>\n      <td>100000.0</td>\n      <td>145000.0</td>\n    </tr>\n    <tr>\n      <th>Software Engineer III (Python, Java, AWS)new</th>\n      <td>Piper Companies</td>\n      <td>USA</td>\n      <td>Baltimore, MD 21202 (Old Town area)</td>\n      <td>$130,000 a year</td>\n      <td>Description Piper Companies is currently seeki...</td>\n      <td>Guaduate</td>\n      <td>None</td>\n      <td>1.0</td>\n      <td>1.0</td>\n      <td>NaN</td>\n      <td>...</td>\n      <td>1.0</td>\n      <td>NaN</td>\n      <td>NaN</td>\n      <td>NaN</td>\n      <td>NaN</td>\n      <td>NaN</td>\n      <td>NaN</td>\n      <td>1.0</td>\n      <td>130000.0</td>\n      <td>130000.0</td>\n    </tr>\n  </tbody>\n</table>\n<p>440 rows × 45 columns</p>\n</div>"
     },
     "metadata": {},
     "execution_count": 189
    }
   ],
   "source": [
    "df"
   ]
  },
  {
   "cell_type": "code",
   "execution_count": 179,
   "metadata": {},
   "outputs": [],
   "source": [
    "df['Classe de salaire'] = np.nan\n"
   ]
  }
 ],
 "metadata": {
  "kernelspec": {
   "display_name": "Python 3",
   "language": "python",
   "name": "python3"
  },
  "language_info": {
   "codemirror_mode": {
    "name": "ipython",
    "version": 3
   },
   "file_extension": ".py",
   "mimetype": "text/x-python",
   "name": "python",
   "nbconvert_exporter": "python",
   "pygments_lexer": "ipython3",
   "version": "3.7.7-final"
  },
  "latex_envs": {
   "LaTeX_envs_menu_present": true,
   "autoclose": false,
   "autocomplete": true,
   "bibliofile": "biblio.bib",
   "cite_by": "apalike",
   "current_citInitial": 1,
   "eqLabelWithNumbers": true,
   "eqNumInitial": 1,
   "hotkeys": {
    "equation": "Ctrl-E",
    "itemize": "Ctrl-I"
   },
   "labels_anchors": false,
   "latex_user_defs": false,
   "report_style_numbering": false,
   "user_envs_cfg": false
  },
  "toc": {
   "base_numbering": 1,
   "nav_menu": {},
   "number_sections": true,
   "sideBar": true,
   "skip_h1_title": false,
   "title_cell": "Table of Contents",
   "title_sidebar": "Contents",
   "toc_cell": false,
   "toc_position": {},
   "toc_section_display": true,
   "toc_window_display": false
  },
  "varInspector": {
   "cols": {
    "lenName": 16,
    "lenType": 16,
    "lenVar": 40
   },
   "kernels_config": {
    "python": {
     "delete_cmd_postfix": "",
     "delete_cmd_prefix": "del ",
     "library": "var_list.py",
     "varRefreshCmd": "print(var_dic_list())"
    },
    "r": {
     "delete_cmd_postfix": ") ",
     "delete_cmd_prefix": "rm(",
     "library": "var_list.r",
     "varRefreshCmd": "cat(var_dic_list()) "
    }
   },
   "types_to_exclude": [
    "module",
    "function",
    "builtin_function_or_method",
    "instance",
    "_Feature"
   ],
   "window_display": false
  }
 },
 "nbformat": 4,
 "nbformat_minor": 4
}