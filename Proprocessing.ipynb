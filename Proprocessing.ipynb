{
 "cells": [
  {
   "cell_type": "code",
   "execution_count": 248,
   "metadata": {
    "ExecuteTime": {
     "end_time": "2020-05-28T10:05:28.179190Z",
     "start_time": "2020-05-28T10:05:27.795220Z"
    }
   },
   "outputs": [],
   "source": [
    "import pandas as pd\n",
    "import numpy as np\n",
    "jobs = ['Data scientist', 'Python', 'JS', 'Java','Data scientist', 'Python', 'JS', 'Java']\n",
    "countrys = ['France','France','France','France', 'USA','USA','USA','USA']\n",
    "filenames = ['data/'+str.lower(job).replace(' ','')+str.lower(country)+'.csv' for job, country in zip(jobs,countrys) ]\n",
    "df = pd.concat([pd.read_csv(filename, sep=';', encoding=\"utf-8-sig\", index_col=0) for filename in filenames])"
   ]
  },
  {
   "cell_type": "code",
   "execution_count": 239,
   "metadata": {
    "ExecuteTime": {
     "end_time": "2020-05-28T10:08:14.917604Z",
     "start_time": "2020-05-28T10:08:14.903618Z"
    }
   },
   "outputs": [
    {
     "output_type": "execute_result",
     "data": {
      "text/plain": "                                                  Entreprise    Pays  \\\nPoste                                                                  \nAlternance - Data Scientist H/F             Malakoff Humanis  France   \nData Scientist H/F                                    AGYLIS  France   \nDATA SCIENTIST- F/H                               Ingeniance  France   \nData Scientist and Innovation Engineer H/F             HIPAY  France   \nASSISTANT DATA SCIENTIST                               Total  France   \n\n                                                            Ville  \\\nPoste                                                               \nAlternance - Data Scientist H/F                     Paris 9e (75)   \nData Scientist H/F                                La Défense (92)   \nDATA SCIENTIST- F/H                               La Défense (92)   \nData Scientist and Innovation Engineer H/F  Levallois-Perret (92)   \nASSISTANT DATA SCIENTIST                            Nanterre (92)   \n\n                                                       Type de contrat  \\\nPoste                                                                    \nAlternance - Data Scientist H/F             Apprentissage, Contrat pro   \nData Scientist H/F                                    Temps plein, CDI   \nDATA SCIENTIST- F/H                                                CDI   \nData Scientist and Innovation Engineer H/F                        None   \nASSISTANT DATA SCIENTIST                    Apprentissage, Contrat pro   \n\n                                                               Salaire  \\\nPoste                                                                    \nAlternance - Data Scientist H/F                                   None   \nData Scientist H/F                          40 000 € - 50 000 € par an   \nDATA SCIENTIST- F/H                                               None   \nData Scientist and Innovation Engineer H/F                        None   \nASSISTANT DATA SCIENTIST                                          None   \n\n                                                                                  Description  \nPoste                                                                                          \nAlternance - Data Scientist H/F             Contrat ALTERNANCE Finalité du poste Au sein d...  \nData Scientist H/F                          AGYLIS est un acteur important des Entreprise ...  \nDATA SCIENTIST- F/H                         Contexte: Vous assurez la production, la conce...  \nData Scientist and Innovation Engineer H/F  Notre métier HiPay est une Fintech Européenne ...  \nASSISTANT DATA SCIENTIST                    Monter un système de reporting pour la directi...  ",
      "text/html": "<div>\n<style scoped>\n    .dataframe tbody tr th:only-of-type {\n        vertical-align: middle;\n    }\n\n    .dataframe tbody tr th {\n        vertical-align: top;\n    }\n\n    .dataframe thead th {\n        text-align: right;\n    }\n</style>\n<table border=\"1\" class=\"dataframe\">\n  <thead>\n    <tr style=\"text-align: right;\">\n      <th></th>\n      <th>Entreprise</th>\n      <th>Pays</th>\n      <th>Ville</th>\n      <th>Type de contrat</th>\n      <th>Salaire</th>\n      <th>Description</th>\n    </tr>\n    <tr>\n      <th>Poste</th>\n      <th></th>\n      <th></th>\n      <th></th>\n      <th></th>\n      <th></th>\n      <th></th>\n    </tr>\n  </thead>\n  <tbody>\n    <tr>\n      <th>Alternance - Data Scientist H/F</th>\n      <td>Malakoff Humanis</td>\n      <td>France</td>\n      <td>Paris 9e (75)</td>\n      <td>Apprentissage, Contrat pro</td>\n      <td>None</td>\n      <td>Contrat ALTERNANCE Finalité du poste Au sein d...</td>\n    </tr>\n    <tr>\n      <th>Data Scientist H/F</th>\n      <td>AGYLIS</td>\n      <td>France</td>\n      <td>La Défense (92)</td>\n      <td>Temps plein, CDI</td>\n      <td>40 000 € - 50 000 € par an</td>\n      <td>AGYLIS est un acteur important des Entreprise ...</td>\n    </tr>\n    <tr>\n      <th>DATA SCIENTIST- F/H</th>\n      <td>Ingeniance</td>\n      <td>France</td>\n      <td>La Défense (92)</td>\n      <td>CDI</td>\n      <td>None</td>\n      <td>Contexte: Vous assurez la production, la conce...</td>\n    </tr>\n    <tr>\n      <th>Data Scientist and Innovation Engineer H/F</th>\n      <td>HIPAY</td>\n      <td>France</td>\n      <td>Levallois-Perret (92)</td>\n      <td>None</td>\n      <td>None</td>\n      <td>Notre métier HiPay est une Fintech Européenne ...</td>\n    </tr>\n    <tr>\n      <th>ASSISTANT DATA SCIENTIST</th>\n      <td>Total</td>\n      <td>France</td>\n      <td>Nanterre (92)</td>\n      <td>Apprentissage, Contrat pro</td>\n      <td>None</td>\n      <td>Monter un système de reporting pour la directi...</td>\n    </tr>\n  </tbody>\n</table>\n</div>"
     },
     "metadata": {},
     "execution_count": 239
    }
   ],
   "source": [
    "df.head()"
   ]
  },
  {
   "cell_type": "code",
   "execution_count": 249,
   "metadata": {
    "ExecuteTime": {
     "end_time": "2020-05-28T10:08:50.338620Z",
     "start_time": "2020-05-28T10:08:50.289710Z"
    }
   },
   "outputs": [],
   "source": [
    "df2 = df.drop_duplicates(subset=None, keep=\"first\")"
   ]
  },
  {
   "cell_type": "code",
   "execution_count": 257,
   "metadata": {
    "ExecuteTime": {
     "end_time": "2020-05-28T10:15:22.995751Z",
     "start_time": "2020-05-28T10:15:22.991736Z"
    }
   },
   "outputs": [],
   "source": [
    "skills = ['Python', 'R', 'SQL', 'NoSQL', 'GIT', 'Spark', 'Flask', 'Streamlit', 'Docker', 'Kubernetes', 'React', 'Machine-Learning', 'Deep Learning', 'NLP', 'Vue', 'Angular', 'Scala', 'PySpark','PowerBI', 'SQLServer', 'Dataiku', 'Keras', 'Tensor-Flow', 'NLU', 'PyTorch', 'Scikit-Learn', 'SAS', 'Java', 'Scikit learn', 'Hadoop', 'Hive', 'ML','DL', 'Azure', 'AWS']\n",
    "\n",
    "contrats = ['CDI','CDD','Apprentissage','Contrat pro','Stage','Intérim','Freelance','Indépendant','Freelance']\n",
    "            \n",
    "explevels = ['1 year','1+ year','1-2 years','1-3+ years','2 years','2+ years','two (2) years','4 years','3 years','4+ years','5 years','5+ years','10 years','4-6+ years']\n",
    "\n",
    "studylevels = ['formation supérieure','Diplôme ingénieur','Master', 'Master 2','Bac +2','Bac +3','Bac +4','Bac +5','grande école d\\'ingénieur','Bac +4/5','M2','Cursus ingénieur','formation Data Science ou IA','Formation Data Science ou IA','Formation Data Science','Université','Universitaire']\n",
    "\n",
    "worktimes = ['Full-time','Part-time','Remote','Internship','Contract','Temporary','Comission']\n",
    "\n",
    "worktime = ['Temps plein','Temps partiel']\n",
    "\n",
    "langages = ['Spanish','Chinese','Arab','French','Italian']\n",
    "\n",
    "usaSchoolLevels = ['High School','high school','College','Graduate','Master Degree','University','university','master','PhD','Associate\\'s degree','Bachelor Degree','Associate','Bachelor','Baccalaureate','baccalaureate','Bachelor of Science']\n",
    "\n",
    "salaries = ['\\$(\\d){2,3}\\,(\\d){3}( \\- )\\$(\\d){2,3}\\,(\\d){3}( a year)|\\$(\\d){2,3}\\,(\\d){3}( a year)|\\$(\\d){2}\\.(\\d){2}( \\- )\\$(\\d){2}\\.(\\d){2}( an hour)|\\$(\\d){2}\\.(\\d){2}( an hour)']\n"
   ]
  },
  {
   "cell_type": "code",
   "execution_count": 251,
   "metadata": {
    "ExecuteTime": {
     "end_time": "2020-05-28T10:21:01.108094Z",
     "start_time": "2020-05-28T10:21:00.935413Z"
    }
   },
   "outputs": [],
   "source": [
    "df2 = pd.concat([df2, pd.DataFrame(columns=skills)])"
   ]
  },
  {
   "cell_type": "code",
   "execution_count": 260,
   "metadata": {},
   "outputs": [],
   "source": [
    "def study_level_required(x):\n",
    "    for level in studylevels:\n",
    "        if level  in str.lower(x) or str.lower(level) in str.lower(x) or str.lower(level.replace(' ','')) in str.lower(x):\n",
    "            return level\n",
    "    return np.NaN\n",
    "\n",
    "df2['Study level required'] = df2['Description'].apply(lambda x : study_level_required(x))"
   ]
  },
  {
   "cell_type": "code",
   "execution_count": 253,
   "metadata": {},
   "outputs": [
    {
     "output_type": "execute_result",
     "data": {
      "text/plain": "2550"
     },
     "metadata": {},
     "execution_count": 253
    }
   ],
   "source": [
    "df2['Study level required'].isna().sum()"
   ]
  },
  {
   "cell_type": "code",
   "execution_count": 261,
   "metadata": {},
   "outputs": [],
   "source": [
    "def skill_required(row):\n",
    "\n",
    "    desc_low = str.lower(row['Description'])\n",
    "    \n",
    "    for skill in skills:\n",
    "\n",
    "        skill_low = str.lower(skill)\n",
    "\n",
    "        if (skill_low in desc_low) or (skill_low.replace(' ','') in desc_low) or (skill_low.replace('-','') in desc_low)  or (skill_low.replace('-',' ') in desc_low):\n",
    "            row[skill] = 1\n",
    "\n",
    "    return row"
   ]
  },
  {
   "cell_type": "code",
   "execution_count": 262,
   "metadata": {
    "tags": [
     "outputPrepend",
     "outputPrepend",
     "outputPrepend",
     "outputPrepend",
     "outputPrepend",
     "outputPrepend",
     "outputPrepend",
     "outputPrepend",
     "outputPrepend",
     "outputPrepend",
     "outputPrepend",
     "outputPrepend",
     "outputPrepend",
     "outputPrepend",
     "outputPrepend",
     "outputPrepend",
     "outputPrepend",
     "outputPrepend",
     "outputPrepend",
     "outputPrepend",
     "outputPrepend",
     "outputPrepend",
     "outputPrepend",
     "outputPrepend",
     "outputPrepend",
     "outputPrepend",
     "outputPrepend",
     "outputPrepend",
     "outputPrepend",
     "outputPrepend",
     "outputPrepend",
     "outputPrepend",
     "outputPrepend",
     "outputPrepend",
     "outputPrepend",
     "outputPrepend",
     "outputPrepend",
     "outputPrepend",
     "outputPrepend",
     "outputPrepend",
     "outputPrepend",
     "outputPrepend",
     "outputPrepend",
     "outputPrepend",
     "outputPrepend",
     "outputPrepend",
     "outputPrepend",
     "outputPrepend",
     "outputPrepend",
     "outputPrepend",
     "outputPrepend",
     "outputPrepend",
     "outputPrepend",
     "outputPrepend",
     "outputPrepend",
     "outputPrepend",
     "outputPrepend",
     "outputPrepend",
     "outputPrepend",
     "outputPrepend",
     "outputPrepend",
     "outputPrepend",
     "outputPrepend",
     "outputPrepend",
     "outputPrepend",
     "outputPrepend",
     "outputPrepend",
     "outputPrepend",
     "outputPrepend",
     "outputPrepend",
     "outputPrepend",
     "outputPrepend",
     "outputPrepend",
     "outputPrepend",
     "outputPrepend",
     "outputPrepend",
     "outputPrepend",
     "outputPrepend",
     "outputPrepend",
     "outputPrepend",
     "outputPrepend",
     "outputPrepend",
     "outputPrepend",
     "outputPrepend",
     "outputPrepend",
     "outputPrepend",
     "outputPrepend",
     "outputPrepend",
     "outputPrepend",
     "outputPrepend",
     "outputPrepend",
     "outputPrepend",
     "outputPrepend",
     "outputPrepend",
     "outputPrepend",
     "outputPrepend",
     "outputPrepend"
    ]
   },
   "outputs": [],
   "source": [
    "df2 = df2.apply(lambda row: skill_required(row), axis=1)"
   ]
  },
  {
   "cell_type": "code",
   "execution_count": 263,
   "metadata": {},
   "outputs": [
    {
     "output_type": "execute_result",
     "data": {
      "text/plain": "                                                        Entreprise    Pays  \\\nAlternance - Data Scientist H/F                   Malakoff Humanis  France   \nData Scientist H/F                                          AGYLIS  France   \nDATA SCIENTIST- F/H                                     Ingeniance  France   \nData Scientist and Innovation Engineer H/F                   HIPAY  France   \nASSISTANT DATA SCIENTIST                                     Total  France   \n...                                                            ...     ...   \nSenior Developer                                        VirtualMGA     USA   \nSenior Backend Engineer, Remote Assistance                  Cruise     USA   \nPrincipal Software Engineer/Architect                    Microsoft     USA   \nSr. Software Engineer                       Homecare Homebase, LLC     USA   \nSenior Software Developer, Full-Stack             Life House Group     USA   \n\n                                                                                     Ville  \\\nAlternance - Data Scientist H/F                                              Paris 9e (75)   \nData Scientist H/F                                                         La Défense (92)   \nDATA SCIENTIST- F/H                                                        La Défense (92)   \nData Scientist and Innovation Engineer H/F                           Levallois-Perret (92)   \nASSISTANT DATA SCIENTIST                                                     Nanterre (92)   \n...                                                                                    ...   \nSenior Developer                                                             United States   \nSenior Backend Engineer, Remote Assistance  San Francisco, CA 94103 (South of Market area)   \nPrincipal Software Engineer/Architect                                          Redmond, WA   \nSr. Software Engineer                                                       Louisville, KY   \nSenior Software Developer, Full-Stack                                         Montreal, WI   \n\n                                                       Type de contrat  \\\nAlternance - Data Scientist H/F             Apprentissage, Contrat pro   \nData Scientist H/F                                    Temps plein, CDI   \nDATA SCIENTIST- F/H                                                CDI   \nData Scientist and Innovation Engineer H/F                        None   \nASSISTANT DATA SCIENTIST                    Apprentissage, Contrat pro   \n...                                                                ...   \nSenior Developer                                                  None   \nSenior Backend Engineer, Remote Assistance                        None   \nPrincipal Software Engineer/Architect                             None   \nSr. Software Engineer                                             None   \nSenior Software Developer, Full-Stack                             None   \n\n                                                               Salaire  \\\nAlternance - Data Scientist H/F                                   None   \nData Scientist H/F                          40 000 € - 50 000 € par an   \nDATA SCIENTIST- F/H                                               None   \nData Scientist and Innovation Engineer H/F                        None   \nASSISTANT DATA SCIENTIST                                          None   \n...                                                                ...   \nSenior Developer                                                  None   \nSenior Backend Engineer, Remote Assistance                        None   \nPrincipal Software Engineer/Architect                             None   \nSr. Software Engineer                                             None   \nSenior Software Developer, Full-Stack                             None   \n\n                                                                                  Description  \\\nAlternance - Data Scientist H/F             Contrat ALTERNANCE Finalité du poste Au sein d...   \nData Scientist H/F                          AGYLIS est un acteur important des Entreprise ...   \nDATA SCIENTIST- F/H                         Contexte: Vous assurez la production, la conce...   \nData Scientist and Innovation Engineer H/F  Notre métier HiPay est une Fintech Européenne ...   \nASSISTANT DATA SCIENTIST                    Monter un système de reporting pour la directi...   \n...                                                                                       ...   \nSenior Developer                            Virtual MGA is searching for someone who can w...   \nSenior Backend Engineer, Remote Assistance  We're Cruise, the self-driving ride-hailing se...   \nPrincipal Software Engineer/Architect       Are you interested in joining a startup within...   \nSr. Software Engineer                       Position Summary A Senior Software Engineer wo...   \nSenior Software Developer, Full-Stack       OUR COMPANY Life House Group is a vertically-i...   \n\n                                            Python    R  SQL  NoSQL  ...  SAS  \\\nAlternance - Data Scientist H/F                1.0  1.0  NaN    NaN  ...  NaN   \nData Scientist H/F                             1.0  1.0  NaN    NaN  ...  NaN   \nDATA SCIENTIST- F/H                            NaN  1.0  NaN    NaN  ...  NaN   \nData Scientist and Innovation Engineer H/F     1.0  1.0  1.0    1.0  ...  NaN   \nASSISTANT DATA SCIENTIST                       NaN  1.0  NaN    NaN  ...  NaN   \n...                                            ...  ...  ...    ...  ...  ...   \nSenior Developer                               NaN  1.0  1.0    NaN  ...  NaN   \nSenior Backend Engineer, Remote Assistance     NaN  1.0  1.0    1.0  ...  NaN   \nPrincipal Software Engineer/Architect          NaN  1.0  1.0    NaN  ...  NaN   \nSr. Software Engineer                          NaN  1.0  1.0    NaN  ...  NaN   \nSenior Software Developer, Full-Stack          1.0  1.0  NaN    NaN  ...  NaN   \n\n                                            Java  Scikit learn  Hadoop  Hive  \\\nAlternance - Data Scientist H/F              NaN           NaN     NaN   NaN   \nData Scientist H/F                           NaN           NaN     NaN   NaN   \nDATA SCIENTIST- F/H                          NaN           NaN     NaN   NaN   \nData Scientist and Innovation Engineer H/F   NaN           NaN     NaN   NaN   \nASSISTANT DATA SCIENTIST                     NaN           NaN     NaN   NaN   \n...                                          ...           ...     ...   ...   \nSenior Developer                             1.0           NaN     NaN   NaN   \nSenior Backend Engineer, Remote Assistance   1.0           NaN     NaN   NaN   \nPrincipal Software Engineer/Architect        1.0           NaN     1.0   NaN   \nSr. Software Engineer                        1.0           NaN     NaN   NaN   \nSenior Software Developer, Full-Stack        1.0           NaN     NaN   NaN   \n\n                                             ML   DL  Azure  AWS  \\\nAlternance - Data Scientist H/F             NaN  NaN    NaN  NaN   \nData Scientist H/F                          1.0  1.0    1.0  1.0   \nDATA SCIENTIST- F/H                         NaN  NaN    NaN  NaN   \nData Scientist and Innovation Engineer H/F  NaN  NaN    NaN  NaN   \nASSISTANT DATA SCIENTIST                    NaN  NaN    NaN  NaN   \n...                                         ...  ...    ...  ...   \nSenior Developer                            1.0  NaN    NaN  1.0   \nSenior Backend Engineer, Remote Assistance  NaN  1.0    NaN  1.0   \nPrincipal Software Engineer/Architect       NaN  1.0    1.0  1.0   \nSr. Software Engineer                       NaN  NaN    NaN  NaN   \nSenior Software Developer, Full-Stack       NaN  1.0    NaN  NaN   \n\n                                            Study level required  \nAlternance - Data Scientist H/F                           Bac +5  \nData Scientist H/F                                        Master  \nDATA SCIENTIST- F/H                                       Bac +5  \nData Scientist and Innovation Engineer H/F                   NaN  \nASSISTANT DATA SCIENTIST                                  Bac +5  \n...                                                          ...  \nSenior Developer                                             NaN  \nSenior Backend Engineer, Remote Assistance                Master  \nPrincipal Software Engineer/Architect                        NaN  \nSr. Software Engineer                                        NaN  \nSenior Software Developer, Full-Stack                        NaN  \n\n[3199 rows x 42 columns]",
      "text/html": "<div>\n<style scoped>\n    .dataframe tbody tr th:only-of-type {\n        vertical-align: middle;\n    }\n\n    .dataframe tbody tr th {\n        vertical-align: top;\n    }\n\n    .dataframe thead th {\n        text-align: right;\n    }\n</style>\n<table border=\"1\" class=\"dataframe\">\n  <thead>\n    <tr style=\"text-align: right;\">\n      <th></th>\n      <th>Entreprise</th>\n      <th>Pays</th>\n      <th>Ville</th>\n      <th>Type de contrat</th>\n      <th>Salaire</th>\n      <th>Description</th>\n      <th>Python</th>\n      <th>R</th>\n      <th>SQL</th>\n      <th>NoSQL</th>\n      <th>...</th>\n      <th>SAS</th>\n      <th>Java</th>\n      <th>Scikit learn</th>\n      <th>Hadoop</th>\n      <th>Hive</th>\n      <th>ML</th>\n      <th>DL</th>\n      <th>Azure</th>\n      <th>AWS</th>\n      <th>Study level required</th>\n    </tr>\n  </thead>\n  <tbody>\n    <tr>\n      <th>Alternance - Data Scientist H/F</th>\n      <td>Malakoff Humanis</td>\n      <td>France</td>\n      <td>Paris 9e (75)</td>\n      <td>Apprentissage, Contrat pro</td>\n      <td>None</td>\n      <td>Contrat ALTERNANCE Finalité du poste Au sein d...</td>\n      <td>1.0</td>\n      <td>1.0</td>\n      <td>NaN</td>\n      <td>NaN</td>\n      <td>...</td>\n      <td>NaN</td>\n      <td>NaN</td>\n      <td>NaN</td>\n      <td>NaN</td>\n      <td>NaN</td>\n      <td>NaN</td>\n      <td>NaN</td>\n      <td>NaN</td>\n      <td>NaN</td>\n      <td>Bac +5</td>\n    </tr>\n    <tr>\n      <th>Data Scientist H/F</th>\n      <td>AGYLIS</td>\n      <td>France</td>\n      <td>La Défense (92)</td>\n      <td>Temps plein, CDI</td>\n      <td>40 000 € - 50 000 € par an</td>\n      <td>AGYLIS est un acteur important des Entreprise ...</td>\n      <td>1.0</td>\n      <td>1.0</td>\n      <td>NaN</td>\n      <td>NaN</td>\n      <td>...</td>\n      <td>NaN</td>\n      <td>NaN</td>\n      <td>NaN</td>\n      <td>NaN</td>\n      <td>NaN</td>\n      <td>1.0</td>\n      <td>1.0</td>\n      <td>1.0</td>\n      <td>1.0</td>\n      <td>Master</td>\n    </tr>\n    <tr>\n      <th>DATA SCIENTIST- F/H</th>\n      <td>Ingeniance</td>\n      <td>France</td>\n      <td>La Défense (92)</td>\n      <td>CDI</td>\n      <td>None</td>\n      <td>Contexte: Vous assurez la production, la conce...</td>\n      <td>NaN</td>\n      <td>1.0</td>\n      <td>NaN</td>\n      <td>NaN</td>\n      <td>...</td>\n      <td>NaN</td>\n      <td>NaN</td>\n      <td>NaN</td>\n      <td>NaN</td>\n      <td>NaN</td>\n      <td>NaN</td>\n      <td>NaN</td>\n      <td>NaN</td>\n      <td>NaN</td>\n      <td>Bac +5</td>\n    </tr>\n    <tr>\n      <th>Data Scientist and Innovation Engineer H/F</th>\n      <td>HIPAY</td>\n      <td>France</td>\n      <td>Levallois-Perret (92)</td>\n      <td>None</td>\n      <td>None</td>\n      <td>Notre métier HiPay est une Fintech Européenne ...</td>\n      <td>1.0</td>\n      <td>1.0</td>\n      <td>1.0</td>\n      <td>1.0</td>\n      <td>...</td>\n      <td>NaN</td>\n      <td>NaN</td>\n      <td>NaN</td>\n      <td>NaN</td>\n      <td>NaN</td>\n      <td>NaN</td>\n      <td>NaN</td>\n      <td>NaN</td>\n      <td>NaN</td>\n      <td>NaN</td>\n    </tr>\n    <tr>\n      <th>ASSISTANT DATA SCIENTIST</th>\n      <td>Total</td>\n      <td>France</td>\n      <td>Nanterre (92)</td>\n      <td>Apprentissage, Contrat pro</td>\n      <td>None</td>\n      <td>Monter un système de reporting pour la directi...</td>\n      <td>NaN</td>\n      <td>1.0</td>\n      <td>NaN</td>\n      <td>NaN</td>\n      <td>...</td>\n      <td>NaN</td>\n      <td>NaN</td>\n      <td>NaN</td>\n      <td>NaN</td>\n      <td>NaN</td>\n      <td>NaN</td>\n      <td>NaN</td>\n      <td>NaN</td>\n      <td>NaN</td>\n      <td>Bac +5</td>\n    </tr>\n    <tr>\n      <th>...</th>\n      <td>...</td>\n      <td>...</td>\n      <td>...</td>\n      <td>...</td>\n      <td>...</td>\n      <td>...</td>\n      <td>...</td>\n      <td>...</td>\n      <td>...</td>\n      <td>...</td>\n      <td>...</td>\n      <td>...</td>\n      <td>...</td>\n      <td>...</td>\n      <td>...</td>\n      <td>...</td>\n      <td>...</td>\n      <td>...</td>\n      <td>...</td>\n      <td>...</td>\n      <td>...</td>\n    </tr>\n    <tr>\n      <th>Senior Developer</th>\n      <td>VirtualMGA</td>\n      <td>USA</td>\n      <td>United States</td>\n      <td>None</td>\n      <td>None</td>\n      <td>Virtual MGA is searching for someone who can w...</td>\n      <td>NaN</td>\n      <td>1.0</td>\n      <td>1.0</td>\n      <td>NaN</td>\n      <td>...</td>\n      <td>NaN</td>\n      <td>1.0</td>\n      <td>NaN</td>\n      <td>NaN</td>\n      <td>NaN</td>\n      <td>1.0</td>\n      <td>NaN</td>\n      <td>NaN</td>\n      <td>1.0</td>\n      <td>NaN</td>\n    </tr>\n    <tr>\n      <th>Senior Backend Engineer, Remote Assistance</th>\n      <td>Cruise</td>\n      <td>USA</td>\n      <td>San Francisco, CA 94103 (South of Market area)</td>\n      <td>None</td>\n      <td>None</td>\n      <td>We're Cruise, the self-driving ride-hailing se...</td>\n      <td>NaN</td>\n      <td>1.0</td>\n      <td>1.0</td>\n      <td>1.0</td>\n      <td>...</td>\n      <td>NaN</td>\n      <td>1.0</td>\n      <td>NaN</td>\n      <td>NaN</td>\n      <td>NaN</td>\n      <td>NaN</td>\n      <td>1.0</td>\n      <td>NaN</td>\n      <td>1.0</td>\n      <td>Master</td>\n    </tr>\n    <tr>\n      <th>Principal Software Engineer/Architect</th>\n      <td>Microsoft</td>\n      <td>USA</td>\n      <td>Redmond, WA</td>\n      <td>None</td>\n      <td>None</td>\n      <td>Are you interested in joining a startup within...</td>\n      <td>NaN</td>\n      <td>1.0</td>\n      <td>1.0</td>\n      <td>NaN</td>\n      <td>...</td>\n      <td>NaN</td>\n      <td>1.0</td>\n      <td>NaN</td>\n      <td>1.0</td>\n      <td>NaN</td>\n      <td>NaN</td>\n      <td>1.0</td>\n      <td>1.0</td>\n      <td>1.0</td>\n      <td>NaN</td>\n    </tr>\n    <tr>\n      <th>Sr. Software Engineer</th>\n      <td>Homecare Homebase, LLC</td>\n      <td>USA</td>\n      <td>Louisville, KY</td>\n      <td>None</td>\n      <td>None</td>\n      <td>Position Summary A Senior Software Engineer wo...</td>\n      <td>NaN</td>\n      <td>1.0</td>\n      <td>1.0</td>\n      <td>NaN</td>\n      <td>...</td>\n      <td>NaN</td>\n      <td>1.0</td>\n      <td>NaN</td>\n      <td>NaN</td>\n      <td>NaN</td>\n      <td>NaN</td>\n      <td>NaN</td>\n      <td>NaN</td>\n      <td>NaN</td>\n      <td>NaN</td>\n    </tr>\n    <tr>\n      <th>Senior Software Developer, Full-Stack</th>\n      <td>Life House Group</td>\n      <td>USA</td>\n      <td>Montreal, WI</td>\n      <td>None</td>\n      <td>None</td>\n      <td>OUR COMPANY Life House Group is a vertically-i...</td>\n      <td>1.0</td>\n      <td>1.0</td>\n      <td>NaN</td>\n      <td>NaN</td>\n      <td>...</td>\n      <td>NaN</td>\n      <td>1.0</td>\n      <td>NaN</td>\n      <td>NaN</td>\n      <td>NaN</td>\n      <td>NaN</td>\n      <td>1.0</td>\n      <td>NaN</td>\n      <td>NaN</td>\n      <td>NaN</td>\n    </tr>\n  </tbody>\n</table>\n<p>3199 rows × 42 columns</p>\n</div>"
     },
     "metadata": {},
     "execution_count": 263
    }
   ],
   "source": [
    "df2"
   ]
  },
  {
   "cell_type": "code",
   "execution_count": 152,
   "metadata": {},
   "outputs": [
    {
     "output_type": "execute_result",
     "data": {
      "text/plain": "\"Contexte: Vous assurez la production, la conception et la mise en oeuvre des nouvelles solutions ainsi que la définition des standards et de la stratégie et serez également en charge du développement de l'Intelligence Artificielle et de la Data Science appliquée à l'infrastructure informatique d'une grande banque d'investissement.  Missions: Formaliser des problématiques business (infrastructure IT) en projet de data science Proposer des évolutions des produits existants ou de nouveaux produits Contribuer au développement de MVP et de data products de production Contribuer au suivi et à l'amélioration continue des data products en production Proposer et mettre en oeuvre l'industrialisation du machine Learning  Environnement: Scoping des projets et définition des portefeuilles de projets Data Science Suivi et réalisation des projets de data science Maquettes ou MVPs Bonnes pratiques data science Pipelines industriels de machine learning Profil recherché: Diplômé(e) d'une grande école d'ingénieurs ou de formation équivalente (Bac+5), vous avez un excellent relationnel et disposez d'une bonne capacité d'analyse. Bonnes pratiques de la data science Vous justifiez d'une expérience en finance de marché, alliée à un bon niveau en anglais. La disponibilité, la résistance au stress et le sens de la gestion des priorités sont également indispensables.   INGENIANCE est une société jeune et dynamique qui stimule l'innovation et la transformation digitale par l'accompagnement de ses clients dans leurs projets liés aux nouvelles technologies.  Spécialiste des secteurs Banque, Finance et Assurance, INGENIANCE est également une entreprise technology-oriented qui offre une expertise multi-sectorielle autour du Big Data, du développement informatique, de la Blockchain et de la philosophie DevOps.  Ceci permet à INGENIANCE de se positionner comme une entreprise leader du marché financier et avant-gardiste des technologies disruptives.\""
     },
     "metadata": {},
     "execution_count": 152
    }
   ],
   "source": [
    "df2.iloc[2][5]"
   ]
  },
  {
   "cell_type": "code",
   "execution_count": 95,
   "metadata": {},
   "outputs": [
    {
     "output_type": "stream",
     "name": "stdout",
     "text": "Master\n"
    }
   ],
   "source": []
  }
 ],
 "metadata": {
  "kernelspec": {
   "display_name": "Python 3",
   "language": "python",
   "name": "python3"
  },
  "language_info": {
   "codemirror_mode": {
    "name": "ipython",
    "version": 3
   },
   "file_extension": ".py",
   "mimetype": "text/x-python",
   "name": "python",
   "nbconvert_exporter": "python",
   "pygments_lexer": "ipython3",
   "version": "3.7.7-final"
  },
  "latex_envs": {
   "LaTeX_envs_menu_present": true,
   "autoclose": false,
   "autocomplete": true,
   "bibliofile": "biblio.bib",
   "cite_by": "apalike",
   "current_citInitial": 1,
   "eqLabelWithNumbers": true,
   "eqNumInitial": 1,
   "hotkeys": {
    "equation": "Ctrl-E",
    "itemize": "Ctrl-I"
   },
   "labels_anchors": false,
   "latex_user_defs": false,
   "report_style_numbering": false,
   "user_envs_cfg": false
  },
  "toc": {
   "base_numbering": 1,
   "nav_menu": {},
   "number_sections": true,
   "sideBar": true,
   "skip_h1_title": false,
   "title_cell": "Table of Contents",
   "title_sidebar": "Contents",
   "toc_cell": false,
   "toc_position": {},
   "toc_section_display": true,
   "toc_window_display": false
  },
  "varInspector": {
   "cols": {
    "lenName": 16,
    "lenType": 16,
    "lenVar": 40
   },
   "kernels_config": {
    "python": {
     "delete_cmd_postfix": "",
     "delete_cmd_prefix": "del ",
     "library": "var_list.py",
     "varRefreshCmd": "print(var_dic_list())"
    },
    "r": {
     "delete_cmd_postfix": ") ",
     "delete_cmd_prefix": "rm(",
     "library": "var_list.r",
     "varRefreshCmd": "cat(var_dic_list()) "
    }
   },
   "types_to_exclude": [
    "module",
    "function",
    "builtin_function_or_method",
    "instance",
    "_Feature"
   ],
   "window_display": false
  }
 },
 "nbformat": 4,
 "nbformat_minor": 4
}